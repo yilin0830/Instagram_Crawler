{
  "cells": [
    {
      "cell_type": "code",
      "execution_count": null,
      "metadata": {
        "scrolled": true,
        "id": "RkkMZ6cNcVvk",
        "outputId": "502993fe-a265-4566-8c95-1cf069d8d0e7"
      },
      "outputs": [
        {
          "data": {
            "text/plain": [
              "(22380, 14)"
            ]
          },
          "execution_count": 219,
          "metadata": {},
          "output_type": "execute_result"
        }
      ],
      "source": [
        "import pandas as pd\n",
        "df = pd.read_csv(\"./chinesetaipei.csv\") \n",
        "df.shape"
      ]
    },
    {
      "cell_type": "code",
      "execution_count": null,
      "metadata": {
        "scrolled": true,
        "id": "lA4vwkTscVvn",
        "outputId": "9618a3cd-7617-4763-98c2-eba5ad5e1162"
      },
      "outputs": [
        {
          "name": "stdout",
          "output_type": "stream",
          "text": [
            "<class 'pandas.core.frame.DataFrame'>\n",
            "RangeIndex: 22380 entries, 0 to 22379\n",
            "Data columns (total 17 columns):\n",
            "comments_disabled          22380 non-null bool\n",
            "__typename                 22380 non-null object\n",
            "__id                       22380 non-null int64\n",
            "text                       22359 non-null object\n",
            "shortcode                  22380 non-null object\n",
            "link                       22380 non-null object\n",
            "edge_media_to_comment      22380 non-null int64\n",
            "taken_at_timestamp         22380 non-null int64\n",
            "display_url                22380 non-null object\n",
            "edge_liked_by              22380 non-null int64\n",
            "edge_media_preview_like    22380 non-null int64\n",
            "owner                      22380 non-null int64\n",
            "is_video                   22380 non-null bool\n",
            "accessibility_caption      20125 non-null object\n",
            "count                      22380 non-null int64\n",
            "date                       22380 non-null datetime64[ns]\n",
            "sentiment                  22380 non-null float64\n",
            "dtypes: bool(2), datetime64[ns](1), float64(1), int64(7), object(6)\n",
            "memory usage: 2.6+ MB\n"
          ]
        }
      ],
      "source": [
        "df['count'] = 1\n",
        "df.info()"
      ]
    },
    {
      "cell_type": "code",
      "execution_count": null,
      "metadata": {
        "scrolled": true,
        "id": "ZbROQNbucVvo",
        "outputId": "be28c96a-08e3-43e7-a0b7-28806ef87f06"
      },
      "outputs": [
        {
          "data": {
            "text/html": [
              "<div>\n",
              "<style scoped>\n",
              "    .dataframe tbody tr th:only-of-type {\n",
              "        vertical-align: middle;\n",
              "    }\n",
              "\n",
              "    .dataframe tbody tr th {\n",
              "        vertical-align: top;\n",
              "    }\n",
              "\n",
              "    .dataframe thead th {\n",
              "        text-align: right;\n",
              "    }\n",
              "</style>\n",
              "<table border=\"1\" class=\"dataframe\">\n",
              "  <thead>\n",
              "    <tr style=\"text-align: right;\">\n",
              "      <th></th>\n",
              "      <th>comments_disabled</th>\n",
              "      <th>__typename</th>\n",
              "      <th>__id</th>\n",
              "      <th>text</th>\n",
              "      <th>shortcode</th>\n",
              "      <th>link</th>\n",
              "      <th>edge_media_to_comment</th>\n",
              "      <th>taken_at_timestamp</th>\n",
              "      <th>display_url</th>\n",
              "      <th>edge_liked_by</th>\n",
              "      <th>edge_media_preview_like</th>\n",
              "      <th>owner</th>\n",
              "      <th>is_video</th>\n",
              "      <th>accessibility_caption</th>\n",
              "      <th>count</th>\n",
              "      <th>date</th>\n",
              "    </tr>\n",
              "  </thead>\n",
              "  <tbody>\n",
              "    <tr>\n",
              "      <th>0</th>\n",
              "      <td>False</td>\n",
              "      <td>GraphVideo</td>\n",
              "      <td>2334814426258311142</td>\n",
              "      <td>Video of \"3x3.EXE PREMIER 2020 Press Conferenc...</td>\n",
              "      <td>CBm7VmtlYfm</td>\n",
              "      <td>https://www.instagram.com/p/CBm7VmtlYfm/</td>\n",
              "      <td>0</td>\n",
              "      <td>1592551804</td>\n",
              "      <td>https://scontent-hkg4-1.cdninstagram.com/v/t51...</td>\n",
              "      <td>68</td>\n",
              "      <td>68</td>\n",
              "      <td>461806954</td>\n",
              "      <td>True</td>\n",
              "      <td>NaN</td>\n",
              "      <td>1</td>\n",
              "      <td>2020-06-19 15:30:04</td>\n",
              "    </tr>\n",
              "    <tr>\n",
              "      <th>1</th>\n",
              "      <td>False</td>\n",
              "      <td>GraphVideo</td>\n",
              "      <td>2334762612091069884</td>\n",
              "      <td>Watch highlights from the #FIBAAsiaCup 2021 Qu...</td>\n",
              "      <td>CBmvjnAjSW8</td>\n",
              "      <td>https://www.instagram.com/p/CBmvjnAjSW8/</td>\n",
              "      <td>7</td>\n",
              "      <td>1592545510</td>\n",
              "      <td>https://scontent-hkg4-1.cdninstagram.com/v/t51...</td>\n",
              "      <td>575</td>\n",
              "      <td>575</td>\n",
              "      <td>6301659220</td>\n",
              "      <td>True</td>\n",
              "      <td>NaN</td>\n",
              "      <td>1</td>\n",
              "      <td>2020-06-19 13:45:10</td>\n",
              "    </tr>\n",
              "    <tr>\n",
              "      <th>2</th>\n",
              "      <td>False</td>\n",
              "      <td>GraphVideo</td>\n",
              "      <td>2334691144557228262</td>\n",
              "      <td>Betapa sulitnya belajar Hatsuon mandarin. Keli...</td>\n",
              "      <td>CBmfTnrlXDm</td>\n",
              "      <td>https://www.instagram.com/p/CBmfTnrlXDm/</td>\n",
              "      <td>4</td>\n",
              "      <td>1592536951</td>\n",
              "      <td>https://scontent-hkg4-1.cdninstagram.com/v/t51...</td>\n",
              "      <td>38</td>\n",
              "      <td>38</td>\n",
              "      <td>3057824583</td>\n",
              "      <td>True</td>\n",
              "      <td>NaN</td>\n",
              "      <td>1</td>\n",
              "      <td>2020-06-19 11:22:31</td>\n",
              "    </tr>\n",
              "    <tr>\n",
              "      <th>3</th>\n",
              "      <td>False</td>\n",
              "      <td>GraphImage</td>\n",
              "      <td>2334685614753742224</td>\n",
              "      <td>🇹🇼 The proposed new Taiwanese professional lea...</td>\n",
              "      <td>CBmeDJpnH2Q</td>\n",
              "      <td>https://www.instagram.com/p/CBmeDJpnH2Q/</td>\n",
              "      <td>4</td>\n",
              "      <td>1592536235</td>\n",
              "      <td>https://scontent-hkg4-1.cdninstagram.com/v/t51...</td>\n",
              "      <td>45</td>\n",
              "      <td>45</td>\n",
              "      <td>1436690371</td>\n",
              "      <td>False</td>\n",
              "      <td>Photo by Asia Pacific Hoops in Chinese Taipei ...</td>\n",
              "      <td>1</td>\n",
              "      <td>2020-06-19 11:10:35</td>\n",
              "    </tr>\n",
              "    <tr>\n",
              "      <th>4</th>\n",
              "      <td>False</td>\n",
              "      <td>GraphImage</td>\n",
              "      <td>2334513241575513082</td>\n",
              "      <td>Sendiri pun jadi kok ke cafe diaz, toh ada pem...</td>\n",
              "      <td>CBl22ynjdv6</td>\n",
              "      <td>https://www.instagram.com/p/CBl22ynjdv6/</td>\n",
              "      <td>0</td>\n",
              "      <td>1592515686</td>\n",
              "      <td>https://scontent-hkg4-1.cdninstagram.com/v/t51...</td>\n",
              "      <td>12</td>\n",
              "      <td>12</td>\n",
              "      <td>37070583890</td>\n",
              "      <td>False</td>\n",
              "      <td>Photo by 𝑫𝒊𝒂𝒛 𝑪𝒂𝒇𝒆 𝒃𝒚 𝑮𝒐𝒅𝑾𝒊𝒍𝒍 in Cafe Diaz. Im...</td>\n",
              "      <td>1</td>\n",
              "      <td>2020-06-19 05:28:06</td>\n",
              "    </tr>\n",
              "  </tbody>\n",
              "</table>\n",
              "</div>"
            ],
            "text/plain": [
              "   comments_disabled  __typename                 __id  \\\n",
              "0              False  GraphVideo  2334814426258311142   \n",
              "1              False  GraphVideo  2334762612091069884   \n",
              "2              False  GraphVideo  2334691144557228262   \n",
              "3              False  GraphImage  2334685614753742224   \n",
              "4              False  GraphImage  2334513241575513082   \n",
              "\n",
              "                                                text    shortcode  \\\n",
              "0  Video of \"3x3.EXE PREMIER 2020 Press Conferenc...  CBm7VmtlYfm   \n",
              "1  Watch highlights from the #FIBAAsiaCup 2021 Qu...  CBmvjnAjSW8   \n",
              "2  Betapa sulitnya belajar Hatsuon mandarin. Keli...  CBmfTnrlXDm   \n",
              "3  🇹🇼 The proposed new Taiwanese professional lea...  CBmeDJpnH2Q   \n",
              "4  Sendiri pun jadi kok ke cafe diaz, toh ada pem...  CBl22ynjdv6   \n",
              "\n",
              "                                       link  edge_media_to_comment  \\\n",
              "0  https://www.instagram.com/p/CBm7VmtlYfm/                      0   \n",
              "1  https://www.instagram.com/p/CBmvjnAjSW8/                      7   \n",
              "2  https://www.instagram.com/p/CBmfTnrlXDm/                      4   \n",
              "3  https://www.instagram.com/p/CBmeDJpnH2Q/                      4   \n",
              "4  https://www.instagram.com/p/CBl22ynjdv6/                      0   \n",
              "\n",
              "   taken_at_timestamp                                        display_url  \\\n",
              "0          1592551804  https://scontent-hkg4-1.cdninstagram.com/v/t51...   \n",
              "1          1592545510  https://scontent-hkg4-1.cdninstagram.com/v/t51...   \n",
              "2          1592536951  https://scontent-hkg4-1.cdninstagram.com/v/t51...   \n",
              "3          1592536235  https://scontent-hkg4-1.cdninstagram.com/v/t51...   \n",
              "4          1592515686  https://scontent-hkg4-1.cdninstagram.com/v/t51...   \n",
              "\n",
              "   edge_liked_by  edge_media_preview_like        owner  is_video  \\\n",
              "0             68                       68    461806954      True   \n",
              "1            575                      575   6301659220      True   \n",
              "2             38                       38   3057824583      True   \n",
              "3             45                       45   1436690371     False   \n",
              "4             12                       12  37070583890     False   \n",
              "\n",
              "                               accessibility_caption  count  \\\n",
              "0                                                NaN      1   \n",
              "1                                                NaN      1   \n",
              "2                                                NaN      1   \n",
              "3  Photo by Asia Pacific Hoops in Chinese Taipei ...      1   \n",
              "4  Photo by 𝑫𝒊𝒂𝒛 𝑪𝒂𝒇𝒆 𝒃𝒚 𝑮𝒐𝒅𝑾𝒊𝒍𝒍 in Cafe Diaz. Im...      1   \n",
              "\n",
              "                 date  \n",
              "0 2020-06-19 15:30:04  \n",
              "1 2020-06-19 13:45:10  \n",
              "2 2020-06-19 11:22:31  \n",
              "3 2020-06-19 11:10:35  \n",
              "4 2020-06-19 05:28:06  "
            ]
          },
          "execution_count": 221,
          "metadata": {},
          "output_type": "execute_result"
        }
      ],
      "source": [
        "# timestamp to datetime\n",
        "from datetime import datetime\n",
        "df['date'] = df.taken_at_timestamp.apply(datetime.fromtimestamp) \n",
        "df.head()"
      ]
    },
    {
      "cell_type": "code",
      "execution_count": null,
      "metadata": {
        "id": "HP1ab2_ocVvp"
      },
      "outputs": [],
      "source": [
        "# def get_sentiment(text):\n",
        "#     s = TextBlob(text)\n",
        "#     if s.detect_language()=='zh'or s.detect_language()=='zh-TW' or s.detect_language()=='zh-CN':\n",
        "#         return get_sentiment_cn(text)\n",
        "#     elif  s.detect_language()=='en':\n",
        "#          return get_sentiment_en(text)\n",
        "#     else:\n",
        "#          return s.translate(to='en').polarity\n",
        "def get_sentiment_en(text):\n",
        "    s = TextBlob(str(text))\n",
        "    try:\n",
        "        s.translate(to='en')\n",
        "    finally:     \n",
        "        return s.polarity"
      ]
    },
    {
      "cell_type": "code",
      "execution_count": null,
      "metadata": {
        "scrolled": true,
        "id": "ehQTN5y7cVvq"
      },
      "outputs": [],
      "source": [
        "df['sentiment'] = df['text'].apply(get_sentiment_en)"
      ]
    },
    {
      "cell_type": "code",
      "execution_count": null,
      "metadata": {
        "scrolled": true,
        "id": "cJgkWDoIcVvr",
        "outputId": "431daf6f-460e-4ecd-fccd-6a73c26177e4"
      },
      "outputs": [
        {
          "data": {
            "text/html": [
              "<div>\n",
              "<style scoped>\n",
              "    .dataframe tbody tr th:only-of-type {\n",
              "        vertical-align: middle;\n",
              "    }\n",
              "\n",
              "    .dataframe tbody tr th {\n",
              "        vertical-align: top;\n",
              "    }\n",
              "\n",
              "    .dataframe thead th {\n",
              "        text-align: right;\n",
              "    }\n",
              "</style>\n",
              "<table border=\"1\" class=\"dataframe\">\n",
              "  <thead>\n",
              "    <tr style=\"text-align: right;\">\n",
              "      <th></th>\n",
              "      <th>comments_disabled</th>\n",
              "      <th>__typename</th>\n",
              "      <th>__id</th>\n",
              "      <th>text</th>\n",
              "      <th>shortcode</th>\n",
              "      <th>link</th>\n",
              "      <th>edge_media_to_comment</th>\n",
              "      <th>taken_at_timestamp</th>\n",
              "      <th>display_url</th>\n",
              "      <th>edge_liked_by</th>\n",
              "      <th>edge_media_preview_like</th>\n",
              "      <th>owner</th>\n",
              "      <th>is_video</th>\n",
              "      <th>accessibility_caption</th>\n",
              "      <th>count</th>\n",
              "      <th>date</th>\n",
              "      <th>sentiment</th>\n",
              "    </tr>\n",
              "    <tr>\n",
              "      <th>theme</th>\n",
              "      <th></th>\n",
              "      <th></th>\n",
              "      <th></th>\n",
              "      <th></th>\n",
              "      <th></th>\n",
              "      <th></th>\n",
              "      <th></th>\n",
              "      <th></th>\n",
              "      <th></th>\n",
              "      <th></th>\n",
              "      <th></th>\n",
              "      <th></th>\n",
              "      <th></th>\n",
              "      <th></th>\n",
              "      <th></th>\n",
              "      <th></th>\n",
              "      <th></th>\n",
              "    </tr>\n",
              "  </thead>\n",
              "  <tbody>\n",
              "    <tr>\n",
              "      <th>food</th>\n",
              "      <td>924</td>\n",
              "      <td>924</td>\n",
              "      <td>924</td>\n",
              "      <td>924</td>\n",
              "      <td>924</td>\n",
              "      <td>924</td>\n",
              "      <td>924</td>\n",
              "      <td>924</td>\n",
              "      <td>924</td>\n",
              "      <td>924</td>\n",
              "      <td>924</td>\n",
              "      <td>924</td>\n",
              "      <td>924</td>\n",
              "      <td>876</td>\n",
              "      <td>924</td>\n",
              "      <td>924</td>\n",
              "      <td>924</td>\n",
              "    </tr>\n",
              "    <tr>\n",
              "      <th>others</th>\n",
              "      <td>13751</td>\n",
              "      <td>13751</td>\n",
              "      <td>13751</td>\n",
              "      <td>13730</td>\n",
              "      <td>13751</td>\n",
              "      <td>13751</td>\n",
              "      <td>13751</td>\n",
              "      <td>13751</td>\n",
              "      <td>13751</td>\n",
              "      <td>13751</td>\n",
              "      <td>13751</td>\n",
              "      <td>13751</td>\n",
              "      <td>13751</td>\n",
              "      <td>12425</td>\n",
              "      <td>13751</td>\n",
              "      <td>13751</td>\n",
              "      <td>13751</td>\n",
              "    </tr>\n",
              "    <tr>\n",
              "      <th>photo</th>\n",
              "      <td>261</td>\n",
              "      <td>261</td>\n",
              "      <td>261</td>\n",
              "      <td>261</td>\n",
              "      <td>261</td>\n",
              "      <td>261</td>\n",
              "      <td>261</td>\n",
              "      <td>261</td>\n",
              "      <td>261</td>\n",
              "      <td>261</td>\n",
              "      <td>261</td>\n",
              "      <td>261</td>\n",
              "      <td>261</td>\n",
              "      <td>250</td>\n",
              "      <td>261</td>\n",
              "      <td>261</td>\n",
              "      <td>261</td>\n",
              "    </tr>\n",
              "    <tr>\n",
              "      <th>sport</th>\n",
              "      <td>6310</td>\n",
              "      <td>6310</td>\n",
              "      <td>6310</td>\n",
              "      <td>6310</td>\n",
              "      <td>6310</td>\n",
              "      <td>6310</td>\n",
              "      <td>6310</td>\n",
              "      <td>6310</td>\n",
              "      <td>6310</td>\n",
              "      <td>6310</td>\n",
              "      <td>6310</td>\n",
              "      <td>6310</td>\n",
              "      <td>6310</td>\n",
              "      <td>5513</td>\n",
              "      <td>6310</td>\n",
              "      <td>6310</td>\n",
              "      <td>6310</td>\n",
              "    </tr>\n",
              "    <tr>\n",
              "      <th>travel</th>\n",
              "      <td>1134</td>\n",
              "      <td>1134</td>\n",
              "      <td>1134</td>\n",
              "      <td>1134</td>\n",
              "      <td>1134</td>\n",
              "      <td>1134</td>\n",
              "      <td>1134</td>\n",
              "      <td>1134</td>\n",
              "      <td>1134</td>\n",
              "      <td>1134</td>\n",
              "      <td>1134</td>\n",
              "      <td>1134</td>\n",
              "      <td>1134</td>\n",
              "      <td>1061</td>\n",
              "      <td>1134</td>\n",
              "      <td>1134</td>\n",
              "      <td>1134</td>\n",
              "    </tr>\n",
              "  </tbody>\n",
              "</table>\n",
              "</div>"
            ],
            "text/plain": [
              "        comments_disabled  __typename   __id   text  shortcode   link  \\\n",
              "theme                                                                   \n",
              "food                  924         924    924    924        924    924   \n",
              "others              13751       13751  13751  13730      13751  13751   \n",
              "photo                 261         261    261    261        261    261   \n",
              "sport                6310        6310   6310   6310       6310   6310   \n",
              "travel               1134        1134   1134   1134       1134   1134   \n",
              "\n",
              "        edge_media_to_comment  taken_at_timestamp  display_url  edge_liked_by  \\\n",
              "theme                                                                           \n",
              "food                      924                 924          924            924   \n",
              "others                  13751               13751        13751          13751   \n",
              "photo                     261                 261          261            261   \n",
              "sport                    6310                6310         6310           6310   \n",
              "travel                   1134                1134         1134           1134   \n",
              "\n",
              "        edge_media_preview_like  owner  is_video  accessibility_caption  \\\n",
              "theme                                                                     \n",
              "food                        924    924       924                    876   \n",
              "others                    13751  13751     13751                  12425   \n",
              "photo                       261    261       261                    250   \n",
              "sport                      6310   6310      6310                   5513   \n",
              "travel                     1134   1134      1134                   1061   \n",
              "\n",
              "        count   date  sentiment  \n",
              "theme                            \n",
              "food      924    924        924  \n",
              "others  13751  13751      13751  \n",
              "photo     261    261        261  \n",
              "sport    6310   6310       6310  \n",
              "travel   1134   1134       1134  "
            ]
          },
          "execution_count": 339,
          "metadata": {},
          "output_type": "execute_result"
        }
      ],
      "source": [
        ""
      ]
    },
    {
      "cell_type": "code",
      "execution_count": null,
      "metadata": {
        "id": "x21qXiQqcVvr"
      },
      "outputs": [],
      "source": [
        "## 分類\n",
        "import spacy\n",
        "import en_core_web_lg\n",
        "nlp  = en_core_web_lg.load()\n",
        "\n",
        "def get_theme(text):\n",
        "    text=str(text)\n",
        "    category = 'others'\n",
        "    if(text.find('food') != -1 or text.find('食')!= -1):        \n",
        "        return 'food'\n",
        "    elif(text.find('travel') != -1 or text.find('旅')!= -1 ):        \n",
        "        return 'travel'    \n",
        "    elif(text.find('sport') != -1 or text.find('運動')!= -1 or text.find('basketball')!= -1 or text.find('badminton')!= -1 or text.find('baseball')!= -1):        \n",
        "        return 'sport'\n",
        "    elif(text.find('photo') != -1 or text.find('攝影')!= -1):        \n",
        "        return 'photo' \n",
        "    else:\n",
        "        food = nlp('food')\n",
        "        travel = nlp('travel')\n",
        "        sport = nlp('sport')\n",
        "        photo = nlp('photo')\n",
        "        text = nlp(text)\n",
        "        scores = [food.similarity(text),travel.similarity(text),sport.similarity(text),photo.similarity(text)]\n",
        "        if np.amax(scores) > 0.9:\n",
        "            idx = np.argmax(scores)\n",
        "            if idx == 0:\n",
        "                return 'food'\n",
        "            elif idx == 1:        \n",
        "                return 'travel'    \n",
        "            elif idx == 2:  \n",
        "                return 'sport'\n",
        "            elif idx == 3:       \n",
        "                return 'photo'\n",
        "    return category"
      ]
    },
    {
      "cell_type": "code",
      "execution_count": null,
      "metadata": {
        "scrolled": true,
        "id": "1oN6zgsJcVvs",
        "outputId": "bfeb341d-3400-4585-8af2-74f54848bef2"
      },
      "outputs": [
        {
          "name": "stderr",
          "output_type": "stream",
          "text": [
            "C:\\Users\\Yi Lin Hsu\\AppData\\Local\\Continuum\\anaconda3\\lib\\site-packages\\ipykernel_launcher.py:23: UserWarning: [W008] Evaluating Doc.similarity based on empty vectors.\n"
          ]
        }
      ],
      "source": [
        "df['theme'] =  df['text'].apply(get_theme)"
      ]
    },
    {
      "cell_type": "code",
      "execution_count": null,
      "metadata": {
        "id": "ElfcR0OHcVvs",
        "outputId": "224c7708-5b48-4118-b67b-a4a187567497"
      },
      "outputs": [
        {
          "data": {
            "text/html": [
              "<div>\n",
              "<style scoped>\n",
              "    .dataframe tbody tr th:only-of-type {\n",
              "        vertical-align: middle;\n",
              "    }\n",
              "\n",
              "    .dataframe tbody tr th {\n",
              "        vertical-align: top;\n",
              "    }\n",
              "\n",
              "    .dataframe thead th {\n",
              "        text-align: right;\n",
              "    }\n",
              "</style>\n",
              "<table border=\"1\" class=\"dataframe\">\n",
              "  <thead>\n",
              "    <tr style=\"text-align: right;\">\n",
              "      <th></th>\n",
              "      <th>comments_disabled</th>\n",
              "      <th>__typename</th>\n",
              "      <th>__id</th>\n",
              "      <th>text</th>\n",
              "      <th>shortcode</th>\n",
              "      <th>link</th>\n",
              "      <th>edge_media_to_comment</th>\n",
              "      <th>taken_at_timestamp</th>\n",
              "      <th>display_url</th>\n",
              "      <th>edge_liked_by</th>\n",
              "      <th>edge_media_preview_like</th>\n",
              "      <th>owner</th>\n",
              "      <th>is_video</th>\n",
              "      <th>accessibility_caption</th>\n",
              "      <th>count</th>\n",
              "      <th>date</th>\n",
              "      <th>sentiment</th>\n",
              "    </tr>\n",
              "    <tr>\n",
              "      <th>theme</th>\n",
              "      <th></th>\n",
              "      <th></th>\n",
              "      <th></th>\n",
              "      <th></th>\n",
              "      <th></th>\n",
              "      <th></th>\n",
              "      <th></th>\n",
              "      <th></th>\n",
              "      <th></th>\n",
              "      <th></th>\n",
              "      <th></th>\n",
              "      <th></th>\n",
              "      <th></th>\n",
              "      <th></th>\n",
              "      <th></th>\n",
              "      <th></th>\n",
              "      <th></th>\n",
              "    </tr>\n",
              "  </thead>\n",
              "  <tbody>\n",
              "    <tr>\n",
              "      <th>food</th>\n",
              "      <td>924</td>\n",
              "      <td>924</td>\n",
              "      <td>924</td>\n",
              "      <td>924</td>\n",
              "      <td>924</td>\n",
              "      <td>924</td>\n",
              "      <td>924</td>\n",
              "      <td>924</td>\n",
              "      <td>924</td>\n",
              "      <td>924</td>\n",
              "      <td>924</td>\n",
              "      <td>924</td>\n",
              "      <td>924</td>\n",
              "      <td>876</td>\n",
              "      <td>924</td>\n",
              "      <td>924</td>\n",
              "      <td>924</td>\n",
              "    </tr>\n",
              "    <tr>\n",
              "      <th>others</th>\n",
              "      <td>13751</td>\n",
              "      <td>13751</td>\n",
              "      <td>13751</td>\n",
              "      <td>13730</td>\n",
              "      <td>13751</td>\n",
              "      <td>13751</td>\n",
              "      <td>13751</td>\n",
              "      <td>13751</td>\n",
              "      <td>13751</td>\n",
              "      <td>13751</td>\n",
              "      <td>13751</td>\n",
              "      <td>13751</td>\n",
              "      <td>13751</td>\n",
              "      <td>12425</td>\n",
              "      <td>13751</td>\n",
              "      <td>13751</td>\n",
              "      <td>13751</td>\n",
              "    </tr>\n",
              "    <tr>\n",
              "      <th>photo</th>\n",
              "      <td>261</td>\n",
              "      <td>261</td>\n",
              "      <td>261</td>\n",
              "      <td>261</td>\n",
              "      <td>261</td>\n",
              "      <td>261</td>\n",
              "      <td>261</td>\n",
              "      <td>261</td>\n",
              "      <td>261</td>\n",
              "      <td>261</td>\n",
              "      <td>261</td>\n",
              "      <td>261</td>\n",
              "      <td>261</td>\n",
              "      <td>250</td>\n",
              "      <td>261</td>\n",
              "      <td>261</td>\n",
              "      <td>261</td>\n",
              "    </tr>\n",
              "    <tr>\n",
              "      <th>sport</th>\n",
              "      <td>6310</td>\n",
              "      <td>6310</td>\n",
              "      <td>6310</td>\n",
              "      <td>6310</td>\n",
              "      <td>6310</td>\n",
              "      <td>6310</td>\n",
              "      <td>6310</td>\n",
              "      <td>6310</td>\n",
              "      <td>6310</td>\n",
              "      <td>6310</td>\n",
              "      <td>6310</td>\n",
              "      <td>6310</td>\n",
              "      <td>6310</td>\n",
              "      <td>5513</td>\n",
              "      <td>6310</td>\n",
              "      <td>6310</td>\n",
              "      <td>6310</td>\n",
              "    </tr>\n",
              "    <tr>\n",
              "      <th>travel</th>\n",
              "      <td>1134</td>\n",
              "      <td>1134</td>\n",
              "      <td>1134</td>\n",
              "      <td>1134</td>\n",
              "      <td>1134</td>\n",
              "      <td>1134</td>\n",
              "      <td>1134</td>\n",
              "      <td>1134</td>\n",
              "      <td>1134</td>\n",
              "      <td>1134</td>\n",
              "      <td>1134</td>\n",
              "      <td>1134</td>\n",
              "      <td>1134</td>\n",
              "      <td>1061</td>\n",
              "      <td>1134</td>\n",
              "      <td>1134</td>\n",
              "      <td>1134</td>\n",
              "    </tr>\n",
              "  </tbody>\n",
              "</table>\n",
              "</div>"
            ],
            "text/plain": [
              "        comments_disabled  __typename   __id   text  shortcode   link  \\\n",
              "theme                                                                   \n",
              "food                  924         924    924    924        924    924   \n",
              "others              13751       13751  13751  13730      13751  13751   \n",
              "photo                 261         261    261    261        261    261   \n",
              "sport                6310        6310   6310   6310       6310   6310   \n",
              "travel               1134        1134   1134   1134       1134   1134   \n",
              "\n",
              "        edge_media_to_comment  taken_at_timestamp  display_url  edge_liked_by  \\\n",
              "theme                                                                           \n",
              "food                      924                 924          924            924   \n",
              "others                  13751               13751        13751          13751   \n",
              "photo                     261                 261          261            261   \n",
              "sport                    6310                6310         6310           6310   \n",
              "travel                   1134                1134         1134           1134   \n",
              "\n",
              "        edge_media_preview_like  owner  is_video  accessibility_caption  \\\n",
              "theme                                                                     \n",
              "food                        924    924       924                    876   \n",
              "others                    13751  13751     13751                  12425   \n",
              "photo                       261    261       261                    250   \n",
              "sport                      6310   6310      6310                   5513   \n",
              "travel                     1134   1134      1134                   1061   \n",
              "\n",
              "        count   date  sentiment  \n",
              "theme                            \n",
              "food      924    924        924  \n",
              "others  13751  13751      13751  \n",
              "photo     261    261        261  \n",
              "sport    6310   6310       6310  \n",
              "travel   1134   1134       1134  "
            ]
          },
          "execution_count": 340,
          "metadata": {},
          "output_type": "execute_result"
        }
      ],
      "source": [
        "df.groupby('theme').count()"
      ]
    },
    {
      "cell_type": "code",
      "execution_count": null,
      "metadata": {
        "id": "aUMWHt-0cVvt"
      },
      "outputs": [],
      "source": [
        "# get username\n",
        "from bs4 import BeautifulSoup as bs\n",
        "import time\n",
        "import re\n",
        "from urllib.request import urlopen\n",
        "import json\n",
        "def get_name(ig_id):\n",
        "    links=df[df['owner']==ig_id]['link']\n",
        "    url = (links[0:1].values)[0] +'?__a=1'\n",
        "    html = urlopen(url).read()\n",
        "    soup = bs(html,\"html.parser\")\n",
        "    page_json = soup.text.rstrip(';')\n",
        "    data = json.loads(page_json)\n",
        "    username = data['graphql']['shortcode_media']['owner']['username']\n",
        "    full_name = data['graphql']['shortcode_media']['owner']['full_name']\n",
        "    return [username, full_name]"
      ]
    },
    {
      "cell_type": "code",
      "execution_count": null,
      "metadata": {
        "id": "OCNcw8FMcVvt",
        "outputId": "21d3c4c8-b58d-4491-fc17-0142fabfbf73"
      },
      "outputs": [
        {
          "data": {
            "text/html": [
              "<div>\n",
              "<style scoped>\n",
              "    .dataframe tbody tr th:only-of-type {\n",
              "        vertical-align: middle;\n",
              "    }\n",
              "\n",
              "    .dataframe tbody tr th {\n",
              "        vertical-align: top;\n",
              "    }\n",
              "\n",
              "    .dataframe thead th {\n",
              "        text-align: right;\n",
              "    }\n",
              "</style>\n",
              "<table border=\"1\" class=\"dataframe\">\n",
              "  <thead>\n",
              "    <tr style=\"text-align: right;\">\n",
              "      <th></th>\n",
              "      <th>comments_disabled</th>\n",
              "      <th>__typename</th>\n",
              "      <th>__id</th>\n",
              "      <th>text</th>\n",
              "      <th>shortcode</th>\n",
              "      <th>link</th>\n",
              "      <th>edge_media_to_comment</th>\n",
              "      <th>taken_at_timestamp</th>\n",
              "      <th>display_url</th>\n",
              "      <th>edge_liked_by</th>\n",
              "      <th>edge_media_preview_like</th>\n",
              "      <th>owner</th>\n",
              "      <th>is_video</th>\n",
              "      <th>accessibility_caption</th>\n",
              "      <th>count</th>\n",
              "      <th>date</th>\n",
              "      <th>sentiment</th>\n",
              "    </tr>\n",
              "  </thead>\n",
              "  <tbody>\n",
              "    <tr>\n",
              "      <th>0</th>\n",
              "      <td>False</td>\n",
              "      <td>GraphVideo</td>\n",
              "      <td>2334814426258311142</td>\n",
              "      <td>Video of \"3x3.EXE PREMIER 2020 Press Conferenc...</td>\n",
              "      <td>CBm7VmtlYfm</td>\n",
              "      <td>https://www.instagram.com/p/CBm7VmtlYfm/</td>\n",
              "      <td>0</td>\n",
              "      <td>1592551804</td>\n",
              "      <td>https://scontent-hkg4-1.cdninstagram.com/v/t51...</td>\n",
              "      <td>68</td>\n",
              "      <td>68</td>\n",
              "      <td>461806954</td>\n",
              "      <td>True</td>\n",
              "      <td>NaN</td>\n",
              "      <td>1</td>\n",
              "      <td>2020-06-19 15:30:04</td>\n",
              "      <td>0.050000</td>\n",
              "    </tr>\n",
              "    <tr>\n",
              "      <th>1</th>\n",
              "      <td>False</td>\n",
              "      <td>GraphVideo</td>\n",
              "      <td>2334762612091069884</td>\n",
              "      <td>Watch highlights from the #FIBAAsiaCup 2021 Qu...</td>\n",
              "      <td>CBmvjnAjSW8</td>\n",
              "      <td>https://www.instagram.com/p/CBmvjnAjSW8/</td>\n",
              "      <td>7</td>\n",
              "      <td>1592545510</td>\n",
              "      <td>https://scontent-hkg4-1.cdninstagram.com/v/t51...</td>\n",
              "      <td>575</td>\n",
              "      <td>575</td>\n",
              "      <td>6301659220</td>\n",
              "      <td>True</td>\n",
              "      <td>NaN</td>\n",
              "      <td>1</td>\n",
              "      <td>2020-06-19 13:45:10</td>\n",
              "      <td>-0.500000</td>\n",
              "    </tr>\n",
              "    <tr>\n",
              "      <th>2</th>\n",
              "      <td>False</td>\n",
              "      <td>GraphVideo</td>\n",
              "      <td>2334691144557228262</td>\n",
              "      <td>Betapa sulitnya belajar Hatsuon mandarin. Keli...</td>\n",
              "      <td>CBmfTnrlXDm</td>\n",
              "      <td>https://www.instagram.com/p/CBmfTnrlXDm/</td>\n",
              "      <td>4</td>\n",
              "      <td>1592536951</td>\n",
              "      <td>https://scontent-hkg4-1.cdninstagram.com/v/t51...</td>\n",
              "      <td>38</td>\n",
              "      <td>38</td>\n",
              "      <td>3057824583</td>\n",
              "      <td>True</td>\n",
              "      <td>NaN</td>\n",
              "      <td>1</td>\n",
              "      <td>2020-06-19 11:22:31</td>\n",
              "      <td>0.000000</td>\n",
              "    </tr>\n",
              "    <tr>\n",
              "      <th>3</th>\n",
              "      <td>False</td>\n",
              "      <td>GraphImage</td>\n",
              "      <td>2334685614753742224</td>\n",
              "      <td>🇹🇼 The proposed new Taiwanese professional lea...</td>\n",
              "      <td>CBmeDJpnH2Q</td>\n",
              "      <td>https://www.instagram.com/p/CBmeDJpnH2Q/</td>\n",
              "      <td>4</td>\n",
              "      <td>1592536235</td>\n",
              "      <td>https://scontent-hkg4-1.cdninstagram.com/v/t51...</td>\n",
              "      <td>45</td>\n",
              "      <td>45</td>\n",
              "      <td>1436690371</td>\n",
              "      <td>False</td>\n",
              "      <td>Photo by Asia Pacific Hoops in Chinese Taipei ...</td>\n",
              "      <td>1</td>\n",
              "      <td>2020-06-19 11:10:35</td>\n",
              "      <td>0.064394</td>\n",
              "    </tr>\n",
              "    <tr>\n",
              "      <th>4</th>\n",
              "      <td>False</td>\n",
              "      <td>GraphImage</td>\n",
              "      <td>2334513241575513082</td>\n",
              "      <td>Sendiri pun jadi kok ke cafe diaz, toh ada pem...</td>\n",
              "      <td>CBl22ynjdv6</td>\n",
              "      <td>https://www.instagram.com/p/CBl22ynjdv6/</td>\n",
              "      <td>0</td>\n",
              "      <td>1592515686</td>\n",
              "      <td>https://scontent-hkg4-1.cdninstagram.com/v/t51...</td>\n",
              "      <td>12</td>\n",
              "      <td>12</td>\n",
              "      <td>37070583890</td>\n",
              "      <td>False</td>\n",
              "      <td>Photo by 𝑫𝒊𝒂𝒛 𝑪𝒂𝒇𝒆 𝒃𝒚 𝑮𝒐𝒅𝑾𝒊𝒍𝒍 in Cafe Diaz. Im...</td>\n",
              "      <td>1</td>\n",
              "      <td>2020-06-19 05:28:06</td>\n",
              "      <td>0.000000</td>\n",
              "    </tr>\n",
              "  </tbody>\n",
              "</table>\n",
              "</div>"
            ],
            "text/plain": [
              "   comments_disabled  __typename                 __id  \\\n",
              "0              False  GraphVideo  2334814426258311142   \n",
              "1              False  GraphVideo  2334762612091069884   \n",
              "2              False  GraphVideo  2334691144557228262   \n",
              "3              False  GraphImage  2334685614753742224   \n",
              "4              False  GraphImage  2334513241575513082   \n",
              "\n",
              "                                                text    shortcode  \\\n",
              "0  Video of \"3x3.EXE PREMIER 2020 Press Conferenc...  CBm7VmtlYfm   \n",
              "1  Watch highlights from the #FIBAAsiaCup 2021 Qu...  CBmvjnAjSW8   \n",
              "2  Betapa sulitnya belajar Hatsuon mandarin. Keli...  CBmfTnrlXDm   \n",
              "3  🇹🇼 The proposed new Taiwanese professional lea...  CBmeDJpnH2Q   \n",
              "4  Sendiri pun jadi kok ke cafe diaz, toh ada pem...  CBl22ynjdv6   \n",
              "\n",
              "                                       link  edge_media_to_comment  \\\n",
              "0  https://www.instagram.com/p/CBm7VmtlYfm/                      0   \n",
              "1  https://www.instagram.com/p/CBmvjnAjSW8/                      7   \n",
              "2  https://www.instagram.com/p/CBmfTnrlXDm/                      4   \n",
              "3  https://www.instagram.com/p/CBmeDJpnH2Q/                      4   \n",
              "4  https://www.instagram.com/p/CBl22ynjdv6/                      0   \n",
              "\n",
              "   taken_at_timestamp                                        display_url  \\\n",
              "0          1592551804  https://scontent-hkg4-1.cdninstagram.com/v/t51...   \n",
              "1          1592545510  https://scontent-hkg4-1.cdninstagram.com/v/t51...   \n",
              "2          1592536951  https://scontent-hkg4-1.cdninstagram.com/v/t51...   \n",
              "3          1592536235  https://scontent-hkg4-1.cdninstagram.com/v/t51...   \n",
              "4          1592515686  https://scontent-hkg4-1.cdninstagram.com/v/t51...   \n",
              "\n",
              "   edge_liked_by  edge_media_preview_like        owner  is_video  \\\n",
              "0             68                       68    461806954      True   \n",
              "1            575                      575   6301659220      True   \n",
              "2             38                       38   3057824583      True   \n",
              "3             45                       45   1436690371     False   \n",
              "4             12                       12  37070583890     False   \n",
              "\n",
              "                               accessibility_caption  count  \\\n",
              "0                                                NaN      1   \n",
              "1                                                NaN      1   \n",
              "2                                                NaN      1   \n",
              "3  Photo by Asia Pacific Hoops in Chinese Taipei ...      1   \n",
              "4  Photo by 𝑫𝒊𝒂𝒛 𝑪𝒂𝒇𝒆 𝒃𝒚 𝑮𝒐𝒅𝑾𝒊𝒍𝒍 in Cafe Diaz. Im...      1   \n",
              "\n",
              "                 date  sentiment  \n",
              "0 2020-06-19 15:30:04   0.050000  \n",
              "1 2020-06-19 13:45:10  -0.500000  \n",
              "2 2020-06-19 11:22:31   0.000000  \n",
              "3 2020-06-19 11:10:35   0.064394  \n",
              "4 2020-06-19 05:28:06   0.000000  "
            ]
          },
          "execution_count": 223,
          "metadata": {},
          "output_type": "execute_result"
        }
      ],
      "source": [
        "# df['username'] = df.owner.apply(get_username) \n",
        "df.head()"
      ]
    },
    {
      "cell_type": "code",
      "execution_count": null,
      "metadata": {
        "scrolled": false,
        "id": "6qb7SxYkcVvu",
        "outputId": "0e7aab20-d438-4b51-a60b-b89d33feae03"
      },
      "outputs": [
        {
          "name": "stdout",
          "output_type": "stream",
          "text": [
            "['tpe_basketball', '中華男籃'] 340.0\n",
            "['ks07c', '強。'] 300.0\n",
            "['tpe_handball', '中華民國手球協會'] 294.0\n",
            "['takaodeathday', '高雄歹過日'] 239.0\n",
            "['niker_smile', '微笑 綠園道店'] 239.0\n",
            "['leeaikooo', '李佳靜Leeaiko'] 212.0\n",
            "['jiedingliii', ''] 209.0\n",
            "['i_am_shinochan', 'しのちゃん'] 185.0\n",
            "['yangpohan_fc', 'Yang Po-Han (楊博涵) INDONESIA'] 184.0\n",
            "['ncuetkd_team', 'ncuetkdteam'] 173.0\n"
          ]
        }
      ],
      "source": [
        "# hashtag 發文最多的\n",
        "most_post_user_grouped = df.groupby('owner').sum().reset_index()\n",
        "most_post_user = most_post_user_grouped.sort_values('count', ascending=False)\n",
        "most_post_user = most_post_user.reset_index()\n",
        "for i in range(10):\n",
        "    print(get_name(most_post_user['owner'][i]),most_post_user['count'][i])"
      ]
    },
    {
      "cell_type": "code",
      "execution_count": null,
      "metadata": {
        "id": "OckfCz-XcVvu",
        "outputId": "76f04b54-3bd5-4be6-97c7-58cfa1fa6b25"
      },
      "outputs": [
        {
          "name": "stdout",
          "output_type": "stream",
          "text": [
            "['radotvalent', 'Valentino Jebreeet Simanjuntak'] open SABAR nyoook !!.\n",
            ".\n",
            "#indonesia x #chinesetaipei .\n",
            ".\n",
            "#jebreeet #timnasday\n",
            "['yga0721', '蔡阿嘎'] 【首爾經典賽。台灣加油團 Day1】\n",
            "場場硬戰的預賽：台灣V.S以色列開打啦!!! 轉播有看到我們在外野舉國旗嗎? 攝影機快拍我們拍我們!!!! 哈哈哈~\n",
            "#蔡阿嘎 #大頭佛 #嘎嫂二伯 #台灣加油 #taiwan #youtuber #wbc #baseball #chinesetaipei #wbcseoul #worldbaseballclassic #靠腰一開始就落後了\n",
            "['yga0721', '蔡阿嘎'] 【首爾經典賽。台灣加油團 Day2】5局結束5：4領先荷蘭啊啊啊!! 爽耶~一路贏到最後吧!!!! #蔡阿嘎 #大頭佛 #嘎嫂二伯 #台灣加油 #taiwan #youtuber #wbc #baseball #chinesetaipei #wbcseoul #worldbaseballclassic #我爪志豪今天猛猛的\n",
            "['yga0721', '蔡阿嘎'] 【首爾經典賽。台灣加油團 Day2】幹!!!! 原諒我罵髒話...去你的又是雖敗猶榮吃鍋貼啊啊啊!!!! 我討厭中華隊的89局...TAT (沒關係!! 明天贏韓國才是世界無敵爽啊!! 台灣加油!!!!!) #蔡阿嘎 #大頭佛 #嘎嫂二伯 #台灣加油 #taiwan #youtuber #wbc #baseball #chinesetaipei #wbcseoul #worldbaseballclassic #贏韓國才是世界無敵爽歪歪\n",
            "['ku1a', 'عبدالكريم الهندال الهاشمي'] Congratulations to the Taiwan swimming athlete Cheng Chi Cho who wins the third place in 5 kilometer competition of 9th Asian Open Water Championships.\n",
            "\n",
            "مبروك للسباح التايواني البطل الرياضي تشينغ تشي تشو الذي فاز الثالث! \n",
            "زهو بالمركز الثالث في مسابقة السباحة المفتوحة على بعد ٥ كيلومتر —-\n",
            "#taiwan #taipei #taiwan🇹🇼 #Kuwait #news #f4f #q8 #معرض #اعلانات  #اعلان  #اخبار #عاجل #تايوان #تايبيه #رياضة #رياضي #صحافة #台湾 #كويت #الكويت #كويتيات  #نيوز #فندق_مارينا #news #athlete #swimming #bronzemedalist #chinesetaipei #openwater #championship #asian\n",
            "['ku1a', 'عبدالكريم الهندال الهاشمي'] Congratulations to the Taiwan swimming athlete Cheng Chi Cho who wins the third place in 5 kilometer competition of 9th Asian Open Water Championships.\n",
            "\n",
            "مبروك للسباح التايواني البطل الرياضي تشينغ تشي تشو الذي فاز الثالث! \n",
            "زهو بالمركز الثالث في مسابقة السباحة المفتوحة على بعد ٥ كيلومتر —-\n",
            "#taiwan #taipei #taiwan🇹🇼 #Kuwait #news #f4f #q8 #معرض #اعلانات  #اعلان  #اخبار #عاجل #تايوان #تايبيه #رياضة #رياضي #صحافة #台湾 #كويت #الكويت #كويتيات  #نيوز #فندق_مارينا #news #athlete #swimming #bronzemedalist #chinesetaipei #openwater #championship #asian\n",
            "['yga0721', '蔡阿嘎'] 【首爾經典賽。台灣加油團 Day2】第二場VS荷蘭準備開打啦!!!! 現場唱國旗歌好感動啊...TAT\n",
            "\n",
            "#蔡阿嘎 #大頭佛 #嘎嫂二伯 #台灣加油 #taiwan #youtuber #wbc #baseball #chinesetaipei #wbcseoul #worldbaseballclassic #香港航空 #hongkongairlines #荷蘭一堆大聯盟球員是怎樣\n",
            "['badmintalk_com', 'Badminton Talk'] 生日快乐!\n",
            "Happy Birthday to Chen Long, Wang Yihan, and Wang Chi Lin! May all of you always be healthy and successful!\n",
            ".\n",
            "•Chen Long•\n",
            "Gold Medal MS Olympic Games 2016\n",
            "Bronze Medal MS Olympic Games 2012\n",
            "Gold Medal MS World Championships 2014, 2015\n",
            "Gold Medal Men's Team Asian Games 2010, 2018\n",
            "Silver Medal MS Asian Games 2014\n",
            "Gold Medal MS Asian Championships 2017\n",
            "Gold Thomas Cup 2010, 2012, 2018\n",
            "Gold Sudirman Cup 2013, 2015\n",
            "Gold MS World Cup 2006\n",
            "Gold World Junior Championships 2007\n",
            "Gold MS Asian Junior Championships 2007\n",
            "Gold WJC Mixed Team 2007\n",
            "Silver AJC Mixed Team 2007\n",
            "Winner MS French Open 2018\n",
            "Winner MS China Open 2010, 2012-13, 2017\n",
            "Winner MS All England 2013 & 2015\n",
            "Winner MS Denmark Open 2011, 2013-15\n",
            "Winner MS Australia Open 2015\n",
            "Winner MS Malaysia Open 2014\n",
            "Winner MS Korea Open 2014\n",
            "Winner MS BWF World Superseries Finals 2012 & 2014\n",
            "Winner MS Hong Kong Open 2012\n",
            "Winner MS Japan Open 2011\n",
            "Winner MS China Masters 2011\n",
            ".\n",
            "•Wang Yihan•\n",
            "Silver Medal WS Olympic Games 2012\n",
            "Gold Medal WS Asian Games 2014\n",
            "Gold Medal Women's Team Asian Games 2014\n",
            "Gold Medal WS World Championships 2011\n",
            "Gold Medal WS Asian Championships 2011, 2013, 2016\n",
            "Gold Uber Cup 2012, 2014, 2016\n",
            "Gold World Junior Championships 2006\n",
            "Gold WS Asian Junior Championships 2006\n",
            "Gold WJC Mixed Team 2004\n",
            "Gold AJC Team 2004, 2005\n",
            "Gold Sudirman Cup 2009, 2011, 2013, 2015\n",
            "Gold WS World Cup 2006\n",
            "Winner WS Korea Open 2011, 2014\n",
            "Winner WS Singapore Open 2013-14\n",
            "Winner WS Hong Kong Open 2009, 2013\n",
            "Winner WS Denmark Open 2010, 2013\n",
            "Winner WS Malaysia Open 2012\n",
            "Winner WS China Masters 2012\n",
            "Winner WS China Open 2011\n",
            "Winner WS Indonesian Open 2011\n",
            "Winner WS Japan Open 2008-09, 2011\n",
            "Winner WS French Open 2009-10\n",
            "Winner WS All England 2009\n",
            ".\n",
            "•Wang Chi Lin•\n",
            "Bronze Medal MD World Championships 2018\n",
            "Gold Medal XD Universiade 2017\n",
            "Winner MD Chinese Taipei Open 2017-18\n",
            "Winner MD New Zealand Open 2017-18\n",
            "Winner XD New Zealand Open 2018\n",
            "Winner MD China Masters 2017\n",
            "\n",
            "Foto: Xinhua/Victor\n",
            "\n",
            "#China #ChineseTaipei #BtalkHBDShoutOut2019 #Birthday #hbd #juara\n",
            "#champion #winner\n",
            "#brilliant #amazing  #incredible\n",
            "#awesome #badminton\n",
            "#badmintonplayer #love #indonesia  #bulutangkis #羽毛球 #バドミントン #배드민턴\n",
            "['bolanet', 'Bola.net'] Sebuah kejanggalan muncul ketika timnas Indonesia U-23 menghadapi Chinese Taipei. Sekilas memang tak ada yang janggal dengan jaket yang didominasi warna merah plus striping kuning keemasan pada bagian lengan. Namun, diliat lebih jauh kejanggalan tersebut ada pada bagian dada sebelah kanan.\n",
            ".\n",
            "Jaket yang digunakan Timnas Indonesia U-23 ternyata berasal dari apparel Nike. Padahal, INASGOC sudah mengeluarkan keputusan kalau Timnas Indonesia U-23 dan semua Kontingen Indonesia yang berlaga di Asian Games 2018 menggunakan apparel Li-Ning.\n",
            ".\n",
            "Pemandangan tersebut tentu saja janggal. Sebab, agak rancu melihat dua apparel digunakan secara bersamaan. Timnas Indonesia U-23 sudah menggunakan jersey, celana, dan kaos kaki dari Li-Ning. Namun, tetap mempertahankan jaket dari apparel Nike.\n",
            ".\n",
            "Bagaimana pendapat Bolaneters menyikapi kejanggalan ini?\n",
            ".\n",
            "Kunjungi rumah kami Bola.net supaya kalian tidak kudet tentang si kulit bundar dan lapangan hijaunya.\n",
            ".\n",
            "#bolanet #timnasindonesia #asiangames2018 #lining #nike #pssi #jersey #jerseyindonesia #inasgoc #chinesetaipei\n",
            "['badmintalk_com', 'Badminton Talk'] List of Indonesian players at Chinese Taipei Open 2018\n",
            "\n",
            "MS\n",
            "Chico Aura Dwi Wardoyo [Q]\n",
            "Ihsan Maulana Mustofa\n",
            "Firman Abdul Kholik\n",
            "\n",
            "WS\n",
            "Dinar Dyah Ayustine\n",
            "Ruselli Hartawan\n",
            "Fitriani\n",
            "\n",
            "MD\n",
            "Frengky Wijaya Putra/Rian Agung Saputro [Q]\n",
            "Akbar Bintang Cahyono/M.Reza Pahlevi Isfahani\n",
            "\n",
            "WD\n",
            "Yulfira Barkah/Jauza Fadhila Sugiarto\n",
            "Febriana Dwipuji Kusuma/Ribka Sugiarto\n",
            "Tania Oktaviani Kusumah/Vania Arianti Sukoco\n",
            "Agatha Imanuela/Siti Fadia Silva Ramadhanti\n",
            "Pitha Haningtyas Mentari/Rosyita Eka Putri Sari\n",
            "\n",
            "XD\n",
            "Rinov Rivaldy/Pitha Haningtyas Mentari\n",
            "Akbar Bintang Cahyono/Siti Fadia Silva Ramadhanti\n",
            "Ronald/Annisa Saufika\n",
            "Alfian Eko Prasetya/Marsheilla Gischa Islami [Q]: Tanding dari babak kualifikasi\n",
            "\n",
            "Withdrawn player list/Daftar pemain mundur:\n",
            "MS : Ng Zin Rei Ryan (SGP), Iskandar Zulkarnain (MAS)\n",
            "\n",
            "WS : Yeo Jia Min (SGP), Deng Joy Xuan (HKG)\n",
            "\n",
            "MD : Phillip Chew/Ryan Chew (USA)\n",
            "\n",
            "WD : Goh Yea Ching/Teoh Mei Xing (MAS)\n",
            "\n",
            "XD : Tontowi Ahmad/Winny Oktavina Kandow (INA)\n",
            "\n",
            "Foto: PBSI\n",
            "\n",
            "#taipei #chinesetaipei #BWFWorldTour #juara\n",
            "#champion #winner\n",
            "#brilliant #amazing  #incredible\n",
            "#awesome #crazy #asian #allthebest #badminton\n",
            "#badmintonplayer #love #indonesia  #bulutangkis #羽毛球 #バドミントン #배드민턴\n"
          ]
        }
      ],
      "source": [
        "# 最多讚的貼文\n",
        "most_post_liked = df.sort_values('edge_liked_by', ascending=False)\n",
        "most_post_liked = most_post_liked.reset_index()\n",
        "for i in range(10):\n",
        "    print(get_name(most_post_liked['owner'][i]), most_post_liked['text'][i])"
      ]
    },
    {
      "cell_type": "code",
      "execution_count": null,
      "metadata": {
        "id": "knZLfIngcVvu",
        "outputId": "175c8e63-3be7-4ad6-db80-5bd581f42ff7"
      },
      "outputs": [
        {
          "data": {
            "text/html": [
              "<div>\n",
              "<style scoped>\n",
              "    .dataframe tbody tr th:only-of-type {\n",
              "        vertical-align: middle;\n",
              "    }\n",
              "\n",
              "    .dataframe tbody tr th {\n",
              "        vertical-align: top;\n",
              "    }\n",
              "\n",
              "    .dataframe thead th {\n",
              "        text-align: right;\n",
              "    }\n",
              "</style>\n",
              "<table border=\"1\" class=\"dataframe\">\n",
              "  <thead>\n",
              "    <tr style=\"text-align: right;\">\n",
              "      <th></th>\n",
              "      <th>index</th>\n",
              "      <th>comments_disabled</th>\n",
              "      <th>__typename</th>\n",
              "      <th>__id</th>\n",
              "      <th>text</th>\n",
              "      <th>shortcode</th>\n",
              "      <th>link</th>\n",
              "      <th>edge_media_to_comment</th>\n",
              "      <th>taken_at_timestamp</th>\n",
              "      <th>display_url</th>\n",
              "      <th>edge_liked_by</th>\n",
              "      <th>edge_media_preview_like</th>\n",
              "      <th>owner</th>\n",
              "      <th>is_video</th>\n",
              "      <th>accessibility_caption</th>\n",
              "      <th>count</th>\n",
              "      <th>date</th>\n",
              "      <th>sentiment</th>\n",
              "    </tr>\n",
              "  </thead>\n",
              "  <tbody>\n",
              "    <tr>\n",
              "      <th>0</th>\n",
              "      <td>8498</td>\n",
              "      <td>False</td>\n",
              "      <td>GraphImage</td>\n",
              "      <td>1844310099184968951</td>\n",
              "      <td>open SABAR nyoook !!.\\n.\\n#indonesia x #chines...</td>\n",
              "      <td>BmYTkN9leT3</td>\n",
              "      <td>https://www.instagram.com/p/BmYTkN9leT3/</td>\n",
              "      <td>2139</td>\n",
              "      <td>1534078918</td>\n",
              "      <td>https://scontent-hkg4-1.cdninstagram.com/v/t51...</td>\n",
              "      <td>124828</td>\n",
              "      <td>124828</td>\n",
              "      <td>1040001328</td>\n",
              "      <td>False</td>\n",
              "      <td>Photo by Valentino Jebreeet Simanjuntak on Aug...</td>\n",
              "      <td>1</td>\n",
              "      <td>2018-08-12 21:01:58</td>\n",
              "      <td>0.000000</td>\n",
              "    </tr>\n",
              "    <tr>\n",
              "      <th>1</th>\n",
              "      <td>15473</td>\n",
              "      <td>False</td>\n",
              "      <td>GraphImage</td>\n",
              "      <td>1464959248420835837</td>\n",
              "      <td>【首爾經典賽。台灣加油團 Day1】\\n場場硬戰的預賽：台灣V.S以色列開打啦!!! 轉播有...</td>\n",
              "      <td>BRUlKy8jBH9</td>\n",
              "      <td>https://www.instagram.com/p/BRUlKy8jBH9/</td>\n",
              "      <td>162</td>\n",
              "      <td>1488856772</td>\n",
              "      <td>https://scontent-hkg4-1.cdninstagram.com/v/t51...</td>\n",
              "      <td>33104</td>\n",
              "      <td>33104</td>\n",
              "      <td>45717781</td>\n",
              "      <td>False</td>\n",
              "      <td>Photo by 蔡阿嘎 in Gocheok Sky Dome with @yga0721...</td>\n",
              "      <td>1</td>\n",
              "      <td>2017-03-07 11:19:32</td>\n",
              "      <td>0.000000</td>\n",
              "    </tr>\n",
              "    <tr>\n",
              "      <th>2</th>\n",
              "      <td>15346</td>\n",
              "      <td>False</td>\n",
              "      <td>GraphImage</td>\n",
              "      <td>1465940929172757026</td>\n",
              "      <td>【首爾經典賽。台灣加油團 Day2】5局結束5：4領先荷蘭啊啊啊!! 爽耶~一路贏到最後吧!...</td>\n",
              "      <td>BRYEYIZDFoi</td>\n",
              "      <td>https://www.instagram.com/p/BRYEYIZDFoi/</td>\n",
              "      <td>101</td>\n",
              "      <td>1488973798</td>\n",
              "      <td>https://scontent-hkg4-1.cdninstagram.com/v/t51...</td>\n",
              "      <td>31218</td>\n",
              "      <td>31218</td>\n",
              "      <td>45717781</td>\n",
              "      <td>False</td>\n",
              "      <td>Photo by 蔡阿嘎 in Gocheok Sky Dome with @yga0721...</td>\n",
              "      <td>1</td>\n",
              "      <td>2017-03-08 19:49:58</td>\n",
              "      <td>0.000000</td>\n",
              "    </tr>\n",
              "    <tr>\n",
              "      <th>3</th>\n",
              "      <td>15332</td>\n",
              "      <td>False</td>\n",
              "      <td>GraphImage</td>\n",
              "      <td>1465980684958803331</td>\n",
              "      <td>【首爾經典賽。台灣加油團 Day2】幹!!!! 原諒我罵髒話...去你的又是雖敗猶榮吃鍋貼啊...</td>\n",
              "      <td>BRYNap2jaWD</td>\n",
              "      <td>https://www.instagram.com/p/BRYNap2jaWD/</td>\n",
              "      <td>182</td>\n",
              "      <td>1488978537</td>\n",
              "      <td>https://scontent-hkg4-1.cdninstagram.com/v/t51...</td>\n",
              "      <td>28878</td>\n",
              "      <td>28878</td>\n",
              "      <td>45717781</td>\n",
              "      <td>False</td>\n",
              "      <td>Photo by 蔡阿嘎 in Gocheok Sky Dome. Image may co...</td>\n",
              "      <td>1</td>\n",
              "      <td>2017-03-08 21:08:57</td>\n",
              "      <td>0.000000</td>\n",
              "    </tr>\n",
              "    <tr>\n",
              "      <th>4</th>\n",
              "      <td>4779</td>\n",
              "      <td>False</td>\n",
              "      <td>GraphVideo</td>\n",
              "      <td>2026151494194839555</td>\n",
              "      <td>Congratulations to the Taiwan swimming athlete...</td>\n",
              "      <td>BweVgyInEAD</td>\n",
              "      <td>https://www.instagram.com/p/BweVgyInEAD/</td>\n",
              "      <td>14025</td>\n",
              "      <td>1555756224</td>\n",
              "      <td>https://scontent-hkg4-1.cdninstagram.com/v/t51...</td>\n",
              "      <td>26631</td>\n",
              "      <td>26631</td>\n",
              "      <td>188341698</td>\n",
              "      <td>True</td>\n",
              "      <td>NaN</td>\n",
              "      <td>1</td>\n",
              "      <td>2019-04-20 18:30:24</td>\n",
              "      <td>0.060000</td>\n",
              "    </tr>\n",
              "    <tr>\n",
              "      <th>5</th>\n",
              "      <td>4790</td>\n",
              "      <td>False</td>\n",
              "      <td>GraphSidecar</td>\n",
              "      <td>2025676281900567579</td>\n",
              "      <td>Congratulations to the Taiwan swimming athlete...</td>\n",
              "      <td>BwcpdiMngwb</td>\n",
              "      <td>https://www.instagram.com/p/BwcpdiMngwb/</td>\n",
              "      <td>3543</td>\n",
              "      <td>1555699452</td>\n",
              "      <td>https://scontent-hkg4-1.cdninstagram.com/v/t51...</td>\n",
              "      <td>24951</td>\n",
              "      <td>24951</td>\n",
              "      <td>188341698</td>\n",
              "      <td>False</td>\n",
              "      <td>Photo shared by عبدالكريم الهندال الهاشمي on A...</td>\n",
              "      <td>1</td>\n",
              "      <td>2019-04-20 02:44:12</td>\n",
              "      <td>0.060000</td>\n",
              "    </tr>\n",
              "    <tr>\n",
              "      <th>6</th>\n",
              "      <td>15389</td>\n",
              "      <td>False</td>\n",
              "      <td>GraphImage</td>\n",
              "      <td>1465872928943859643</td>\n",
              "      <td>【首爾經典賽。台灣加油團 Day2】第二場VS荷蘭準備開打啦!!!! 現場唱國旗歌好感動啊....</td>\n",
              "      <td>BRX06mPj2e7</td>\n",
              "      <td>https://www.instagram.com/p/BRX06mPj2e7/</td>\n",
              "      <td>61</td>\n",
              "      <td>1488965692</td>\n",
              "      <td>https://scontent-hkg4-1.cdninstagram.com/v/t51...</td>\n",
              "      <td>23157</td>\n",
              "      <td>23157</td>\n",
              "      <td>45717781</td>\n",
              "      <td>False</td>\n",
              "      <td>Photo by 蔡阿嘎 in Gocheok Sky Dome with @yga0721...</td>\n",
              "      <td>1</td>\n",
              "      <td>2017-03-08 17:34:52</td>\n",
              "      <td>0.000000</td>\n",
              "    </tr>\n",
              "    <tr>\n",
              "      <th>7</th>\n",
              "      <td>5536</td>\n",
              "      <td>False</td>\n",
              "      <td>GraphSidecar</td>\n",
              "      <td>1959363295405560101</td>\n",
              "      <td>生日快乐!\\nHappy Birthday to Chen Long, Wang Yihan...</td>\n",
              "      <td>BsxDok4llEl</td>\n",
              "      <td>https://www.instagram.com/p/BsxDok4llEl/</td>\n",
              "      <td>209</td>\n",
              "      <td>1547794328</td>\n",
              "      <td>https://scontent-hkg4-1.cdninstagram.com/v/t51...</td>\n",
              "      <td>20396</td>\n",
              "      <td>20396</td>\n",
              "      <td>2240068960</td>\n",
              "      <td>False</td>\n",
              "      <td>Photo by Badminton Talk on January 17, 2019. I...</td>\n",
              "      <td>1</td>\n",
              "      <td>2019-01-18 14:52:08</td>\n",
              "      <td>0.141061</td>\n",
              "    </tr>\n",
              "    <tr>\n",
              "      <th>8</th>\n",
              "      <td>8440</td>\n",
              "      <td>False</td>\n",
              "      <td>GraphImage</td>\n",
              "      <td>1844883068163268483</td>\n",
              "      <td>Sebuah kejanggalan muncul ketika timnas Indone...</td>\n",
              "      <td>BmaV2A6AR-D</td>\n",
              "      <td>https://www.instagram.com/p/BmaV2A6AR-D/</td>\n",
              "      <td>511</td>\n",
              "      <td>1534147221</td>\n",
              "      <td>https://scontent-hkg4-1.cdninstagram.com/v/t51...</td>\n",
              "      <td>18082</td>\n",
              "      <td>18082</td>\n",
              "      <td>34162187</td>\n",
              "      <td>False</td>\n",
              "      <td>Photo by Bola.net on August 13, 2018. Image ma...</td>\n",
              "      <td>1</td>\n",
              "      <td>2018-08-13 16:00:21</td>\n",
              "      <td>0.000000</td>\n",
              "    </tr>\n",
              "    <tr>\n",
              "      <th>9</th>\n",
              "      <td>7181</td>\n",
              "      <td>False</td>\n",
              "      <td>GraphImage</td>\n",
              "      <td>1880511444701813455</td>\n",
              "      <td>List of Indonesian players at Chinese Taipei O...</td>\n",
              "      <td>BoY6zIRghrP</td>\n",
              "      <td>https://www.instagram.com/p/BoY6zIRghrP/</td>\n",
              "      <td>248</td>\n",
              "      <td>1538394455</td>\n",
              "      <td>https://scontent-hkg4-1.cdninstagram.com/v/t51...</td>\n",
              "      <td>16828</td>\n",
              "      <td>16828</td>\n",
              "      <td>2240068960</td>\n",
              "      <td>False</td>\n",
              "      <td>Photo by Badminton Talk on October 01, 2018. I...</td>\n",
              "      <td>1</td>\n",
              "      <td>2018-10-01 19:47:35</td>\n",
              "      <td>0.410000</td>\n",
              "    </tr>\n",
              "  </tbody>\n",
              "</table>\n",
              "</div>"
            ],
            "text/plain": [
              "   index  comments_disabled    __typename                 __id  \\\n",
              "0   8498              False    GraphImage  1844310099184968951   \n",
              "1  15473              False    GraphImage  1464959248420835837   \n",
              "2  15346              False    GraphImage  1465940929172757026   \n",
              "3  15332              False    GraphImage  1465980684958803331   \n",
              "4   4779              False    GraphVideo  2026151494194839555   \n",
              "5   4790              False  GraphSidecar  2025676281900567579   \n",
              "6  15389              False    GraphImage  1465872928943859643   \n",
              "7   5536              False  GraphSidecar  1959363295405560101   \n",
              "8   8440              False    GraphImage  1844883068163268483   \n",
              "9   7181              False    GraphImage  1880511444701813455   \n",
              "\n",
              "                                                text    shortcode  \\\n",
              "0  open SABAR nyoook !!.\\n.\\n#indonesia x #chines...  BmYTkN9leT3   \n",
              "1  【首爾經典賽。台灣加油團 Day1】\\n場場硬戰的預賽：台灣V.S以色列開打啦!!! 轉播有...  BRUlKy8jBH9   \n",
              "2  【首爾經典賽。台灣加油團 Day2】5局結束5：4領先荷蘭啊啊啊!! 爽耶~一路贏到最後吧!...  BRYEYIZDFoi   \n",
              "3  【首爾經典賽。台灣加油團 Day2】幹!!!! 原諒我罵髒話...去你的又是雖敗猶榮吃鍋貼啊...  BRYNap2jaWD   \n",
              "4  Congratulations to the Taiwan swimming athlete...  BweVgyInEAD   \n",
              "5  Congratulations to the Taiwan swimming athlete...  BwcpdiMngwb   \n",
              "6  【首爾經典賽。台灣加油團 Day2】第二場VS荷蘭準備開打啦!!!! 現場唱國旗歌好感動啊....  BRX06mPj2e7   \n",
              "7  生日快乐!\\nHappy Birthday to Chen Long, Wang Yihan...  BsxDok4llEl   \n",
              "8  Sebuah kejanggalan muncul ketika timnas Indone...  BmaV2A6AR-D   \n",
              "9  List of Indonesian players at Chinese Taipei O...  BoY6zIRghrP   \n",
              "\n",
              "                                       link  edge_media_to_comment  \\\n",
              "0  https://www.instagram.com/p/BmYTkN9leT3/                   2139   \n",
              "1  https://www.instagram.com/p/BRUlKy8jBH9/                    162   \n",
              "2  https://www.instagram.com/p/BRYEYIZDFoi/                    101   \n",
              "3  https://www.instagram.com/p/BRYNap2jaWD/                    182   \n",
              "4  https://www.instagram.com/p/BweVgyInEAD/                  14025   \n",
              "5  https://www.instagram.com/p/BwcpdiMngwb/                   3543   \n",
              "6  https://www.instagram.com/p/BRX06mPj2e7/                     61   \n",
              "7  https://www.instagram.com/p/BsxDok4llEl/                    209   \n",
              "8  https://www.instagram.com/p/BmaV2A6AR-D/                    511   \n",
              "9  https://www.instagram.com/p/BoY6zIRghrP/                    248   \n",
              "\n",
              "   taken_at_timestamp                                        display_url  \\\n",
              "0          1534078918  https://scontent-hkg4-1.cdninstagram.com/v/t51...   \n",
              "1          1488856772  https://scontent-hkg4-1.cdninstagram.com/v/t51...   \n",
              "2          1488973798  https://scontent-hkg4-1.cdninstagram.com/v/t51...   \n",
              "3          1488978537  https://scontent-hkg4-1.cdninstagram.com/v/t51...   \n",
              "4          1555756224  https://scontent-hkg4-1.cdninstagram.com/v/t51...   \n",
              "5          1555699452  https://scontent-hkg4-1.cdninstagram.com/v/t51...   \n",
              "6          1488965692  https://scontent-hkg4-1.cdninstagram.com/v/t51...   \n",
              "7          1547794328  https://scontent-hkg4-1.cdninstagram.com/v/t51...   \n",
              "8          1534147221  https://scontent-hkg4-1.cdninstagram.com/v/t51...   \n",
              "9          1538394455  https://scontent-hkg4-1.cdninstagram.com/v/t51...   \n",
              "\n",
              "   edge_liked_by  edge_media_preview_like       owner  is_video  \\\n",
              "0         124828                   124828  1040001328     False   \n",
              "1          33104                    33104    45717781     False   \n",
              "2          31218                    31218    45717781     False   \n",
              "3          28878                    28878    45717781     False   \n",
              "4          26631                    26631   188341698      True   \n",
              "5          24951                    24951   188341698     False   \n",
              "6          23157                    23157    45717781     False   \n",
              "7          20396                    20396  2240068960     False   \n",
              "8          18082                    18082    34162187     False   \n",
              "9          16828                    16828  2240068960     False   \n",
              "\n",
              "                               accessibility_caption  count  \\\n",
              "0  Photo by Valentino Jebreeet Simanjuntak on Aug...      1   \n",
              "1  Photo by 蔡阿嘎 in Gocheok Sky Dome with @yga0721...      1   \n",
              "2  Photo by 蔡阿嘎 in Gocheok Sky Dome with @yga0721...      1   \n",
              "3  Photo by 蔡阿嘎 in Gocheok Sky Dome. Image may co...      1   \n",
              "4                                                NaN      1   \n",
              "5  Photo shared by عبدالكريم الهندال الهاشمي on A...      1   \n",
              "6  Photo by 蔡阿嘎 in Gocheok Sky Dome with @yga0721...      1   \n",
              "7  Photo by Badminton Talk on January 17, 2019. I...      1   \n",
              "8  Photo by Bola.net on August 13, 2018. Image ma...      1   \n",
              "9  Photo by Badminton Talk on October 01, 2018. I...      1   \n",
              "\n",
              "                 date  sentiment  \n",
              "0 2018-08-12 21:01:58   0.000000  \n",
              "1 2017-03-07 11:19:32   0.000000  \n",
              "2 2017-03-08 19:49:58   0.000000  \n",
              "3 2017-03-08 21:08:57   0.000000  \n",
              "4 2019-04-20 18:30:24   0.060000  \n",
              "5 2019-04-20 02:44:12   0.060000  \n",
              "6 2017-03-08 17:34:52   0.000000  \n",
              "7 2019-01-18 14:52:08   0.141061  \n",
              "8 2018-08-13 16:00:21   0.000000  \n",
              "9 2018-10-01 19:47:35   0.410000  "
            ]
          },
          "execution_count": 231,
          "metadata": {},
          "output_type": "execute_result"
        }
      ],
      "source": [
        "most_post_liked.head(10)"
      ]
    },
    {
      "cell_type": "code",
      "execution_count": null,
      "metadata": {
        "scrolled": true,
        "id": "kFub7L4_cVvv",
        "outputId": "9fd96d91-3c11-435c-924e-d5aa7af0f1a0"
      },
      "outputs": [
        {
          "data": {
            "text/plain": [
              "'Video of \"3x3.EXE PREMIER 2020 Press Conference\" held at Chinese Taipei on June 15th\\n\"3x3.EXE PREMIER CHINESE TAIPEI 2020 CUP\" will be held at Chinese Taipei from July.\\nI am looking forward to seeing what teams and players will participate!\\n\\n#3x3 #3x3EXE #3x3exepremier #fiba3x3 #3x3games #3x3basketball #basketball #summer #2019 #proleague #globalleague #streetball #3人制バスケットボール #スポーツ #sports #chinesetaipei #absolute #pressconference'"
            ]
          },
          "execution_count": 18,
          "metadata": {},
          "output_type": "execute_result"
        }
      ],
      "source": [
        "texts[0]"
      ]
    },
    {
      "cell_type": "code",
      "execution_count": null,
      "metadata": {
        "id": "rwm6Cl9vcVvv"
      },
      "outputs": [],
      "source": [
        ""
      ]
    },
    {
      "cell_type": "markdown",
      "metadata": {
        "id": "Z383ywbGcVvv"
      },
      "source": [
        "# Snownlp\n",
        "-https://github.com/isnowfy/snownlp?fbclid=IwAR0nzA6EDHo6JcU47FdLbevXg149F136vxxgEp-CQQjQF6rVAvSwPGs-njk\n",
        "\n",
        "-https://www.itread01.com/content/1544379321.html"
      ]
    },
    {
      "cell_type": "code",
      "execution_count": null,
      "metadata": {
        "id": "6WxHmPilcVvw",
        "outputId": "992dfd2f-481b-447e-d019-f00e1fb62461"
      },
      "outputs": [
        {
          "data": {
            "text/plain": [
              "[0.4686473612532025, 0, 0]"
            ]
          },
          "execution_count": 5,
          "metadata": {},
          "output_type": "execute_result"
        }
      ],
      "source": [
        "from snownlp import SnowNLP\n",
        "\n",
        "s = SnowNLP(u'这个东西真心很赞')\n",
        "\n",
        "s.words         # [u'这个', u'东西', u'真心',\n",
        "                #  u'很', u'赞']\n",
        "\n",
        "s.tags          # [(u'这个', u'r'), (u'东西', u'n'),\n",
        "                #  (u'真心', u'd'), (u'很', u'd'),\n",
        "                #  (u'赞', u'Vg')]\n",
        "\n",
        "s.sentiments    # 0.9769663402895832 positive的概率\n",
        "\n",
        "s.pinyin        # [u'zhe', u'ge', u'dong', u'xi',\n",
        "                #  u'zhen', u'xin', u'hen', u'zan']\n",
        "\n",
        "s = SnowNLP(u'「繁體字」「繁體中文」的叫法在臺灣亦很常見。')\n",
        "\n",
        "s.han           # u'「繁体字」「繁体中文」的叫法\n",
        "                # 在台湾亦很常见。'\n",
        "\n",
        "text = u'''\n",
        "自然语言处理是计算机科学领域与人工智能领域中的一个重要方向。\n",
        "它研究能实现人与计算机之间用自然语言进行有效通信的各种理论和方法。\n",
        "自然语言处理是一门融语言学、计算机科学、数学于一体的科学。\n",
        "因此，这一领域的研究将涉及自然语言，即人们日常使用的语言，\n",
        "所以它与语言学的研究有着密切的联系，但又有重要的区别。\n",
        "自然语言处理并不是一般地研究自然语言，\n",
        "而在于研制能有效地实现自然语言通信的计算机系统，\n",
        "特别是其中的软件系统。因而它是计算机科学的一部分。\n",
        "'''\n",
        "\n",
        "s = SnowNLP(text)\n",
        "\n",
        "s.keywords(3)\t# [u'语言', u'自然', u'计算机']\n",
        "\n",
        "s.summary(3)\t# [u'因而它是计算机科学的一部分',\n",
        "                #  u'自然语言处理是一门融语言学、计算机科学、\n",
        "\t\t\t\t#\t 数学于一体的科学',\n",
        "\t\t\t\t#  u'自然语言处理是计算机科学领域与人工智能\n",
        "\t\t\t\t#\t 领域中的一个重要方向']\n",
        "s.sentences\n",
        "\n",
        "s = SnowNLP([[u'这篇', u'文章'],\n",
        "             [u'那篇', u'论文'],\n",
        "             [u'这个']])\n",
        "s.tf\n",
        "s.idf\n",
        "s.sim([u'文章'])# [0.3756070762985226, 0, 0]"
      ]
    },
    {
      "cell_type": "markdown",
      "metadata": {
        "id": "0-2F1YDfcVvx"
      },
      "source": [
        "# TextBlob \n",
        "-https://textblob.readthedocs.io/en/dev/ \n",
        "\n",
        "-https://www.presentslide.in/2019/08/sentiment-analysis-textblob-library.html?utm_campaign=News&utm_medium=Community&utm_source=DataCamp.com&fbclid=IwAR1SKlDp0gYRe23ssYTv8JLjl6S754JfvRrBN-xXHwNtfZ7caBwzdxtB_cI"
      ]
    },
    {
      "cell_type": "code",
      "execution_count": null,
      "metadata": {
        "id": "7KhJyOtPcVvy",
        "outputId": "00b018fb-2898-455d-8212-3156d44f7eb3"
      },
      "outputs": [
        {
          "data": {
            "text/plain": [
              "TextBlob(\" We are learning cool Library . We are enjoying a lot .\")"
            ]
          },
          "execution_count": 6,
          "metadata": {},
          "output_type": "execute_result"
        }
      ],
      "source": [
        "from textblob import TextBlob\n",
        "tb1=TextBlob(\" We are learning cool Library . We are enjoying a lot .\")\n",
        "tb1\n"
      ]
    },
    {
      "cell_type": "code",
      "execution_count": null,
      "metadata": {
        "id": "aTwmPscfcVvy",
        "outputId": "2bbad341-9ab4-4f2b-bdc4-403dc1ed76ed"
      },
      "outputs": [
        {
          "name": "stdout",
          "output_type": "stream",
          "text": [
            "[nltk_data] Downloading package punkt to C:\\Users\\Yi Lin\n",
            "[nltk_data]     Hsu\\AppData\\Roaming\\nltk_data...\n",
            "[nltk_data]   Unzipping tokenizers\\punkt.zip.\n"
          ]
        },
        {
          "data": {
            "text/plain": [
              "True"
            ]
          },
          "execution_count": 7,
          "metadata": {},
          "output_type": "execute_result"
        }
      ],
      "source": [
        "import nltk\n",
        "nltk.download('punkt')"
      ]
    },
    {
      "cell_type": "code",
      "execution_count": null,
      "metadata": {
        "id": "Pe4koKDBcVvz",
        "outputId": "cd77a747-c263-474b-ada0-4385c6c4c1d2"
      },
      "outputs": [
        {
          "data": {
            "text/plain": [
              "WordList(['We', 'are', 'learning', 'cool', 'Library', 'We', 'are', 'enjoying', 'a', 'lot'])"
            ]
          },
          "execution_count": 8,
          "metadata": {},
          "output_type": "execute_result"
        }
      ],
      "source": [
        "tb1.words"
      ]
    },
    {
      "cell_type": "code",
      "execution_count": null,
      "metadata": {
        "id": "x-rFhaxScVvz",
        "outputId": "489f32d3-a5e4-4ac2-ce7c-18114964820f"
      },
      "outputs": [
        {
          "data": {
            "text/plain": [
              "[Sentence(\" We are learning cool Library .\"),\n",
              " Sentence(\"We are enjoying a lot .\")]"
            ]
          },
          "execution_count": 10,
          "metadata": {},
          "output_type": "execute_result"
        }
      ],
      "source": [
        "tb1.sentences"
      ]
    },
    {
      "cell_type": "code",
      "execution_count": null,
      "metadata": {
        "id": "EiQtnGq-cVvz",
        "outputId": "79e6ec73-8594-42ec-8960-252c9c0d2445"
      },
      "outputs": [
        {
          "data": {
            "text/plain": [
              "TextBlob(\"我们正在学习酷图书馆。我们很享受。\")"
            ]
          },
          "execution_count": 12,
          "metadata": {},
          "output_type": "execute_result"
        }
      ],
      "source": [
        "tb1.translate(to='zh')"
      ]
    },
    {
      "cell_type": "code",
      "execution_count": null,
      "metadata": {
        "id": "kJNakQmKcVvz",
        "outputId": "e5474200-c75c-41c7-80d3-9a2f18c3cccb"
      },
      "outputs": [
        {
          "ename": "HTTPError",
          "evalue": "HTTP Error 429: Too Many Requests",
          "output_type": "error",
          "traceback": [
            "\u001b[1;31m---------------------------------------------------------------------------\u001b[0m",
            "\u001b[1;31mHTTPError\u001b[0m                                 Traceback (most recent call last)",
            "\u001b[1;32m<ipython-input-320-77ff26b36fd0>\u001b[0m in \u001b[0;36m<module>\u001b[1;34m()\u001b[0m\n\u001b[1;32m----> 1\u001b[1;33m \u001b[0mTextBlob\u001b[0m\u001b[1;33m(\u001b[0m\u001b[1;34m'我很享受'\u001b[0m\u001b[1;33m)\u001b[0m\u001b[1;33m.\u001b[0m\u001b[0mdetect_language\u001b[0m\u001b[1;33m(\u001b[0m\u001b[1;33m)\u001b[0m\u001b[1;33m\u001b[0m\u001b[0m\n\u001b[0m",
            "\u001b[1;32m~\\AppData\\Local\\Continuum\\anaconda3\\lib\\site-packages\\textblob\\blob.py\u001b[0m in \u001b[0;36mdetect_language\u001b[1;34m(self)\u001b[0m\n\u001b[0;32m    566\u001b[0m         \u001b[1;33m:\u001b[0m\u001b[0mrtype\u001b[0m\u001b[1;33m:\u001b[0m \u001b[0mstr\u001b[0m\u001b[1;33m\u001b[0m\u001b[0m\n\u001b[0;32m    567\u001b[0m         \"\"\"\n\u001b[1;32m--> 568\u001b[1;33m         \u001b[1;32mreturn\u001b[0m \u001b[0mself\u001b[0m\u001b[1;33m.\u001b[0m\u001b[0mtranslator\u001b[0m\u001b[1;33m.\u001b[0m\u001b[0mdetect\u001b[0m\u001b[1;33m(\u001b[0m\u001b[0mself\u001b[0m\u001b[1;33m.\u001b[0m\u001b[0mraw\u001b[0m\u001b[1;33m)\u001b[0m\u001b[1;33m\u001b[0m\u001b[0m\n\u001b[0m\u001b[0;32m    569\u001b[0m \u001b[1;33m\u001b[0m\u001b[0m\n\u001b[0;32m    570\u001b[0m     \u001b[1;32mdef\u001b[0m \u001b[0mcorrect\u001b[0m\u001b[1;33m(\u001b[0m\u001b[0mself\u001b[0m\u001b[1;33m)\u001b[0m\u001b[1;33m:\u001b[0m\u001b[1;33m\u001b[0m\u001b[0m\n",
            "\u001b[1;32m~\\AppData\\Local\\Continuum\\anaconda3\\lib\\site-packages\\textblob\\translate.py\u001b[0m in \u001b[0;36mdetect\u001b[1;34m(self, source, host, type_)\u001b[0m\n\u001b[0;32m     70\u001b[0m         \u001b[0mdata\u001b[0m \u001b[1;33m=\u001b[0m \u001b[1;33m{\u001b[0m\u001b[1;34m\"q\"\u001b[0m\u001b[1;33m:\u001b[0m \u001b[0msource\u001b[0m\u001b[1;33m}\u001b[0m\u001b[1;33m\u001b[0m\u001b[0m\n\u001b[0;32m     71\u001b[0m         \u001b[0murl\u001b[0m \u001b[1;33m=\u001b[0m \u001b[1;34mu'{url}&sl=auto&tk={tk}'\u001b[0m\u001b[1;33m.\u001b[0m\u001b[0mformat\u001b[0m\u001b[1;33m(\u001b[0m\u001b[0murl\u001b[0m\u001b[1;33m=\u001b[0m\u001b[0mself\u001b[0m\u001b[1;33m.\u001b[0m\u001b[0murl\u001b[0m\u001b[1;33m,\u001b[0m \u001b[0mtk\u001b[0m\u001b[1;33m=\u001b[0m\u001b[0m_calculate_tk\u001b[0m\u001b[1;33m(\u001b[0m\u001b[0msource\u001b[0m\u001b[1;33m)\u001b[0m\u001b[1;33m)\u001b[0m\u001b[1;33m\u001b[0m\u001b[0m\n\u001b[1;32m---> 72\u001b[1;33m         \u001b[0mresponse\u001b[0m \u001b[1;33m=\u001b[0m \u001b[0mself\u001b[0m\u001b[1;33m.\u001b[0m\u001b[0m_request\u001b[0m\u001b[1;33m(\u001b[0m\u001b[0murl\u001b[0m\u001b[1;33m,\u001b[0m \u001b[0mhost\u001b[0m\u001b[1;33m=\u001b[0m\u001b[0mhost\u001b[0m\u001b[1;33m,\u001b[0m \u001b[0mtype_\u001b[0m\u001b[1;33m=\u001b[0m\u001b[0mtype_\u001b[0m\u001b[1;33m,\u001b[0m \u001b[0mdata\u001b[0m\u001b[1;33m=\u001b[0m\u001b[0mdata\u001b[0m\u001b[1;33m)\u001b[0m\u001b[1;33m\u001b[0m\u001b[0m\n\u001b[0m\u001b[0;32m     73\u001b[0m         \u001b[0mresult\u001b[0m\u001b[1;33m,\u001b[0m \u001b[0mlanguage\u001b[0m \u001b[1;33m=\u001b[0m \u001b[0mjson\u001b[0m\u001b[1;33m.\u001b[0m\u001b[0mloads\u001b[0m\u001b[1;33m(\u001b[0m\u001b[0mresponse\u001b[0m\u001b[1;33m)\u001b[0m\u001b[1;33m\u001b[0m\u001b[0m\n\u001b[0;32m     74\u001b[0m         \u001b[1;32mreturn\u001b[0m \u001b[0mlanguage\u001b[0m\u001b[1;33m\u001b[0m\u001b[0m\n",
            "\u001b[1;32m~\\AppData\\Local\\Continuum\\anaconda3\\lib\\site-packages\\textblob\\translate.py\u001b[0m in \u001b[0;36m_request\u001b[1;34m(self, url, host, type_, data)\u001b[0m\n\u001b[0;32m     90\u001b[0m         \u001b[1;32mif\u001b[0m \u001b[0mhost\u001b[0m \u001b[1;32mor\u001b[0m \u001b[0mtype_\u001b[0m\u001b[1;33m:\u001b[0m\u001b[1;33m\u001b[0m\u001b[0m\n\u001b[0;32m     91\u001b[0m             \u001b[0mreq\u001b[0m\u001b[1;33m.\u001b[0m\u001b[0mset_proxy\u001b[0m\u001b[1;33m(\u001b[0m\u001b[0mhost\u001b[0m\u001b[1;33m=\u001b[0m\u001b[0mhost\u001b[0m\u001b[1;33m,\u001b[0m \u001b[0mtype\u001b[0m\u001b[1;33m=\u001b[0m\u001b[0mtype_\u001b[0m\u001b[1;33m)\u001b[0m\u001b[1;33m\u001b[0m\u001b[0m\n\u001b[1;32m---> 92\u001b[1;33m         \u001b[0mresp\u001b[0m \u001b[1;33m=\u001b[0m \u001b[0mrequest\u001b[0m\u001b[1;33m.\u001b[0m\u001b[0murlopen\u001b[0m\u001b[1;33m(\u001b[0m\u001b[0mreq\u001b[0m\u001b[1;33m)\u001b[0m\u001b[1;33m\u001b[0m\u001b[0m\n\u001b[0m\u001b[0;32m     93\u001b[0m         \u001b[0mcontent\u001b[0m \u001b[1;33m=\u001b[0m \u001b[0mresp\u001b[0m\u001b[1;33m.\u001b[0m\u001b[0mread\u001b[0m\u001b[1;33m(\u001b[0m\u001b[1;33m)\u001b[0m\u001b[1;33m\u001b[0m\u001b[0m\n\u001b[0;32m     94\u001b[0m         \u001b[1;32mreturn\u001b[0m \u001b[0mcontent\u001b[0m\u001b[1;33m.\u001b[0m\u001b[0mdecode\u001b[0m\u001b[1;33m(\u001b[0m\u001b[1;34m'utf-8'\u001b[0m\u001b[1;33m)\u001b[0m\u001b[1;33m\u001b[0m\u001b[0m\n",
            "\u001b[1;32m~\\AppData\\Local\\Continuum\\anaconda3\\lib\\urllib\\request.py\u001b[0m in \u001b[0;36murlopen\u001b[1;34m(url, data, timeout, cafile, capath, cadefault, context)\u001b[0m\n\u001b[0;32m    220\u001b[0m     \u001b[1;32melse\u001b[0m\u001b[1;33m:\u001b[0m\u001b[1;33m\u001b[0m\u001b[0m\n\u001b[0;32m    221\u001b[0m         \u001b[0mopener\u001b[0m \u001b[1;33m=\u001b[0m \u001b[0m_opener\u001b[0m\u001b[1;33m\u001b[0m\u001b[0m\n\u001b[1;32m--> 222\u001b[1;33m     \u001b[1;32mreturn\u001b[0m \u001b[0mopener\u001b[0m\u001b[1;33m.\u001b[0m\u001b[0mopen\u001b[0m\u001b[1;33m(\u001b[0m\u001b[0murl\u001b[0m\u001b[1;33m,\u001b[0m \u001b[0mdata\u001b[0m\u001b[1;33m,\u001b[0m \u001b[0mtimeout\u001b[0m\u001b[1;33m)\u001b[0m\u001b[1;33m\u001b[0m\u001b[0m\n\u001b[0m\u001b[0;32m    223\u001b[0m \u001b[1;33m\u001b[0m\u001b[0m\n\u001b[0;32m    224\u001b[0m \u001b[1;32mdef\u001b[0m \u001b[0minstall_opener\u001b[0m\u001b[1;33m(\u001b[0m\u001b[0mopener\u001b[0m\u001b[1;33m)\u001b[0m\u001b[1;33m:\u001b[0m\u001b[1;33m\u001b[0m\u001b[0m\n",
            "\u001b[1;32m~\\AppData\\Local\\Continuum\\anaconda3\\lib\\urllib\\request.py\u001b[0m in \u001b[0;36mopen\u001b[1;34m(self, fullurl, data, timeout)\u001b[0m\n\u001b[0;32m    529\u001b[0m         \u001b[1;32mfor\u001b[0m \u001b[0mprocessor\u001b[0m \u001b[1;32min\u001b[0m \u001b[0mself\u001b[0m\u001b[1;33m.\u001b[0m\u001b[0mprocess_response\u001b[0m\u001b[1;33m.\u001b[0m\u001b[0mget\u001b[0m\u001b[1;33m(\u001b[0m\u001b[0mprotocol\u001b[0m\u001b[1;33m,\u001b[0m \u001b[1;33m[\u001b[0m\u001b[1;33m]\u001b[0m\u001b[1;33m)\u001b[0m\u001b[1;33m:\u001b[0m\u001b[1;33m\u001b[0m\u001b[0m\n\u001b[0;32m    530\u001b[0m             \u001b[0mmeth\u001b[0m \u001b[1;33m=\u001b[0m \u001b[0mgetattr\u001b[0m\u001b[1;33m(\u001b[0m\u001b[0mprocessor\u001b[0m\u001b[1;33m,\u001b[0m \u001b[0mmeth_name\u001b[0m\u001b[1;33m)\u001b[0m\u001b[1;33m\u001b[0m\u001b[0m\n\u001b[1;32m--> 531\u001b[1;33m             \u001b[0mresponse\u001b[0m \u001b[1;33m=\u001b[0m \u001b[0mmeth\u001b[0m\u001b[1;33m(\u001b[0m\u001b[0mreq\u001b[0m\u001b[1;33m,\u001b[0m \u001b[0mresponse\u001b[0m\u001b[1;33m)\u001b[0m\u001b[1;33m\u001b[0m\u001b[0m\n\u001b[0m\u001b[0;32m    532\u001b[0m \u001b[1;33m\u001b[0m\u001b[0m\n\u001b[0;32m    533\u001b[0m         \u001b[1;32mreturn\u001b[0m \u001b[0mresponse\u001b[0m\u001b[1;33m\u001b[0m\u001b[0m\n",
            "\u001b[1;32m~\\AppData\\Local\\Continuum\\anaconda3\\lib\\urllib\\request.py\u001b[0m in \u001b[0;36mhttp_response\u001b[1;34m(self, request, response)\u001b[0m\n\u001b[0;32m    639\u001b[0m         \u001b[1;32mif\u001b[0m \u001b[1;32mnot\u001b[0m \u001b[1;33m(\u001b[0m\u001b[1;36m200\u001b[0m \u001b[1;33m<=\u001b[0m \u001b[0mcode\u001b[0m \u001b[1;33m<\u001b[0m \u001b[1;36m300\u001b[0m\u001b[1;33m)\u001b[0m\u001b[1;33m:\u001b[0m\u001b[1;33m\u001b[0m\u001b[0m\n\u001b[0;32m    640\u001b[0m             response = self.parent.error(\n\u001b[1;32m--> 641\u001b[1;33m                 'http', request, response, code, msg, hdrs)\n\u001b[0m\u001b[0;32m    642\u001b[0m \u001b[1;33m\u001b[0m\u001b[0m\n\u001b[0;32m    643\u001b[0m         \u001b[1;32mreturn\u001b[0m \u001b[0mresponse\u001b[0m\u001b[1;33m\u001b[0m\u001b[0m\n",
            "\u001b[1;32m~\\AppData\\Local\\Continuum\\anaconda3\\lib\\urllib\\request.py\u001b[0m in \u001b[0;36merror\u001b[1;34m(self, proto, *args)\u001b[0m\n\u001b[0;32m    561\u001b[0m             \u001b[0mhttp_err\u001b[0m \u001b[1;33m=\u001b[0m \u001b[1;36m0\u001b[0m\u001b[1;33m\u001b[0m\u001b[0m\n\u001b[0;32m    562\u001b[0m         \u001b[0margs\u001b[0m \u001b[1;33m=\u001b[0m \u001b[1;33m(\u001b[0m\u001b[0mdict\u001b[0m\u001b[1;33m,\u001b[0m \u001b[0mproto\u001b[0m\u001b[1;33m,\u001b[0m \u001b[0mmeth_name\u001b[0m\u001b[1;33m)\u001b[0m \u001b[1;33m+\u001b[0m \u001b[0margs\u001b[0m\u001b[1;33m\u001b[0m\u001b[0m\n\u001b[1;32m--> 563\u001b[1;33m         \u001b[0mresult\u001b[0m \u001b[1;33m=\u001b[0m \u001b[0mself\u001b[0m\u001b[1;33m.\u001b[0m\u001b[0m_call_chain\u001b[0m\u001b[1;33m(\u001b[0m\u001b[1;33m*\u001b[0m\u001b[0margs\u001b[0m\u001b[1;33m)\u001b[0m\u001b[1;33m\u001b[0m\u001b[0m\n\u001b[0m\u001b[0;32m    564\u001b[0m         \u001b[1;32mif\u001b[0m \u001b[0mresult\u001b[0m\u001b[1;33m:\u001b[0m\u001b[1;33m\u001b[0m\u001b[0m\n\u001b[0;32m    565\u001b[0m             \u001b[1;32mreturn\u001b[0m \u001b[0mresult\u001b[0m\u001b[1;33m\u001b[0m\u001b[0m\n",
            "\u001b[1;32m~\\AppData\\Local\\Continuum\\anaconda3\\lib\\urllib\\request.py\u001b[0m in \u001b[0;36m_call_chain\u001b[1;34m(self, chain, kind, meth_name, *args)\u001b[0m\n\u001b[0;32m    501\u001b[0m         \u001b[1;32mfor\u001b[0m \u001b[0mhandler\u001b[0m \u001b[1;32min\u001b[0m \u001b[0mhandlers\u001b[0m\u001b[1;33m:\u001b[0m\u001b[1;33m\u001b[0m\u001b[0m\n\u001b[0;32m    502\u001b[0m             \u001b[0mfunc\u001b[0m \u001b[1;33m=\u001b[0m \u001b[0mgetattr\u001b[0m\u001b[1;33m(\u001b[0m\u001b[0mhandler\u001b[0m\u001b[1;33m,\u001b[0m \u001b[0mmeth_name\u001b[0m\u001b[1;33m)\u001b[0m\u001b[1;33m\u001b[0m\u001b[0m\n\u001b[1;32m--> 503\u001b[1;33m             \u001b[0mresult\u001b[0m \u001b[1;33m=\u001b[0m \u001b[0mfunc\u001b[0m\u001b[1;33m(\u001b[0m\u001b[1;33m*\u001b[0m\u001b[0margs\u001b[0m\u001b[1;33m)\u001b[0m\u001b[1;33m\u001b[0m\u001b[0m\n\u001b[0m\u001b[0;32m    504\u001b[0m             \u001b[1;32mif\u001b[0m \u001b[0mresult\u001b[0m \u001b[1;32mis\u001b[0m \u001b[1;32mnot\u001b[0m \u001b[1;32mNone\u001b[0m\u001b[1;33m:\u001b[0m\u001b[1;33m\u001b[0m\u001b[0m\n\u001b[0;32m    505\u001b[0m                 \u001b[1;32mreturn\u001b[0m \u001b[0mresult\u001b[0m\u001b[1;33m\u001b[0m\u001b[0m\n",
            "\u001b[1;32m~\\AppData\\Local\\Continuum\\anaconda3\\lib\\urllib\\request.py\u001b[0m in \u001b[0;36mhttp_error_302\u001b[1;34m(self, req, fp, code, msg, headers)\u001b[0m\n\u001b[0;32m    753\u001b[0m         \u001b[0mfp\u001b[0m\u001b[1;33m.\u001b[0m\u001b[0mclose\u001b[0m\u001b[1;33m(\u001b[0m\u001b[1;33m)\u001b[0m\u001b[1;33m\u001b[0m\u001b[0m\n\u001b[0;32m    754\u001b[0m \u001b[1;33m\u001b[0m\u001b[0m\n\u001b[1;32m--> 755\u001b[1;33m         \u001b[1;32mreturn\u001b[0m \u001b[0mself\u001b[0m\u001b[1;33m.\u001b[0m\u001b[0mparent\u001b[0m\u001b[1;33m.\u001b[0m\u001b[0mopen\u001b[0m\u001b[1;33m(\u001b[0m\u001b[0mnew\u001b[0m\u001b[1;33m,\u001b[0m \u001b[0mtimeout\u001b[0m\u001b[1;33m=\u001b[0m\u001b[0mreq\u001b[0m\u001b[1;33m.\u001b[0m\u001b[0mtimeout\u001b[0m\u001b[1;33m)\u001b[0m\u001b[1;33m\u001b[0m\u001b[0m\n\u001b[0m\u001b[0;32m    756\u001b[0m \u001b[1;33m\u001b[0m\u001b[0m\n\u001b[0;32m    757\u001b[0m     \u001b[0mhttp_error_301\u001b[0m \u001b[1;33m=\u001b[0m \u001b[0mhttp_error_303\u001b[0m \u001b[1;33m=\u001b[0m \u001b[0mhttp_error_307\u001b[0m \u001b[1;33m=\u001b[0m \u001b[0mhttp_error_302\u001b[0m\u001b[1;33m\u001b[0m\u001b[0m\n",
            "\u001b[1;32m~\\AppData\\Local\\Continuum\\anaconda3\\lib\\urllib\\request.py\u001b[0m in \u001b[0;36mopen\u001b[1;34m(self, fullurl, data, timeout)\u001b[0m\n\u001b[0;32m    529\u001b[0m         \u001b[1;32mfor\u001b[0m \u001b[0mprocessor\u001b[0m \u001b[1;32min\u001b[0m \u001b[0mself\u001b[0m\u001b[1;33m.\u001b[0m\u001b[0mprocess_response\u001b[0m\u001b[1;33m.\u001b[0m\u001b[0mget\u001b[0m\u001b[1;33m(\u001b[0m\u001b[0mprotocol\u001b[0m\u001b[1;33m,\u001b[0m \u001b[1;33m[\u001b[0m\u001b[1;33m]\u001b[0m\u001b[1;33m)\u001b[0m\u001b[1;33m:\u001b[0m\u001b[1;33m\u001b[0m\u001b[0m\n\u001b[0;32m    530\u001b[0m             \u001b[0mmeth\u001b[0m \u001b[1;33m=\u001b[0m \u001b[0mgetattr\u001b[0m\u001b[1;33m(\u001b[0m\u001b[0mprocessor\u001b[0m\u001b[1;33m,\u001b[0m \u001b[0mmeth_name\u001b[0m\u001b[1;33m)\u001b[0m\u001b[1;33m\u001b[0m\u001b[0m\n\u001b[1;32m--> 531\u001b[1;33m             \u001b[0mresponse\u001b[0m \u001b[1;33m=\u001b[0m \u001b[0mmeth\u001b[0m\u001b[1;33m(\u001b[0m\u001b[0mreq\u001b[0m\u001b[1;33m,\u001b[0m \u001b[0mresponse\u001b[0m\u001b[1;33m)\u001b[0m\u001b[1;33m\u001b[0m\u001b[0m\n\u001b[0m\u001b[0;32m    532\u001b[0m \u001b[1;33m\u001b[0m\u001b[0m\n\u001b[0;32m    533\u001b[0m         \u001b[1;32mreturn\u001b[0m \u001b[0mresponse\u001b[0m\u001b[1;33m\u001b[0m\u001b[0m\n",
            "\u001b[1;32m~\\AppData\\Local\\Continuum\\anaconda3\\lib\\urllib\\request.py\u001b[0m in \u001b[0;36mhttp_response\u001b[1;34m(self, request, response)\u001b[0m\n\u001b[0;32m    639\u001b[0m         \u001b[1;32mif\u001b[0m \u001b[1;32mnot\u001b[0m \u001b[1;33m(\u001b[0m\u001b[1;36m200\u001b[0m \u001b[1;33m<=\u001b[0m \u001b[0mcode\u001b[0m \u001b[1;33m<\u001b[0m \u001b[1;36m300\u001b[0m\u001b[1;33m)\u001b[0m\u001b[1;33m:\u001b[0m\u001b[1;33m\u001b[0m\u001b[0m\n\u001b[0;32m    640\u001b[0m             response = self.parent.error(\n\u001b[1;32m--> 641\u001b[1;33m                 'http', request, response, code, msg, hdrs)\n\u001b[0m\u001b[0;32m    642\u001b[0m \u001b[1;33m\u001b[0m\u001b[0m\n\u001b[0;32m    643\u001b[0m         \u001b[1;32mreturn\u001b[0m \u001b[0mresponse\u001b[0m\u001b[1;33m\u001b[0m\u001b[0m\n",
            "\u001b[1;32m~\\AppData\\Local\\Continuum\\anaconda3\\lib\\urllib\\request.py\u001b[0m in \u001b[0;36merror\u001b[1;34m(self, proto, *args)\u001b[0m\n\u001b[0;32m    567\u001b[0m         \u001b[1;32mif\u001b[0m \u001b[0mhttp_err\u001b[0m\u001b[1;33m:\u001b[0m\u001b[1;33m\u001b[0m\u001b[0m\n\u001b[0;32m    568\u001b[0m             \u001b[0margs\u001b[0m \u001b[1;33m=\u001b[0m \u001b[1;33m(\u001b[0m\u001b[0mdict\u001b[0m\u001b[1;33m,\u001b[0m \u001b[1;34m'default'\u001b[0m\u001b[1;33m,\u001b[0m \u001b[1;34m'http_error_default'\u001b[0m\u001b[1;33m)\u001b[0m \u001b[1;33m+\u001b[0m \u001b[0morig_args\u001b[0m\u001b[1;33m\u001b[0m\u001b[0m\n\u001b[1;32m--> 569\u001b[1;33m             \u001b[1;32mreturn\u001b[0m \u001b[0mself\u001b[0m\u001b[1;33m.\u001b[0m\u001b[0m_call_chain\u001b[0m\u001b[1;33m(\u001b[0m\u001b[1;33m*\u001b[0m\u001b[0margs\u001b[0m\u001b[1;33m)\u001b[0m\u001b[1;33m\u001b[0m\u001b[0m\n\u001b[0m\u001b[0;32m    570\u001b[0m \u001b[1;33m\u001b[0m\u001b[0m\n\u001b[0;32m    571\u001b[0m \u001b[1;31m# XXX probably also want an abstract factory that knows when it makes\u001b[0m\u001b[1;33m\u001b[0m\u001b[1;33m\u001b[0m\u001b[0m\n",
            "\u001b[1;32m~\\AppData\\Local\\Continuum\\anaconda3\\lib\\urllib\\request.py\u001b[0m in \u001b[0;36m_call_chain\u001b[1;34m(self, chain, kind, meth_name, *args)\u001b[0m\n\u001b[0;32m    501\u001b[0m         \u001b[1;32mfor\u001b[0m \u001b[0mhandler\u001b[0m \u001b[1;32min\u001b[0m \u001b[0mhandlers\u001b[0m\u001b[1;33m:\u001b[0m\u001b[1;33m\u001b[0m\u001b[0m\n\u001b[0;32m    502\u001b[0m             \u001b[0mfunc\u001b[0m \u001b[1;33m=\u001b[0m \u001b[0mgetattr\u001b[0m\u001b[1;33m(\u001b[0m\u001b[0mhandler\u001b[0m\u001b[1;33m,\u001b[0m \u001b[0mmeth_name\u001b[0m\u001b[1;33m)\u001b[0m\u001b[1;33m\u001b[0m\u001b[0m\n\u001b[1;32m--> 503\u001b[1;33m             \u001b[0mresult\u001b[0m \u001b[1;33m=\u001b[0m \u001b[0mfunc\u001b[0m\u001b[1;33m(\u001b[0m\u001b[1;33m*\u001b[0m\u001b[0margs\u001b[0m\u001b[1;33m)\u001b[0m\u001b[1;33m\u001b[0m\u001b[0m\n\u001b[0m\u001b[0;32m    504\u001b[0m             \u001b[1;32mif\u001b[0m \u001b[0mresult\u001b[0m \u001b[1;32mis\u001b[0m \u001b[1;32mnot\u001b[0m \u001b[1;32mNone\u001b[0m\u001b[1;33m:\u001b[0m\u001b[1;33m\u001b[0m\u001b[0m\n\u001b[0;32m    505\u001b[0m                 \u001b[1;32mreturn\u001b[0m \u001b[0mresult\u001b[0m\u001b[1;33m\u001b[0m\u001b[0m\n",
            "\u001b[1;32m~\\AppData\\Local\\Continuum\\anaconda3\\lib\\urllib\\request.py\u001b[0m in \u001b[0;36mhttp_error_default\u001b[1;34m(self, req, fp, code, msg, hdrs)\u001b[0m\n\u001b[0;32m    647\u001b[0m \u001b[1;32mclass\u001b[0m \u001b[0mHTTPDefaultErrorHandler\u001b[0m\u001b[1;33m(\u001b[0m\u001b[0mBaseHandler\u001b[0m\u001b[1;33m)\u001b[0m\u001b[1;33m:\u001b[0m\u001b[1;33m\u001b[0m\u001b[0m\n\u001b[0;32m    648\u001b[0m     \u001b[1;32mdef\u001b[0m \u001b[0mhttp_error_default\u001b[0m\u001b[1;33m(\u001b[0m\u001b[0mself\u001b[0m\u001b[1;33m,\u001b[0m \u001b[0mreq\u001b[0m\u001b[1;33m,\u001b[0m \u001b[0mfp\u001b[0m\u001b[1;33m,\u001b[0m \u001b[0mcode\u001b[0m\u001b[1;33m,\u001b[0m \u001b[0mmsg\u001b[0m\u001b[1;33m,\u001b[0m \u001b[0mhdrs\u001b[0m\u001b[1;33m)\u001b[0m\u001b[1;33m:\u001b[0m\u001b[1;33m\u001b[0m\u001b[0m\n\u001b[1;32m--> 649\u001b[1;33m         \u001b[1;32mraise\u001b[0m \u001b[0mHTTPError\u001b[0m\u001b[1;33m(\u001b[0m\u001b[0mreq\u001b[0m\u001b[1;33m.\u001b[0m\u001b[0mfull_url\u001b[0m\u001b[1;33m,\u001b[0m \u001b[0mcode\u001b[0m\u001b[1;33m,\u001b[0m \u001b[0mmsg\u001b[0m\u001b[1;33m,\u001b[0m \u001b[0mhdrs\u001b[0m\u001b[1;33m,\u001b[0m \u001b[0mfp\u001b[0m\u001b[1;33m)\u001b[0m\u001b[1;33m\u001b[0m\u001b[0m\n\u001b[0m\u001b[0;32m    650\u001b[0m \u001b[1;33m\u001b[0m\u001b[0m\n\u001b[0;32m    651\u001b[0m \u001b[1;32mclass\u001b[0m \u001b[0mHTTPRedirectHandler\u001b[0m\u001b[1;33m(\u001b[0m\u001b[0mBaseHandler\u001b[0m\u001b[1;33m)\u001b[0m\u001b[1;33m:\u001b[0m\u001b[1;33m\u001b[0m\u001b[0m\n",
            "\u001b[1;31mHTTPError\u001b[0m: HTTP Error 429: Too Many Requests"
          ]
        }
      ],
      "source": [
        "TextBlob('我很享受').detect_language()"
      ]
    },
    {
      "cell_type": "code",
      "execution_count": null,
      "metadata": {
        "id": "-BiD8KhZcVv0",
        "outputId": "751e4ee2-2ee5-48f7-f57b-57ba97fa5d79"
      },
      "outputs": [
        {
          "data": {
            "text/plain": [
              "Sentiment(polarity=0.425, subjectivity=0.625)"
            ]
          },
          "execution_count": 30,
          "metadata": {},
          "output_type": "execute_result"
        }
      ],
      "source": [
        "tb1.sentiment"
      ]
    },
    {
      "cell_type": "code",
      "execution_count": null,
      "metadata": {
        "scrolled": true,
        "id": "pHr4mXLbcVv0",
        "outputId": "206a047a-d273-4eba-ead5-059e4ac47225"
      },
      "outputs": [
        {
          "data": {
            "text/plain": [
              "Sentiment(polarity=0.0, subjectivity=0.0)"
            ]
          },
          "execution_count": 31,
          "metadata": {},
          "output_type": "execute_result"
        }
      ],
      "source": [
        "tb1.translate(to='zh').sentiment"
      ]
    },
    {
      "cell_type": "markdown",
      "metadata": {
        "id": "sk9MbG88cVv0"
      },
      "source": [
        "# Sentiment"
      ]
    },
    {
      "cell_type": "code",
      "execution_count": null,
      "metadata": {
        "id": "dLPn5PpgcVv0"
      },
      "outputs": [],
      "source": [
        "def get_sentiment_cn(text):\n",
        "    s = SnowNLP(str(text))\n",
        "    return s.sentiments"
      ]
    },
    {
      "cell_type": "code",
      "execution_count": null,
      "metadata": {
        "id": "T6D7xXzQcVv1"
      },
      "outputs": [],
      "source": [
        "def get_sentiment_en(text):\n",
        "    s = TextBlob(str(text))\n",
        "    try:\n",
        "        s.translate(to='en')\n",
        "    finally:     \n",
        "        return s.polarity"
      ]
    },
    {
      "cell_type": "code",
      "execution_count": null,
      "metadata": {
        "id": "0d-dph-scVv1",
        "outputId": "5343b7a5-813e-4d65-f5d2-d700adf18538"
      },
      "outputs": [
        {
          "data": {
            "text/plain": [
              "0.05"
            ]
          },
          "execution_count": 348,
          "metadata": {},
          "output_type": "execute_result"
        }
      ],
      "source": [
        "get_sentiment_en(texts[0])"
      ]
    },
    {
      "cell_type": "code",
      "execution_count": null,
      "metadata": {
        "id": "4QTyFaqkcVv1"
      },
      "outputs": [],
      "source": [
        "\n",
        "def get_sentiment(text):\n",
        "    s = TextBlob(text)\n",
        "    if s.detect_language()=='zh'or s.detect_language()=='zh-TW' or s.detect_language()=='zh-CN':\n",
        "        return get_sentiment_cn(text)\n",
        "    elif  s.detect_language()=='en':\n",
        "         return get_sentiment_en(text)\n",
        "    else:\n",
        "         return s.translate(to='en').polarity"
      ]
    },
    {
      "cell_type": "code",
      "execution_count": null,
      "metadata": {
        "id": "XVqatyAecVv1",
        "outputId": "d813317d-a41b-4a2e-a111-ebbdcd0de167"
      },
      "outputs": [
        {
          "data": {
            "text/plain": [
              "0.06439393939393939"
            ]
          },
          "execution_count": 65,
          "metadata": {},
          "output_type": "execute_result"
        }
      ],
      "source": [
        "get_sentiment(texts[3])"
      ]
    },
    {
      "cell_type": "code",
      "execution_count": null,
      "metadata": {
        "id": "JkdX-IQqcVv1",
        "outputId": "2b5f5bef-bf03-42d8-af4c-4e2a99b60db1"
      },
      "outputs": [
        {
          "data": {
            "text/plain": [
              "'#Malaysia vs #ChineseTaipei 2nd goal'"
            ]
          },
          "execution_count": 40,
          "metadata": {},
          "output_type": "execute_result"
        }
      ],
      "source": [
        "row['text']"
      ]
    },
    {
      "cell_type": "code",
      "execution_count": null,
      "metadata": {
        "id": "Hq3sgsH7cVv2",
        "outputId": "a1b7bf63-51b4-4425-a15a-75ce57b4ee1d"
      },
      "outputs": [
        {
          "data": {
            "text/plain": [
              "'🇹🇼 The proposed new Taiwanese professional league initiated by Blackie Chen of the Formosa Dreamers is making big strides forward.\\n\\nThe venture is likely looking to rival or replace the semi-professional Super Basketball League, which have been on a steady decline in recent years.\\n\\nApart from the Dreamers, fellow ASEAN Basketball League team Fubon Braves, and a few current and former SBL teams are reportedly interested in the venture.\\n\\nAccording to an insider report by @rbceddie, several investors are also looking to form a new team that will be based in Zhubei City in northern Taiwan.\\n\\nAlthough still currently in the infancy stage, the progression of the project is giving Taiwanese basketball fans a sign of hope to have a new and thriving domestic professional league.\\n\\nFollow @asiapacifichoops for daily news and updates from around the region 🏀'"
            ]
          },
          "execution_count": 66,
          "metadata": {},
          "output_type": "execute_result"
        }
      ],
      "source": [
        "texts[3]"
      ]
    },
    {
      "cell_type": "code",
      "execution_count": null,
      "metadata": {
        "id": "39DzUcp0cVv2",
        "outputId": "6232200a-99e2-467d-84db-e1d8bb62b107"
      },
      "outputs": [
        {
          "ename": "HTTPError",
          "evalue": "HTTP Error 429: Too Many Requests",
          "output_type": "error",
          "traceback": [
            "\u001b[1;31m---------------------------------------------------------------------------\u001b[0m",
            "\u001b[1;31mHTTPError\u001b[0m                                 Traceback (most recent call last)",
            "\u001b[1;32m<ipython-input-244-7949675c2431>\u001b[0m in \u001b[0;36m<module>\u001b[1;34m()\u001b[0m\n\u001b[1;32m----> 1\u001b[1;33m \u001b[0mTextBlob\u001b[0m\u001b[1;33m(\u001b[0m\u001b[0mtexts\u001b[0m\u001b[1;33m[\u001b[0m\u001b[1;36m2\u001b[0m\u001b[1;33m]\u001b[0m\u001b[1;33m)\u001b[0m\u001b[1;33m.\u001b[0m\u001b[0mtranslate\u001b[0m\u001b[1;33m(\u001b[0m\u001b[0mto\u001b[0m\u001b[1;33m=\u001b[0m\u001b[1;34m'en'\u001b[0m\u001b[1;33m)\u001b[0m\u001b[1;33m\u001b[0m\u001b[0m\n\u001b[0m",
            "\u001b[1;32m~\\AppData\\Local\\Continuum\\anaconda3\\lib\\site-packages\\textblob\\blob.py\u001b[0m in \u001b[0;36mtranslate\u001b[1;34m(self, from_lang, to)\u001b[0m\n\u001b[0;32m    545\u001b[0m         \"\"\"\n\u001b[0;32m    546\u001b[0m         return self.__class__(self.translator.translate(self.raw,\n\u001b[1;32m--> 547\u001b[1;33m                               from_lang=from_lang, to_lang=to))\n\u001b[0m\u001b[0;32m    548\u001b[0m \u001b[1;33m\u001b[0m\u001b[0m\n\u001b[0;32m    549\u001b[0m     \u001b[1;32mdef\u001b[0m \u001b[0mdetect_language\u001b[0m\u001b[1;33m(\u001b[0m\u001b[0mself\u001b[0m\u001b[1;33m)\u001b[0m\u001b[1;33m:\u001b[0m\u001b[1;33m\u001b[0m\u001b[0m\n",
            "\u001b[1;32m~\\AppData\\Local\\Continuum\\anaconda3\\lib\\site-packages\\textblob\\translate.py\u001b[0m in \u001b[0;36mtranslate\u001b[1;34m(self, source, from_lang, to_lang, host, type_)\u001b[0m\n\u001b[0;32m     52\u001b[0m             \u001b[0mtk\u001b[0m\u001b[1;33m=\u001b[0m\u001b[0m_calculate_tk\u001b[0m\u001b[1;33m(\u001b[0m\u001b[0msource\u001b[0m\u001b[1;33m)\u001b[0m\u001b[1;33m,\u001b[0m\u001b[1;33m\u001b[0m\u001b[0m\n\u001b[0;32m     53\u001b[0m         )\n\u001b[1;32m---> 54\u001b[1;33m         \u001b[0mresponse\u001b[0m \u001b[1;33m=\u001b[0m \u001b[0mself\u001b[0m\u001b[1;33m.\u001b[0m\u001b[0m_request\u001b[0m\u001b[1;33m(\u001b[0m\u001b[0murl\u001b[0m\u001b[1;33m,\u001b[0m \u001b[0mhost\u001b[0m\u001b[1;33m=\u001b[0m\u001b[0mhost\u001b[0m\u001b[1;33m,\u001b[0m \u001b[0mtype_\u001b[0m\u001b[1;33m=\u001b[0m\u001b[0mtype_\u001b[0m\u001b[1;33m,\u001b[0m \u001b[0mdata\u001b[0m\u001b[1;33m=\u001b[0m\u001b[0mdata\u001b[0m\u001b[1;33m)\u001b[0m\u001b[1;33m\u001b[0m\u001b[0m\n\u001b[0m\u001b[0;32m     55\u001b[0m         \u001b[0mresult\u001b[0m \u001b[1;33m=\u001b[0m \u001b[0mjson\u001b[0m\u001b[1;33m.\u001b[0m\u001b[0mloads\u001b[0m\u001b[1;33m(\u001b[0m\u001b[0mresponse\u001b[0m\u001b[1;33m)\u001b[0m\u001b[1;33m\u001b[0m\u001b[0m\n\u001b[0;32m     56\u001b[0m         \u001b[1;32mif\u001b[0m \u001b[0misinstance\u001b[0m\u001b[1;33m(\u001b[0m\u001b[0mresult\u001b[0m\u001b[1;33m,\u001b[0m \u001b[0mlist\u001b[0m\u001b[1;33m)\u001b[0m\u001b[1;33m:\u001b[0m\u001b[1;33m\u001b[0m\u001b[0m\n",
            "\u001b[1;32m~\\AppData\\Local\\Continuum\\anaconda3\\lib\\site-packages\\textblob\\translate.py\u001b[0m in \u001b[0;36m_request\u001b[1;34m(self, url, host, type_, data)\u001b[0m\n\u001b[0;32m     90\u001b[0m         \u001b[1;32mif\u001b[0m \u001b[0mhost\u001b[0m \u001b[1;32mor\u001b[0m \u001b[0mtype_\u001b[0m\u001b[1;33m:\u001b[0m\u001b[1;33m\u001b[0m\u001b[0m\n\u001b[0;32m     91\u001b[0m             \u001b[0mreq\u001b[0m\u001b[1;33m.\u001b[0m\u001b[0mset_proxy\u001b[0m\u001b[1;33m(\u001b[0m\u001b[0mhost\u001b[0m\u001b[1;33m=\u001b[0m\u001b[0mhost\u001b[0m\u001b[1;33m,\u001b[0m \u001b[0mtype\u001b[0m\u001b[1;33m=\u001b[0m\u001b[0mtype_\u001b[0m\u001b[1;33m)\u001b[0m\u001b[1;33m\u001b[0m\u001b[0m\n\u001b[1;32m---> 92\u001b[1;33m         \u001b[0mresp\u001b[0m \u001b[1;33m=\u001b[0m \u001b[0mrequest\u001b[0m\u001b[1;33m.\u001b[0m\u001b[0murlopen\u001b[0m\u001b[1;33m(\u001b[0m\u001b[0mreq\u001b[0m\u001b[1;33m)\u001b[0m\u001b[1;33m\u001b[0m\u001b[0m\n\u001b[0m\u001b[0;32m     93\u001b[0m         \u001b[0mcontent\u001b[0m \u001b[1;33m=\u001b[0m \u001b[0mresp\u001b[0m\u001b[1;33m.\u001b[0m\u001b[0mread\u001b[0m\u001b[1;33m(\u001b[0m\u001b[1;33m)\u001b[0m\u001b[1;33m\u001b[0m\u001b[0m\n\u001b[0;32m     94\u001b[0m         \u001b[1;32mreturn\u001b[0m \u001b[0mcontent\u001b[0m\u001b[1;33m.\u001b[0m\u001b[0mdecode\u001b[0m\u001b[1;33m(\u001b[0m\u001b[1;34m'utf-8'\u001b[0m\u001b[1;33m)\u001b[0m\u001b[1;33m\u001b[0m\u001b[0m\n",
            "\u001b[1;32m~\\AppData\\Local\\Continuum\\anaconda3\\lib\\urllib\\request.py\u001b[0m in \u001b[0;36murlopen\u001b[1;34m(url, data, timeout, cafile, capath, cadefault, context)\u001b[0m\n\u001b[0;32m    220\u001b[0m     \u001b[1;32melse\u001b[0m\u001b[1;33m:\u001b[0m\u001b[1;33m\u001b[0m\u001b[0m\n\u001b[0;32m    221\u001b[0m         \u001b[0mopener\u001b[0m \u001b[1;33m=\u001b[0m \u001b[0m_opener\u001b[0m\u001b[1;33m\u001b[0m\u001b[0m\n\u001b[1;32m--> 222\u001b[1;33m     \u001b[1;32mreturn\u001b[0m \u001b[0mopener\u001b[0m\u001b[1;33m.\u001b[0m\u001b[0mopen\u001b[0m\u001b[1;33m(\u001b[0m\u001b[0murl\u001b[0m\u001b[1;33m,\u001b[0m \u001b[0mdata\u001b[0m\u001b[1;33m,\u001b[0m \u001b[0mtimeout\u001b[0m\u001b[1;33m)\u001b[0m\u001b[1;33m\u001b[0m\u001b[0m\n\u001b[0m\u001b[0;32m    223\u001b[0m \u001b[1;33m\u001b[0m\u001b[0m\n\u001b[0;32m    224\u001b[0m \u001b[1;32mdef\u001b[0m \u001b[0minstall_opener\u001b[0m\u001b[1;33m(\u001b[0m\u001b[0mopener\u001b[0m\u001b[1;33m)\u001b[0m\u001b[1;33m:\u001b[0m\u001b[1;33m\u001b[0m\u001b[0m\n",
            "\u001b[1;32m~\\AppData\\Local\\Continuum\\anaconda3\\lib\\urllib\\request.py\u001b[0m in \u001b[0;36mopen\u001b[1;34m(self, fullurl, data, timeout)\u001b[0m\n\u001b[0;32m    529\u001b[0m         \u001b[1;32mfor\u001b[0m \u001b[0mprocessor\u001b[0m \u001b[1;32min\u001b[0m \u001b[0mself\u001b[0m\u001b[1;33m.\u001b[0m\u001b[0mprocess_response\u001b[0m\u001b[1;33m.\u001b[0m\u001b[0mget\u001b[0m\u001b[1;33m(\u001b[0m\u001b[0mprotocol\u001b[0m\u001b[1;33m,\u001b[0m \u001b[1;33m[\u001b[0m\u001b[1;33m]\u001b[0m\u001b[1;33m)\u001b[0m\u001b[1;33m:\u001b[0m\u001b[1;33m\u001b[0m\u001b[0m\n\u001b[0;32m    530\u001b[0m             \u001b[0mmeth\u001b[0m \u001b[1;33m=\u001b[0m \u001b[0mgetattr\u001b[0m\u001b[1;33m(\u001b[0m\u001b[0mprocessor\u001b[0m\u001b[1;33m,\u001b[0m \u001b[0mmeth_name\u001b[0m\u001b[1;33m)\u001b[0m\u001b[1;33m\u001b[0m\u001b[0m\n\u001b[1;32m--> 531\u001b[1;33m             \u001b[0mresponse\u001b[0m \u001b[1;33m=\u001b[0m \u001b[0mmeth\u001b[0m\u001b[1;33m(\u001b[0m\u001b[0mreq\u001b[0m\u001b[1;33m,\u001b[0m \u001b[0mresponse\u001b[0m\u001b[1;33m)\u001b[0m\u001b[1;33m\u001b[0m\u001b[0m\n\u001b[0m\u001b[0;32m    532\u001b[0m \u001b[1;33m\u001b[0m\u001b[0m\n\u001b[0;32m    533\u001b[0m         \u001b[1;32mreturn\u001b[0m \u001b[0mresponse\u001b[0m\u001b[1;33m\u001b[0m\u001b[0m\n",
            "\u001b[1;32m~\\AppData\\Local\\Continuum\\anaconda3\\lib\\urllib\\request.py\u001b[0m in \u001b[0;36mhttp_response\u001b[1;34m(self, request, response)\u001b[0m\n\u001b[0;32m    639\u001b[0m         \u001b[1;32mif\u001b[0m \u001b[1;32mnot\u001b[0m \u001b[1;33m(\u001b[0m\u001b[1;36m200\u001b[0m \u001b[1;33m<=\u001b[0m \u001b[0mcode\u001b[0m \u001b[1;33m<\u001b[0m \u001b[1;36m300\u001b[0m\u001b[1;33m)\u001b[0m\u001b[1;33m:\u001b[0m\u001b[1;33m\u001b[0m\u001b[0m\n\u001b[0;32m    640\u001b[0m             response = self.parent.error(\n\u001b[1;32m--> 641\u001b[1;33m                 'http', request, response, code, msg, hdrs)\n\u001b[0m\u001b[0;32m    642\u001b[0m \u001b[1;33m\u001b[0m\u001b[0m\n\u001b[0;32m    643\u001b[0m         \u001b[1;32mreturn\u001b[0m \u001b[0mresponse\u001b[0m\u001b[1;33m\u001b[0m\u001b[0m\n",
            "\u001b[1;32m~\\AppData\\Local\\Continuum\\anaconda3\\lib\\urllib\\request.py\u001b[0m in \u001b[0;36merror\u001b[1;34m(self, proto, *args)\u001b[0m\n\u001b[0;32m    561\u001b[0m             \u001b[0mhttp_err\u001b[0m \u001b[1;33m=\u001b[0m \u001b[1;36m0\u001b[0m\u001b[1;33m\u001b[0m\u001b[0m\n\u001b[0;32m    562\u001b[0m         \u001b[0margs\u001b[0m \u001b[1;33m=\u001b[0m \u001b[1;33m(\u001b[0m\u001b[0mdict\u001b[0m\u001b[1;33m,\u001b[0m \u001b[0mproto\u001b[0m\u001b[1;33m,\u001b[0m \u001b[0mmeth_name\u001b[0m\u001b[1;33m)\u001b[0m \u001b[1;33m+\u001b[0m \u001b[0margs\u001b[0m\u001b[1;33m\u001b[0m\u001b[0m\n\u001b[1;32m--> 563\u001b[1;33m         \u001b[0mresult\u001b[0m \u001b[1;33m=\u001b[0m \u001b[0mself\u001b[0m\u001b[1;33m.\u001b[0m\u001b[0m_call_chain\u001b[0m\u001b[1;33m(\u001b[0m\u001b[1;33m*\u001b[0m\u001b[0margs\u001b[0m\u001b[1;33m)\u001b[0m\u001b[1;33m\u001b[0m\u001b[0m\n\u001b[0m\u001b[0;32m    564\u001b[0m         \u001b[1;32mif\u001b[0m \u001b[0mresult\u001b[0m\u001b[1;33m:\u001b[0m\u001b[1;33m\u001b[0m\u001b[0m\n\u001b[0;32m    565\u001b[0m             \u001b[1;32mreturn\u001b[0m \u001b[0mresult\u001b[0m\u001b[1;33m\u001b[0m\u001b[0m\n",
            "\u001b[1;32m~\\AppData\\Local\\Continuum\\anaconda3\\lib\\urllib\\request.py\u001b[0m in \u001b[0;36m_call_chain\u001b[1;34m(self, chain, kind, meth_name, *args)\u001b[0m\n\u001b[0;32m    501\u001b[0m         \u001b[1;32mfor\u001b[0m \u001b[0mhandler\u001b[0m \u001b[1;32min\u001b[0m \u001b[0mhandlers\u001b[0m\u001b[1;33m:\u001b[0m\u001b[1;33m\u001b[0m\u001b[0m\n\u001b[0;32m    502\u001b[0m             \u001b[0mfunc\u001b[0m \u001b[1;33m=\u001b[0m \u001b[0mgetattr\u001b[0m\u001b[1;33m(\u001b[0m\u001b[0mhandler\u001b[0m\u001b[1;33m,\u001b[0m \u001b[0mmeth_name\u001b[0m\u001b[1;33m)\u001b[0m\u001b[1;33m\u001b[0m\u001b[0m\n\u001b[1;32m--> 503\u001b[1;33m             \u001b[0mresult\u001b[0m \u001b[1;33m=\u001b[0m \u001b[0mfunc\u001b[0m\u001b[1;33m(\u001b[0m\u001b[1;33m*\u001b[0m\u001b[0margs\u001b[0m\u001b[1;33m)\u001b[0m\u001b[1;33m\u001b[0m\u001b[0m\n\u001b[0m\u001b[0;32m    504\u001b[0m             \u001b[1;32mif\u001b[0m \u001b[0mresult\u001b[0m \u001b[1;32mis\u001b[0m \u001b[1;32mnot\u001b[0m \u001b[1;32mNone\u001b[0m\u001b[1;33m:\u001b[0m\u001b[1;33m\u001b[0m\u001b[0m\n\u001b[0;32m    505\u001b[0m                 \u001b[1;32mreturn\u001b[0m \u001b[0mresult\u001b[0m\u001b[1;33m\u001b[0m\u001b[0m\n",
            "\u001b[1;32m~\\AppData\\Local\\Continuum\\anaconda3\\lib\\urllib\\request.py\u001b[0m in \u001b[0;36mhttp_error_302\u001b[1;34m(self, req, fp, code, msg, headers)\u001b[0m\n\u001b[0;32m    753\u001b[0m         \u001b[0mfp\u001b[0m\u001b[1;33m.\u001b[0m\u001b[0mclose\u001b[0m\u001b[1;33m(\u001b[0m\u001b[1;33m)\u001b[0m\u001b[1;33m\u001b[0m\u001b[0m\n\u001b[0;32m    754\u001b[0m \u001b[1;33m\u001b[0m\u001b[0m\n\u001b[1;32m--> 755\u001b[1;33m         \u001b[1;32mreturn\u001b[0m \u001b[0mself\u001b[0m\u001b[1;33m.\u001b[0m\u001b[0mparent\u001b[0m\u001b[1;33m.\u001b[0m\u001b[0mopen\u001b[0m\u001b[1;33m(\u001b[0m\u001b[0mnew\u001b[0m\u001b[1;33m,\u001b[0m \u001b[0mtimeout\u001b[0m\u001b[1;33m=\u001b[0m\u001b[0mreq\u001b[0m\u001b[1;33m.\u001b[0m\u001b[0mtimeout\u001b[0m\u001b[1;33m)\u001b[0m\u001b[1;33m\u001b[0m\u001b[0m\n\u001b[0m\u001b[0;32m    756\u001b[0m \u001b[1;33m\u001b[0m\u001b[0m\n\u001b[0;32m    757\u001b[0m     \u001b[0mhttp_error_301\u001b[0m \u001b[1;33m=\u001b[0m \u001b[0mhttp_error_303\u001b[0m \u001b[1;33m=\u001b[0m \u001b[0mhttp_error_307\u001b[0m \u001b[1;33m=\u001b[0m \u001b[0mhttp_error_302\u001b[0m\u001b[1;33m\u001b[0m\u001b[0m\n",
            "\u001b[1;32m~\\AppData\\Local\\Continuum\\anaconda3\\lib\\urllib\\request.py\u001b[0m in \u001b[0;36mopen\u001b[1;34m(self, fullurl, data, timeout)\u001b[0m\n\u001b[0;32m    529\u001b[0m         \u001b[1;32mfor\u001b[0m \u001b[0mprocessor\u001b[0m \u001b[1;32min\u001b[0m \u001b[0mself\u001b[0m\u001b[1;33m.\u001b[0m\u001b[0mprocess_response\u001b[0m\u001b[1;33m.\u001b[0m\u001b[0mget\u001b[0m\u001b[1;33m(\u001b[0m\u001b[0mprotocol\u001b[0m\u001b[1;33m,\u001b[0m \u001b[1;33m[\u001b[0m\u001b[1;33m]\u001b[0m\u001b[1;33m)\u001b[0m\u001b[1;33m:\u001b[0m\u001b[1;33m\u001b[0m\u001b[0m\n\u001b[0;32m    530\u001b[0m             \u001b[0mmeth\u001b[0m \u001b[1;33m=\u001b[0m \u001b[0mgetattr\u001b[0m\u001b[1;33m(\u001b[0m\u001b[0mprocessor\u001b[0m\u001b[1;33m,\u001b[0m \u001b[0mmeth_name\u001b[0m\u001b[1;33m)\u001b[0m\u001b[1;33m\u001b[0m\u001b[0m\n\u001b[1;32m--> 531\u001b[1;33m             \u001b[0mresponse\u001b[0m \u001b[1;33m=\u001b[0m \u001b[0mmeth\u001b[0m\u001b[1;33m(\u001b[0m\u001b[0mreq\u001b[0m\u001b[1;33m,\u001b[0m \u001b[0mresponse\u001b[0m\u001b[1;33m)\u001b[0m\u001b[1;33m\u001b[0m\u001b[0m\n\u001b[0m\u001b[0;32m    532\u001b[0m \u001b[1;33m\u001b[0m\u001b[0m\n\u001b[0;32m    533\u001b[0m         \u001b[1;32mreturn\u001b[0m \u001b[0mresponse\u001b[0m\u001b[1;33m\u001b[0m\u001b[0m\n",
            "\u001b[1;32m~\\AppData\\Local\\Continuum\\anaconda3\\lib\\urllib\\request.py\u001b[0m in \u001b[0;36mhttp_response\u001b[1;34m(self, request, response)\u001b[0m\n\u001b[0;32m    639\u001b[0m         \u001b[1;32mif\u001b[0m \u001b[1;32mnot\u001b[0m \u001b[1;33m(\u001b[0m\u001b[1;36m200\u001b[0m \u001b[1;33m<=\u001b[0m \u001b[0mcode\u001b[0m \u001b[1;33m<\u001b[0m \u001b[1;36m300\u001b[0m\u001b[1;33m)\u001b[0m\u001b[1;33m:\u001b[0m\u001b[1;33m\u001b[0m\u001b[0m\n\u001b[0;32m    640\u001b[0m             response = self.parent.error(\n\u001b[1;32m--> 641\u001b[1;33m                 'http', request, response, code, msg, hdrs)\n\u001b[0m\u001b[0;32m    642\u001b[0m \u001b[1;33m\u001b[0m\u001b[0m\n\u001b[0;32m    643\u001b[0m         \u001b[1;32mreturn\u001b[0m \u001b[0mresponse\u001b[0m\u001b[1;33m\u001b[0m\u001b[0m\n",
            "\u001b[1;32m~\\AppData\\Local\\Continuum\\anaconda3\\lib\\urllib\\request.py\u001b[0m in \u001b[0;36merror\u001b[1;34m(self, proto, *args)\u001b[0m\n\u001b[0;32m    567\u001b[0m         \u001b[1;32mif\u001b[0m \u001b[0mhttp_err\u001b[0m\u001b[1;33m:\u001b[0m\u001b[1;33m\u001b[0m\u001b[0m\n\u001b[0;32m    568\u001b[0m             \u001b[0margs\u001b[0m \u001b[1;33m=\u001b[0m \u001b[1;33m(\u001b[0m\u001b[0mdict\u001b[0m\u001b[1;33m,\u001b[0m \u001b[1;34m'default'\u001b[0m\u001b[1;33m,\u001b[0m \u001b[1;34m'http_error_default'\u001b[0m\u001b[1;33m)\u001b[0m \u001b[1;33m+\u001b[0m \u001b[0morig_args\u001b[0m\u001b[1;33m\u001b[0m\u001b[0m\n\u001b[1;32m--> 569\u001b[1;33m             \u001b[1;32mreturn\u001b[0m \u001b[0mself\u001b[0m\u001b[1;33m.\u001b[0m\u001b[0m_call_chain\u001b[0m\u001b[1;33m(\u001b[0m\u001b[1;33m*\u001b[0m\u001b[0margs\u001b[0m\u001b[1;33m)\u001b[0m\u001b[1;33m\u001b[0m\u001b[0m\n\u001b[0m\u001b[0;32m    570\u001b[0m \u001b[1;33m\u001b[0m\u001b[0m\n\u001b[0;32m    571\u001b[0m \u001b[1;31m# XXX probably also want an abstract factory that knows when it makes\u001b[0m\u001b[1;33m\u001b[0m\u001b[1;33m\u001b[0m\u001b[0m\n",
            "\u001b[1;32m~\\AppData\\Local\\Continuum\\anaconda3\\lib\\urllib\\request.py\u001b[0m in \u001b[0;36m_call_chain\u001b[1;34m(self, chain, kind, meth_name, *args)\u001b[0m\n\u001b[0;32m    501\u001b[0m         \u001b[1;32mfor\u001b[0m \u001b[0mhandler\u001b[0m \u001b[1;32min\u001b[0m \u001b[0mhandlers\u001b[0m\u001b[1;33m:\u001b[0m\u001b[1;33m\u001b[0m\u001b[0m\n\u001b[0;32m    502\u001b[0m             \u001b[0mfunc\u001b[0m \u001b[1;33m=\u001b[0m \u001b[0mgetattr\u001b[0m\u001b[1;33m(\u001b[0m\u001b[0mhandler\u001b[0m\u001b[1;33m,\u001b[0m \u001b[0mmeth_name\u001b[0m\u001b[1;33m)\u001b[0m\u001b[1;33m\u001b[0m\u001b[0m\n\u001b[1;32m--> 503\u001b[1;33m             \u001b[0mresult\u001b[0m \u001b[1;33m=\u001b[0m \u001b[0mfunc\u001b[0m\u001b[1;33m(\u001b[0m\u001b[1;33m*\u001b[0m\u001b[0margs\u001b[0m\u001b[1;33m)\u001b[0m\u001b[1;33m\u001b[0m\u001b[0m\n\u001b[0m\u001b[0;32m    504\u001b[0m             \u001b[1;32mif\u001b[0m \u001b[0mresult\u001b[0m \u001b[1;32mis\u001b[0m \u001b[1;32mnot\u001b[0m \u001b[1;32mNone\u001b[0m\u001b[1;33m:\u001b[0m\u001b[1;33m\u001b[0m\u001b[0m\n\u001b[0;32m    505\u001b[0m                 \u001b[1;32mreturn\u001b[0m \u001b[0mresult\u001b[0m\u001b[1;33m\u001b[0m\u001b[0m\n",
            "\u001b[1;32m~\\AppData\\Local\\Continuum\\anaconda3\\lib\\urllib\\request.py\u001b[0m in \u001b[0;36mhttp_error_default\u001b[1;34m(self, req, fp, code, msg, hdrs)\u001b[0m\n\u001b[0;32m    647\u001b[0m \u001b[1;32mclass\u001b[0m \u001b[0mHTTPDefaultErrorHandler\u001b[0m\u001b[1;33m(\u001b[0m\u001b[0mBaseHandler\u001b[0m\u001b[1;33m)\u001b[0m\u001b[1;33m:\u001b[0m\u001b[1;33m\u001b[0m\u001b[0m\n\u001b[0;32m    648\u001b[0m     \u001b[1;32mdef\u001b[0m \u001b[0mhttp_error_default\u001b[0m\u001b[1;33m(\u001b[0m\u001b[0mself\u001b[0m\u001b[1;33m,\u001b[0m \u001b[0mreq\u001b[0m\u001b[1;33m,\u001b[0m \u001b[0mfp\u001b[0m\u001b[1;33m,\u001b[0m \u001b[0mcode\u001b[0m\u001b[1;33m,\u001b[0m \u001b[0mmsg\u001b[0m\u001b[1;33m,\u001b[0m \u001b[0mhdrs\u001b[0m\u001b[1;33m)\u001b[0m\u001b[1;33m:\u001b[0m\u001b[1;33m\u001b[0m\u001b[0m\n\u001b[1;32m--> 649\u001b[1;33m         \u001b[1;32mraise\u001b[0m \u001b[0mHTTPError\u001b[0m\u001b[1;33m(\u001b[0m\u001b[0mreq\u001b[0m\u001b[1;33m.\u001b[0m\u001b[0mfull_url\u001b[0m\u001b[1;33m,\u001b[0m \u001b[0mcode\u001b[0m\u001b[1;33m,\u001b[0m \u001b[0mmsg\u001b[0m\u001b[1;33m,\u001b[0m \u001b[0mhdrs\u001b[0m\u001b[1;33m,\u001b[0m \u001b[0mfp\u001b[0m\u001b[1;33m)\u001b[0m\u001b[1;33m\u001b[0m\u001b[0m\n\u001b[0m\u001b[0;32m    650\u001b[0m \u001b[1;33m\u001b[0m\u001b[0m\n\u001b[0;32m    651\u001b[0m \u001b[1;32mclass\u001b[0m \u001b[0mHTTPRedirectHandler\u001b[0m\u001b[1;33m(\u001b[0m\u001b[0mBaseHandler\u001b[0m\u001b[1;33m)\u001b[0m\u001b[1;33m:\u001b[0m\u001b[1;33m\u001b[0m\u001b[0m\n",
            "\u001b[1;31mHTTPError\u001b[0m: HTTP Error 429: Too Many Requests"
          ]
        }
      ],
      "source": [
        "TextBlob(texts[2]).translate(to='en')"
      ]
    },
    {
      "cell_type": "code",
      "execution_count": null,
      "metadata": {
        "id": "IeizVTgEcVv2",
        "outputId": "2fb1ec8c-56ab-46bc-cf4a-52d5aaa0bc3c"
      },
      "outputs": [
        {
          "data": {
            "text/plain": [
              "'zh-TW'"
            ]
          },
          "execution_count": 201,
          "metadata": {},
          "output_type": "execute_result"
        }
      ],
      "source": [
        "TextBlob('我最可愛').detect_language()"
      ]
    },
    {
      "cell_type": "code",
      "execution_count": null,
      "metadata": {
        "id": "BEzOBe8OcVv2",
        "outputId": "baf7f47e-2e6f-406b-ac60-774b5c9a812e"
      },
      "outputs": [
        {
          "data": {
            "text/plain": [
              "0.8924908809028442"
            ]
          },
          "execution_count": 203,
          "metadata": {},
          "output_type": "execute_result"
        }
      ],
      "source": [
        "get_sentiment('我最可愛')"
      ]
    },
    {
      "cell_type": "code",
      "execution_count": null,
      "metadata": {
        "id": "ZmxpHbCGcVv2",
        "outputId": "a44f578c-4f58-44ef-ce42-3f5ae33fade3"
      },
      "outputs": [
        {
          "ename": "HTTPError",
          "evalue": "HTTP Error 429: Too Many Requests",
          "output_type": "error",
          "traceback": [
            "\u001b[1;31m---------------------------------------------------------------------------\u001b[0m",
            "\u001b[1;31mHTTPError\u001b[0m                                 Traceback (most recent call last)",
            "\u001b[1;32m<ipython-input-243-698ff6967724>\u001b[0m in \u001b[0;36m<module>\u001b[1;34m()\u001b[0m\n\u001b[1;32m----> 1\u001b[1;33m \u001b[0ms\u001b[0m\u001b[1;33m=\u001b[0m\u001b[0mTextBlob\u001b[0m\u001b[1;33m(\u001b[0m\u001b[1;34m'我最可愛'\u001b[0m\u001b[1;33m)\u001b[0m\u001b[1;33m.\u001b[0m\u001b[0mtranslate\u001b[0m\u001b[1;33m(\u001b[0m\u001b[0mto\u001b[0m\u001b[1;33m=\u001b[0m\u001b[1;34m'en'\u001b[0m\u001b[1;33m)\u001b[0m\u001b[1;33m\u001b[0m\u001b[0m\n\u001b[0m",
            "\u001b[1;32m~\\AppData\\Local\\Continuum\\anaconda3\\lib\\site-packages\\textblob\\blob.py\u001b[0m in \u001b[0;36mtranslate\u001b[1;34m(self, from_lang, to)\u001b[0m\n\u001b[0;32m    545\u001b[0m         \"\"\"\n\u001b[0;32m    546\u001b[0m         return self.__class__(self.translator.translate(self.raw,\n\u001b[1;32m--> 547\u001b[1;33m                               from_lang=from_lang, to_lang=to))\n\u001b[0m\u001b[0;32m    548\u001b[0m \u001b[1;33m\u001b[0m\u001b[0m\n\u001b[0;32m    549\u001b[0m     \u001b[1;32mdef\u001b[0m \u001b[0mdetect_language\u001b[0m\u001b[1;33m(\u001b[0m\u001b[0mself\u001b[0m\u001b[1;33m)\u001b[0m\u001b[1;33m:\u001b[0m\u001b[1;33m\u001b[0m\u001b[0m\n",
            "\u001b[1;32m~\\AppData\\Local\\Continuum\\anaconda3\\lib\\site-packages\\textblob\\translate.py\u001b[0m in \u001b[0;36mtranslate\u001b[1;34m(self, source, from_lang, to_lang, host, type_)\u001b[0m\n\u001b[0;32m     52\u001b[0m             \u001b[0mtk\u001b[0m\u001b[1;33m=\u001b[0m\u001b[0m_calculate_tk\u001b[0m\u001b[1;33m(\u001b[0m\u001b[0msource\u001b[0m\u001b[1;33m)\u001b[0m\u001b[1;33m,\u001b[0m\u001b[1;33m\u001b[0m\u001b[0m\n\u001b[0;32m     53\u001b[0m         )\n\u001b[1;32m---> 54\u001b[1;33m         \u001b[0mresponse\u001b[0m \u001b[1;33m=\u001b[0m \u001b[0mself\u001b[0m\u001b[1;33m.\u001b[0m\u001b[0m_request\u001b[0m\u001b[1;33m(\u001b[0m\u001b[0murl\u001b[0m\u001b[1;33m,\u001b[0m \u001b[0mhost\u001b[0m\u001b[1;33m=\u001b[0m\u001b[0mhost\u001b[0m\u001b[1;33m,\u001b[0m \u001b[0mtype_\u001b[0m\u001b[1;33m=\u001b[0m\u001b[0mtype_\u001b[0m\u001b[1;33m,\u001b[0m \u001b[0mdata\u001b[0m\u001b[1;33m=\u001b[0m\u001b[0mdata\u001b[0m\u001b[1;33m)\u001b[0m\u001b[1;33m\u001b[0m\u001b[0m\n\u001b[0m\u001b[0;32m     55\u001b[0m         \u001b[0mresult\u001b[0m \u001b[1;33m=\u001b[0m \u001b[0mjson\u001b[0m\u001b[1;33m.\u001b[0m\u001b[0mloads\u001b[0m\u001b[1;33m(\u001b[0m\u001b[0mresponse\u001b[0m\u001b[1;33m)\u001b[0m\u001b[1;33m\u001b[0m\u001b[0m\n\u001b[0;32m     56\u001b[0m         \u001b[1;32mif\u001b[0m \u001b[0misinstance\u001b[0m\u001b[1;33m(\u001b[0m\u001b[0mresult\u001b[0m\u001b[1;33m,\u001b[0m \u001b[0mlist\u001b[0m\u001b[1;33m)\u001b[0m\u001b[1;33m:\u001b[0m\u001b[1;33m\u001b[0m\u001b[0m\n",
            "\u001b[1;32m~\\AppData\\Local\\Continuum\\anaconda3\\lib\\site-packages\\textblob\\translate.py\u001b[0m in \u001b[0;36m_request\u001b[1;34m(self, url, host, type_, data)\u001b[0m\n\u001b[0;32m     90\u001b[0m         \u001b[1;32mif\u001b[0m \u001b[0mhost\u001b[0m \u001b[1;32mor\u001b[0m \u001b[0mtype_\u001b[0m\u001b[1;33m:\u001b[0m\u001b[1;33m\u001b[0m\u001b[0m\n\u001b[0;32m     91\u001b[0m             \u001b[0mreq\u001b[0m\u001b[1;33m.\u001b[0m\u001b[0mset_proxy\u001b[0m\u001b[1;33m(\u001b[0m\u001b[0mhost\u001b[0m\u001b[1;33m=\u001b[0m\u001b[0mhost\u001b[0m\u001b[1;33m,\u001b[0m \u001b[0mtype\u001b[0m\u001b[1;33m=\u001b[0m\u001b[0mtype_\u001b[0m\u001b[1;33m)\u001b[0m\u001b[1;33m\u001b[0m\u001b[0m\n\u001b[1;32m---> 92\u001b[1;33m         \u001b[0mresp\u001b[0m \u001b[1;33m=\u001b[0m \u001b[0mrequest\u001b[0m\u001b[1;33m.\u001b[0m\u001b[0murlopen\u001b[0m\u001b[1;33m(\u001b[0m\u001b[0mreq\u001b[0m\u001b[1;33m)\u001b[0m\u001b[1;33m\u001b[0m\u001b[0m\n\u001b[0m\u001b[0;32m     93\u001b[0m         \u001b[0mcontent\u001b[0m \u001b[1;33m=\u001b[0m \u001b[0mresp\u001b[0m\u001b[1;33m.\u001b[0m\u001b[0mread\u001b[0m\u001b[1;33m(\u001b[0m\u001b[1;33m)\u001b[0m\u001b[1;33m\u001b[0m\u001b[0m\n\u001b[0;32m     94\u001b[0m         \u001b[1;32mreturn\u001b[0m \u001b[0mcontent\u001b[0m\u001b[1;33m.\u001b[0m\u001b[0mdecode\u001b[0m\u001b[1;33m(\u001b[0m\u001b[1;34m'utf-8'\u001b[0m\u001b[1;33m)\u001b[0m\u001b[1;33m\u001b[0m\u001b[0m\n",
            "\u001b[1;32m~\\AppData\\Local\\Continuum\\anaconda3\\lib\\urllib\\request.py\u001b[0m in \u001b[0;36murlopen\u001b[1;34m(url, data, timeout, cafile, capath, cadefault, context)\u001b[0m\n\u001b[0;32m    220\u001b[0m     \u001b[1;32melse\u001b[0m\u001b[1;33m:\u001b[0m\u001b[1;33m\u001b[0m\u001b[0m\n\u001b[0;32m    221\u001b[0m         \u001b[0mopener\u001b[0m \u001b[1;33m=\u001b[0m \u001b[0m_opener\u001b[0m\u001b[1;33m\u001b[0m\u001b[0m\n\u001b[1;32m--> 222\u001b[1;33m     \u001b[1;32mreturn\u001b[0m \u001b[0mopener\u001b[0m\u001b[1;33m.\u001b[0m\u001b[0mopen\u001b[0m\u001b[1;33m(\u001b[0m\u001b[0murl\u001b[0m\u001b[1;33m,\u001b[0m \u001b[0mdata\u001b[0m\u001b[1;33m,\u001b[0m \u001b[0mtimeout\u001b[0m\u001b[1;33m)\u001b[0m\u001b[1;33m\u001b[0m\u001b[0m\n\u001b[0m\u001b[0;32m    223\u001b[0m \u001b[1;33m\u001b[0m\u001b[0m\n\u001b[0;32m    224\u001b[0m \u001b[1;32mdef\u001b[0m \u001b[0minstall_opener\u001b[0m\u001b[1;33m(\u001b[0m\u001b[0mopener\u001b[0m\u001b[1;33m)\u001b[0m\u001b[1;33m:\u001b[0m\u001b[1;33m\u001b[0m\u001b[0m\n",
            "\u001b[1;32m~\\AppData\\Local\\Continuum\\anaconda3\\lib\\urllib\\request.py\u001b[0m in \u001b[0;36mopen\u001b[1;34m(self, fullurl, data, timeout)\u001b[0m\n\u001b[0;32m    529\u001b[0m         \u001b[1;32mfor\u001b[0m \u001b[0mprocessor\u001b[0m \u001b[1;32min\u001b[0m \u001b[0mself\u001b[0m\u001b[1;33m.\u001b[0m\u001b[0mprocess_response\u001b[0m\u001b[1;33m.\u001b[0m\u001b[0mget\u001b[0m\u001b[1;33m(\u001b[0m\u001b[0mprotocol\u001b[0m\u001b[1;33m,\u001b[0m \u001b[1;33m[\u001b[0m\u001b[1;33m]\u001b[0m\u001b[1;33m)\u001b[0m\u001b[1;33m:\u001b[0m\u001b[1;33m\u001b[0m\u001b[0m\n\u001b[0;32m    530\u001b[0m             \u001b[0mmeth\u001b[0m \u001b[1;33m=\u001b[0m \u001b[0mgetattr\u001b[0m\u001b[1;33m(\u001b[0m\u001b[0mprocessor\u001b[0m\u001b[1;33m,\u001b[0m \u001b[0mmeth_name\u001b[0m\u001b[1;33m)\u001b[0m\u001b[1;33m\u001b[0m\u001b[0m\n\u001b[1;32m--> 531\u001b[1;33m             \u001b[0mresponse\u001b[0m \u001b[1;33m=\u001b[0m \u001b[0mmeth\u001b[0m\u001b[1;33m(\u001b[0m\u001b[0mreq\u001b[0m\u001b[1;33m,\u001b[0m \u001b[0mresponse\u001b[0m\u001b[1;33m)\u001b[0m\u001b[1;33m\u001b[0m\u001b[0m\n\u001b[0m\u001b[0;32m    532\u001b[0m \u001b[1;33m\u001b[0m\u001b[0m\n\u001b[0;32m    533\u001b[0m         \u001b[1;32mreturn\u001b[0m \u001b[0mresponse\u001b[0m\u001b[1;33m\u001b[0m\u001b[0m\n",
            "\u001b[1;32m~\\AppData\\Local\\Continuum\\anaconda3\\lib\\urllib\\request.py\u001b[0m in \u001b[0;36mhttp_response\u001b[1;34m(self, request, response)\u001b[0m\n\u001b[0;32m    639\u001b[0m         \u001b[1;32mif\u001b[0m \u001b[1;32mnot\u001b[0m \u001b[1;33m(\u001b[0m\u001b[1;36m200\u001b[0m \u001b[1;33m<=\u001b[0m \u001b[0mcode\u001b[0m \u001b[1;33m<\u001b[0m \u001b[1;36m300\u001b[0m\u001b[1;33m)\u001b[0m\u001b[1;33m:\u001b[0m\u001b[1;33m\u001b[0m\u001b[0m\n\u001b[0;32m    640\u001b[0m             response = self.parent.error(\n\u001b[1;32m--> 641\u001b[1;33m                 'http', request, response, code, msg, hdrs)\n\u001b[0m\u001b[0;32m    642\u001b[0m \u001b[1;33m\u001b[0m\u001b[0m\n\u001b[0;32m    643\u001b[0m         \u001b[1;32mreturn\u001b[0m \u001b[0mresponse\u001b[0m\u001b[1;33m\u001b[0m\u001b[0m\n",
            "\u001b[1;32m~\\AppData\\Local\\Continuum\\anaconda3\\lib\\urllib\\request.py\u001b[0m in \u001b[0;36merror\u001b[1;34m(self, proto, *args)\u001b[0m\n\u001b[0;32m    561\u001b[0m             \u001b[0mhttp_err\u001b[0m \u001b[1;33m=\u001b[0m \u001b[1;36m0\u001b[0m\u001b[1;33m\u001b[0m\u001b[0m\n\u001b[0;32m    562\u001b[0m         \u001b[0margs\u001b[0m \u001b[1;33m=\u001b[0m \u001b[1;33m(\u001b[0m\u001b[0mdict\u001b[0m\u001b[1;33m,\u001b[0m \u001b[0mproto\u001b[0m\u001b[1;33m,\u001b[0m \u001b[0mmeth_name\u001b[0m\u001b[1;33m)\u001b[0m \u001b[1;33m+\u001b[0m \u001b[0margs\u001b[0m\u001b[1;33m\u001b[0m\u001b[0m\n\u001b[1;32m--> 563\u001b[1;33m         \u001b[0mresult\u001b[0m \u001b[1;33m=\u001b[0m \u001b[0mself\u001b[0m\u001b[1;33m.\u001b[0m\u001b[0m_call_chain\u001b[0m\u001b[1;33m(\u001b[0m\u001b[1;33m*\u001b[0m\u001b[0margs\u001b[0m\u001b[1;33m)\u001b[0m\u001b[1;33m\u001b[0m\u001b[0m\n\u001b[0m\u001b[0;32m    564\u001b[0m         \u001b[1;32mif\u001b[0m \u001b[0mresult\u001b[0m\u001b[1;33m:\u001b[0m\u001b[1;33m\u001b[0m\u001b[0m\n\u001b[0;32m    565\u001b[0m             \u001b[1;32mreturn\u001b[0m \u001b[0mresult\u001b[0m\u001b[1;33m\u001b[0m\u001b[0m\n",
            "\u001b[1;32m~\\AppData\\Local\\Continuum\\anaconda3\\lib\\urllib\\request.py\u001b[0m in \u001b[0;36m_call_chain\u001b[1;34m(self, chain, kind, meth_name, *args)\u001b[0m\n\u001b[0;32m    501\u001b[0m         \u001b[1;32mfor\u001b[0m \u001b[0mhandler\u001b[0m \u001b[1;32min\u001b[0m \u001b[0mhandlers\u001b[0m\u001b[1;33m:\u001b[0m\u001b[1;33m\u001b[0m\u001b[0m\n\u001b[0;32m    502\u001b[0m             \u001b[0mfunc\u001b[0m \u001b[1;33m=\u001b[0m \u001b[0mgetattr\u001b[0m\u001b[1;33m(\u001b[0m\u001b[0mhandler\u001b[0m\u001b[1;33m,\u001b[0m \u001b[0mmeth_name\u001b[0m\u001b[1;33m)\u001b[0m\u001b[1;33m\u001b[0m\u001b[0m\n\u001b[1;32m--> 503\u001b[1;33m             \u001b[0mresult\u001b[0m \u001b[1;33m=\u001b[0m \u001b[0mfunc\u001b[0m\u001b[1;33m(\u001b[0m\u001b[1;33m*\u001b[0m\u001b[0margs\u001b[0m\u001b[1;33m)\u001b[0m\u001b[1;33m\u001b[0m\u001b[0m\n\u001b[0m\u001b[0;32m    504\u001b[0m             \u001b[1;32mif\u001b[0m \u001b[0mresult\u001b[0m \u001b[1;32mis\u001b[0m \u001b[1;32mnot\u001b[0m \u001b[1;32mNone\u001b[0m\u001b[1;33m:\u001b[0m\u001b[1;33m\u001b[0m\u001b[0m\n\u001b[0;32m    505\u001b[0m                 \u001b[1;32mreturn\u001b[0m \u001b[0mresult\u001b[0m\u001b[1;33m\u001b[0m\u001b[0m\n",
            "\u001b[1;32m~\\AppData\\Local\\Continuum\\anaconda3\\lib\\urllib\\request.py\u001b[0m in \u001b[0;36mhttp_error_302\u001b[1;34m(self, req, fp, code, msg, headers)\u001b[0m\n\u001b[0;32m    753\u001b[0m         \u001b[0mfp\u001b[0m\u001b[1;33m.\u001b[0m\u001b[0mclose\u001b[0m\u001b[1;33m(\u001b[0m\u001b[1;33m)\u001b[0m\u001b[1;33m\u001b[0m\u001b[0m\n\u001b[0;32m    754\u001b[0m \u001b[1;33m\u001b[0m\u001b[0m\n\u001b[1;32m--> 755\u001b[1;33m         \u001b[1;32mreturn\u001b[0m \u001b[0mself\u001b[0m\u001b[1;33m.\u001b[0m\u001b[0mparent\u001b[0m\u001b[1;33m.\u001b[0m\u001b[0mopen\u001b[0m\u001b[1;33m(\u001b[0m\u001b[0mnew\u001b[0m\u001b[1;33m,\u001b[0m \u001b[0mtimeout\u001b[0m\u001b[1;33m=\u001b[0m\u001b[0mreq\u001b[0m\u001b[1;33m.\u001b[0m\u001b[0mtimeout\u001b[0m\u001b[1;33m)\u001b[0m\u001b[1;33m\u001b[0m\u001b[0m\n\u001b[0m\u001b[0;32m    756\u001b[0m \u001b[1;33m\u001b[0m\u001b[0m\n\u001b[0;32m    757\u001b[0m     \u001b[0mhttp_error_301\u001b[0m \u001b[1;33m=\u001b[0m \u001b[0mhttp_error_303\u001b[0m \u001b[1;33m=\u001b[0m \u001b[0mhttp_error_307\u001b[0m \u001b[1;33m=\u001b[0m \u001b[0mhttp_error_302\u001b[0m\u001b[1;33m\u001b[0m\u001b[0m\n",
            "\u001b[1;32m~\\AppData\\Local\\Continuum\\anaconda3\\lib\\urllib\\request.py\u001b[0m in \u001b[0;36mopen\u001b[1;34m(self, fullurl, data, timeout)\u001b[0m\n\u001b[0;32m    529\u001b[0m         \u001b[1;32mfor\u001b[0m \u001b[0mprocessor\u001b[0m \u001b[1;32min\u001b[0m \u001b[0mself\u001b[0m\u001b[1;33m.\u001b[0m\u001b[0mprocess_response\u001b[0m\u001b[1;33m.\u001b[0m\u001b[0mget\u001b[0m\u001b[1;33m(\u001b[0m\u001b[0mprotocol\u001b[0m\u001b[1;33m,\u001b[0m \u001b[1;33m[\u001b[0m\u001b[1;33m]\u001b[0m\u001b[1;33m)\u001b[0m\u001b[1;33m:\u001b[0m\u001b[1;33m\u001b[0m\u001b[0m\n\u001b[0;32m    530\u001b[0m             \u001b[0mmeth\u001b[0m \u001b[1;33m=\u001b[0m \u001b[0mgetattr\u001b[0m\u001b[1;33m(\u001b[0m\u001b[0mprocessor\u001b[0m\u001b[1;33m,\u001b[0m \u001b[0mmeth_name\u001b[0m\u001b[1;33m)\u001b[0m\u001b[1;33m\u001b[0m\u001b[0m\n\u001b[1;32m--> 531\u001b[1;33m             \u001b[0mresponse\u001b[0m \u001b[1;33m=\u001b[0m \u001b[0mmeth\u001b[0m\u001b[1;33m(\u001b[0m\u001b[0mreq\u001b[0m\u001b[1;33m,\u001b[0m \u001b[0mresponse\u001b[0m\u001b[1;33m)\u001b[0m\u001b[1;33m\u001b[0m\u001b[0m\n\u001b[0m\u001b[0;32m    532\u001b[0m \u001b[1;33m\u001b[0m\u001b[0m\n\u001b[0;32m    533\u001b[0m         \u001b[1;32mreturn\u001b[0m \u001b[0mresponse\u001b[0m\u001b[1;33m\u001b[0m\u001b[0m\n",
            "\u001b[1;32m~\\AppData\\Local\\Continuum\\anaconda3\\lib\\urllib\\request.py\u001b[0m in \u001b[0;36mhttp_response\u001b[1;34m(self, request, response)\u001b[0m\n\u001b[0;32m    639\u001b[0m         \u001b[1;32mif\u001b[0m \u001b[1;32mnot\u001b[0m \u001b[1;33m(\u001b[0m\u001b[1;36m200\u001b[0m \u001b[1;33m<=\u001b[0m \u001b[0mcode\u001b[0m \u001b[1;33m<\u001b[0m \u001b[1;36m300\u001b[0m\u001b[1;33m)\u001b[0m\u001b[1;33m:\u001b[0m\u001b[1;33m\u001b[0m\u001b[0m\n\u001b[0;32m    640\u001b[0m             response = self.parent.error(\n\u001b[1;32m--> 641\u001b[1;33m                 'http', request, response, code, msg, hdrs)\n\u001b[0m\u001b[0;32m    642\u001b[0m \u001b[1;33m\u001b[0m\u001b[0m\n\u001b[0;32m    643\u001b[0m         \u001b[1;32mreturn\u001b[0m \u001b[0mresponse\u001b[0m\u001b[1;33m\u001b[0m\u001b[0m\n",
            "\u001b[1;32m~\\AppData\\Local\\Continuum\\anaconda3\\lib\\urllib\\request.py\u001b[0m in \u001b[0;36merror\u001b[1;34m(self, proto, *args)\u001b[0m\n\u001b[0;32m    567\u001b[0m         \u001b[1;32mif\u001b[0m \u001b[0mhttp_err\u001b[0m\u001b[1;33m:\u001b[0m\u001b[1;33m\u001b[0m\u001b[0m\n\u001b[0;32m    568\u001b[0m             \u001b[0margs\u001b[0m \u001b[1;33m=\u001b[0m \u001b[1;33m(\u001b[0m\u001b[0mdict\u001b[0m\u001b[1;33m,\u001b[0m \u001b[1;34m'default'\u001b[0m\u001b[1;33m,\u001b[0m \u001b[1;34m'http_error_default'\u001b[0m\u001b[1;33m)\u001b[0m \u001b[1;33m+\u001b[0m \u001b[0morig_args\u001b[0m\u001b[1;33m\u001b[0m\u001b[0m\n\u001b[1;32m--> 569\u001b[1;33m             \u001b[1;32mreturn\u001b[0m \u001b[0mself\u001b[0m\u001b[1;33m.\u001b[0m\u001b[0m_call_chain\u001b[0m\u001b[1;33m(\u001b[0m\u001b[1;33m*\u001b[0m\u001b[0margs\u001b[0m\u001b[1;33m)\u001b[0m\u001b[1;33m\u001b[0m\u001b[0m\n\u001b[0m\u001b[0;32m    570\u001b[0m \u001b[1;33m\u001b[0m\u001b[0m\n\u001b[0;32m    571\u001b[0m \u001b[1;31m# XXX probably also want an abstract factory that knows when it makes\u001b[0m\u001b[1;33m\u001b[0m\u001b[1;33m\u001b[0m\u001b[0m\n",
            "\u001b[1;32m~\\AppData\\Local\\Continuum\\anaconda3\\lib\\urllib\\request.py\u001b[0m in \u001b[0;36m_call_chain\u001b[1;34m(self, chain, kind, meth_name, *args)\u001b[0m\n\u001b[0;32m    501\u001b[0m         \u001b[1;32mfor\u001b[0m \u001b[0mhandler\u001b[0m \u001b[1;32min\u001b[0m \u001b[0mhandlers\u001b[0m\u001b[1;33m:\u001b[0m\u001b[1;33m\u001b[0m\u001b[0m\n\u001b[0;32m    502\u001b[0m             \u001b[0mfunc\u001b[0m \u001b[1;33m=\u001b[0m \u001b[0mgetattr\u001b[0m\u001b[1;33m(\u001b[0m\u001b[0mhandler\u001b[0m\u001b[1;33m,\u001b[0m \u001b[0mmeth_name\u001b[0m\u001b[1;33m)\u001b[0m\u001b[1;33m\u001b[0m\u001b[0m\n\u001b[1;32m--> 503\u001b[1;33m             \u001b[0mresult\u001b[0m \u001b[1;33m=\u001b[0m \u001b[0mfunc\u001b[0m\u001b[1;33m(\u001b[0m\u001b[1;33m*\u001b[0m\u001b[0margs\u001b[0m\u001b[1;33m)\u001b[0m\u001b[1;33m\u001b[0m\u001b[0m\n\u001b[0m\u001b[0;32m    504\u001b[0m             \u001b[1;32mif\u001b[0m \u001b[0mresult\u001b[0m \u001b[1;32mis\u001b[0m \u001b[1;32mnot\u001b[0m \u001b[1;32mNone\u001b[0m\u001b[1;33m:\u001b[0m\u001b[1;33m\u001b[0m\u001b[0m\n\u001b[0;32m    505\u001b[0m                 \u001b[1;32mreturn\u001b[0m \u001b[0mresult\u001b[0m\u001b[1;33m\u001b[0m\u001b[0m\n",
            "\u001b[1;32m~\\AppData\\Local\\Continuum\\anaconda3\\lib\\urllib\\request.py\u001b[0m in \u001b[0;36mhttp_error_default\u001b[1;34m(self, req, fp, code, msg, hdrs)\u001b[0m\n\u001b[0;32m    647\u001b[0m \u001b[1;32mclass\u001b[0m \u001b[0mHTTPDefaultErrorHandler\u001b[0m\u001b[1;33m(\u001b[0m\u001b[0mBaseHandler\u001b[0m\u001b[1;33m)\u001b[0m\u001b[1;33m:\u001b[0m\u001b[1;33m\u001b[0m\u001b[0m\n\u001b[0;32m    648\u001b[0m     \u001b[1;32mdef\u001b[0m \u001b[0mhttp_error_default\u001b[0m\u001b[1;33m(\u001b[0m\u001b[0mself\u001b[0m\u001b[1;33m,\u001b[0m \u001b[0mreq\u001b[0m\u001b[1;33m,\u001b[0m \u001b[0mfp\u001b[0m\u001b[1;33m,\u001b[0m \u001b[0mcode\u001b[0m\u001b[1;33m,\u001b[0m \u001b[0mmsg\u001b[0m\u001b[1;33m,\u001b[0m \u001b[0mhdrs\u001b[0m\u001b[1;33m)\u001b[0m\u001b[1;33m:\u001b[0m\u001b[1;33m\u001b[0m\u001b[0m\n\u001b[1;32m--> 649\u001b[1;33m         \u001b[1;32mraise\u001b[0m \u001b[0mHTTPError\u001b[0m\u001b[1;33m(\u001b[0m\u001b[0mreq\u001b[0m\u001b[1;33m.\u001b[0m\u001b[0mfull_url\u001b[0m\u001b[1;33m,\u001b[0m \u001b[0mcode\u001b[0m\u001b[1;33m,\u001b[0m \u001b[0mmsg\u001b[0m\u001b[1;33m,\u001b[0m \u001b[0mhdrs\u001b[0m\u001b[1;33m,\u001b[0m \u001b[0mfp\u001b[0m\u001b[1;33m)\u001b[0m\u001b[1;33m\u001b[0m\u001b[0m\n\u001b[0m\u001b[0;32m    650\u001b[0m \u001b[1;33m\u001b[0m\u001b[0m\n\u001b[0;32m    651\u001b[0m \u001b[1;32mclass\u001b[0m \u001b[0mHTTPRedirectHandler\u001b[0m\u001b[1;33m(\u001b[0m\u001b[0mBaseHandler\u001b[0m\u001b[1;33m)\u001b[0m\u001b[1;33m:\u001b[0m\u001b[1;33m\u001b[0m\u001b[0m\n",
            "\u001b[1;31mHTTPError\u001b[0m: HTTP Error 429: Too Many Requests"
          ]
        }
      ],
      "source": [
        "s=TextBlob('我最可愛').translate(to='en')"
      ]
    },
    {
      "cell_type": "code",
      "execution_count": null,
      "metadata": {
        "id": "VAJe0tkFcVv3",
        "outputId": "6c13b092-5f96-4fd4-e82f-57decab1ce9b"
      },
      "outputs": [
        {
          "ename": "HTTPError",
          "evalue": "HTTP Error 429: Too Many Requests",
          "output_type": "error",
          "traceback": [
            "\u001b[1;31m---------------------------------------------------------------------------\u001b[0m",
            "\u001b[1;31mHTTPError\u001b[0m                                 Traceback (most recent call last)",
            "\u001b[1;32m<ipython-input-241-002609c14641>\u001b[0m in \u001b[0;36m<module>\u001b[1;34m()\u001b[0m\n\u001b[1;32m----> 1\u001b[1;33m \u001b[0ms\u001b[0m\u001b[1;33m.\u001b[0m\u001b[0mtranslate\u001b[0m\u001b[1;33m(\u001b[0m\u001b[0mto\u001b[0m\u001b[1;33m=\u001b[0m\u001b[1;34m'en'\u001b[0m\u001b[1;33m)\u001b[0m\u001b[1;33m\u001b[0m\u001b[0m\n\u001b[0m",
            "\u001b[1;32m~\\AppData\\Local\\Continuum\\anaconda3\\lib\\site-packages\\textblob\\blob.py\u001b[0m in \u001b[0;36mtranslate\u001b[1;34m(self, from_lang, to)\u001b[0m\n\u001b[0;32m    545\u001b[0m         \"\"\"\n\u001b[0;32m    546\u001b[0m         return self.__class__(self.translator.translate(self.raw,\n\u001b[1;32m--> 547\u001b[1;33m                               from_lang=from_lang, to_lang=to))\n\u001b[0m\u001b[0;32m    548\u001b[0m \u001b[1;33m\u001b[0m\u001b[0m\n\u001b[0;32m    549\u001b[0m     \u001b[1;32mdef\u001b[0m \u001b[0mdetect_language\u001b[0m\u001b[1;33m(\u001b[0m\u001b[0mself\u001b[0m\u001b[1;33m)\u001b[0m\u001b[1;33m:\u001b[0m\u001b[1;33m\u001b[0m\u001b[0m\n",
            "\u001b[1;32m~\\AppData\\Local\\Continuum\\anaconda3\\lib\\site-packages\\textblob\\translate.py\u001b[0m in \u001b[0;36mtranslate\u001b[1;34m(self, source, from_lang, to_lang, host, type_)\u001b[0m\n\u001b[0;32m     52\u001b[0m             \u001b[0mtk\u001b[0m\u001b[1;33m=\u001b[0m\u001b[0m_calculate_tk\u001b[0m\u001b[1;33m(\u001b[0m\u001b[0msource\u001b[0m\u001b[1;33m)\u001b[0m\u001b[1;33m,\u001b[0m\u001b[1;33m\u001b[0m\u001b[0m\n\u001b[0;32m     53\u001b[0m         )\n\u001b[1;32m---> 54\u001b[1;33m         \u001b[0mresponse\u001b[0m \u001b[1;33m=\u001b[0m \u001b[0mself\u001b[0m\u001b[1;33m.\u001b[0m\u001b[0m_request\u001b[0m\u001b[1;33m(\u001b[0m\u001b[0murl\u001b[0m\u001b[1;33m,\u001b[0m \u001b[0mhost\u001b[0m\u001b[1;33m=\u001b[0m\u001b[0mhost\u001b[0m\u001b[1;33m,\u001b[0m \u001b[0mtype_\u001b[0m\u001b[1;33m=\u001b[0m\u001b[0mtype_\u001b[0m\u001b[1;33m,\u001b[0m \u001b[0mdata\u001b[0m\u001b[1;33m=\u001b[0m\u001b[0mdata\u001b[0m\u001b[1;33m)\u001b[0m\u001b[1;33m\u001b[0m\u001b[0m\n\u001b[0m\u001b[0;32m     55\u001b[0m         \u001b[0mresult\u001b[0m \u001b[1;33m=\u001b[0m \u001b[0mjson\u001b[0m\u001b[1;33m.\u001b[0m\u001b[0mloads\u001b[0m\u001b[1;33m(\u001b[0m\u001b[0mresponse\u001b[0m\u001b[1;33m)\u001b[0m\u001b[1;33m\u001b[0m\u001b[0m\n\u001b[0;32m     56\u001b[0m         \u001b[1;32mif\u001b[0m \u001b[0misinstance\u001b[0m\u001b[1;33m(\u001b[0m\u001b[0mresult\u001b[0m\u001b[1;33m,\u001b[0m \u001b[0mlist\u001b[0m\u001b[1;33m)\u001b[0m\u001b[1;33m:\u001b[0m\u001b[1;33m\u001b[0m\u001b[0m\n",
            "\u001b[1;32m~\\AppData\\Local\\Continuum\\anaconda3\\lib\\site-packages\\textblob\\translate.py\u001b[0m in \u001b[0;36m_request\u001b[1;34m(self, url, host, type_, data)\u001b[0m\n\u001b[0;32m     90\u001b[0m         \u001b[1;32mif\u001b[0m \u001b[0mhost\u001b[0m \u001b[1;32mor\u001b[0m \u001b[0mtype_\u001b[0m\u001b[1;33m:\u001b[0m\u001b[1;33m\u001b[0m\u001b[0m\n\u001b[0;32m     91\u001b[0m             \u001b[0mreq\u001b[0m\u001b[1;33m.\u001b[0m\u001b[0mset_proxy\u001b[0m\u001b[1;33m(\u001b[0m\u001b[0mhost\u001b[0m\u001b[1;33m=\u001b[0m\u001b[0mhost\u001b[0m\u001b[1;33m,\u001b[0m \u001b[0mtype\u001b[0m\u001b[1;33m=\u001b[0m\u001b[0mtype_\u001b[0m\u001b[1;33m)\u001b[0m\u001b[1;33m\u001b[0m\u001b[0m\n\u001b[1;32m---> 92\u001b[1;33m         \u001b[0mresp\u001b[0m \u001b[1;33m=\u001b[0m \u001b[0mrequest\u001b[0m\u001b[1;33m.\u001b[0m\u001b[0murlopen\u001b[0m\u001b[1;33m(\u001b[0m\u001b[0mreq\u001b[0m\u001b[1;33m)\u001b[0m\u001b[1;33m\u001b[0m\u001b[0m\n\u001b[0m\u001b[0;32m     93\u001b[0m         \u001b[0mcontent\u001b[0m \u001b[1;33m=\u001b[0m \u001b[0mresp\u001b[0m\u001b[1;33m.\u001b[0m\u001b[0mread\u001b[0m\u001b[1;33m(\u001b[0m\u001b[1;33m)\u001b[0m\u001b[1;33m\u001b[0m\u001b[0m\n\u001b[0;32m     94\u001b[0m         \u001b[1;32mreturn\u001b[0m \u001b[0mcontent\u001b[0m\u001b[1;33m.\u001b[0m\u001b[0mdecode\u001b[0m\u001b[1;33m(\u001b[0m\u001b[1;34m'utf-8'\u001b[0m\u001b[1;33m)\u001b[0m\u001b[1;33m\u001b[0m\u001b[0m\n",
            "\u001b[1;32m~\\AppData\\Local\\Continuum\\anaconda3\\lib\\urllib\\request.py\u001b[0m in \u001b[0;36murlopen\u001b[1;34m(url, data, timeout, cafile, capath, cadefault, context)\u001b[0m\n\u001b[0;32m    220\u001b[0m     \u001b[1;32melse\u001b[0m\u001b[1;33m:\u001b[0m\u001b[1;33m\u001b[0m\u001b[0m\n\u001b[0;32m    221\u001b[0m         \u001b[0mopener\u001b[0m \u001b[1;33m=\u001b[0m \u001b[0m_opener\u001b[0m\u001b[1;33m\u001b[0m\u001b[0m\n\u001b[1;32m--> 222\u001b[1;33m     \u001b[1;32mreturn\u001b[0m \u001b[0mopener\u001b[0m\u001b[1;33m.\u001b[0m\u001b[0mopen\u001b[0m\u001b[1;33m(\u001b[0m\u001b[0murl\u001b[0m\u001b[1;33m,\u001b[0m \u001b[0mdata\u001b[0m\u001b[1;33m,\u001b[0m \u001b[0mtimeout\u001b[0m\u001b[1;33m)\u001b[0m\u001b[1;33m\u001b[0m\u001b[0m\n\u001b[0m\u001b[0;32m    223\u001b[0m \u001b[1;33m\u001b[0m\u001b[0m\n\u001b[0;32m    224\u001b[0m \u001b[1;32mdef\u001b[0m \u001b[0minstall_opener\u001b[0m\u001b[1;33m(\u001b[0m\u001b[0mopener\u001b[0m\u001b[1;33m)\u001b[0m\u001b[1;33m:\u001b[0m\u001b[1;33m\u001b[0m\u001b[0m\n",
            "\u001b[1;32m~\\AppData\\Local\\Continuum\\anaconda3\\lib\\urllib\\request.py\u001b[0m in \u001b[0;36mopen\u001b[1;34m(self, fullurl, data, timeout)\u001b[0m\n\u001b[0;32m    529\u001b[0m         \u001b[1;32mfor\u001b[0m \u001b[0mprocessor\u001b[0m \u001b[1;32min\u001b[0m \u001b[0mself\u001b[0m\u001b[1;33m.\u001b[0m\u001b[0mprocess_response\u001b[0m\u001b[1;33m.\u001b[0m\u001b[0mget\u001b[0m\u001b[1;33m(\u001b[0m\u001b[0mprotocol\u001b[0m\u001b[1;33m,\u001b[0m \u001b[1;33m[\u001b[0m\u001b[1;33m]\u001b[0m\u001b[1;33m)\u001b[0m\u001b[1;33m:\u001b[0m\u001b[1;33m\u001b[0m\u001b[0m\n\u001b[0;32m    530\u001b[0m             \u001b[0mmeth\u001b[0m \u001b[1;33m=\u001b[0m \u001b[0mgetattr\u001b[0m\u001b[1;33m(\u001b[0m\u001b[0mprocessor\u001b[0m\u001b[1;33m,\u001b[0m \u001b[0mmeth_name\u001b[0m\u001b[1;33m)\u001b[0m\u001b[1;33m\u001b[0m\u001b[0m\n\u001b[1;32m--> 531\u001b[1;33m             \u001b[0mresponse\u001b[0m \u001b[1;33m=\u001b[0m \u001b[0mmeth\u001b[0m\u001b[1;33m(\u001b[0m\u001b[0mreq\u001b[0m\u001b[1;33m,\u001b[0m \u001b[0mresponse\u001b[0m\u001b[1;33m)\u001b[0m\u001b[1;33m\u001b[0m\u001b[0m\n\u001b[0m\u001b[0;32m    532\u001b[0m \u001b[1;33m\u001b[0m\u001b[0m\n\u001b[0;32m    533\u001b[0m         \u001b[1;32mreturn\u001b[0m \u001b[0mresponse\u001b[0m\u001b[1;33m\u001b[0m\u001b[0m\n",
            "\u001b[1;32m~\\AppData\\Local\\Continuum\\anaconda3\\lib\\urllib\\request.py\u001b[0m in \u001b[0;36mhttp_response\u001b[1;34m(self, request, response)\u001b[0m\n\u001b[0;32m    639\u001b[0m         \u001b[1;32mif\u001b[0m \u001b[1;32mnot\u001b[0m \u001b[1;33m(\u001b[0m\u001b[1;36m200\u001b[0m \u001b[1;33m<=\u001b[0m \u001b[0mcode\u001b[0m \u001b[1;33m<\u001b[0m \u001b[1;36m300\u001b[0m\u001b[1;33m)\u001b[0m\u001b[1;33m:\u001b[0m\u001b[1;33m\u001b[0m\u001b[0m\n\u001b[0;32m    640\u001b[0m             response = self.parent.error(\n\u001b[1;32m--> 641\u001b[1;33m                 'http', request, response, code, msg, hdrs)\n\u001b[0m\u001b[0;32m    642\u001b[0m \u001b[1;33m\u001b[0m\u001b[0m\n\u001b[0;32m    643\u001b[0m         \u001b[1;32mreturn\u001b[0m \u001b[0mresponse\u001b[0m\u001b[1;33m\u001b[0m\u001b[0m\n",
            "\u001b[1;32m~\\AppData\\Local\\Continuum\\anaconda3\\lib\\urllib\\request.py\u001b[0m in \u001b[0;36merror\u001b[1;34m(self, proto, *args)\u001b[0m\n\u001b[0;32m    561\u001b[0m             \u001b[0mhttp_err\u001b[0m \u001b[1;33m=\u001b[0m \u001b[1;36m0\u001b[0m\u001b[1;33m\u001b[0m\u001b[0m\n\u001b[0;32m    562\u001b[0m         \u001b[0margs\u001b[0m \u001b[1;33m=\u001b[0m \u001b[1;33m(\u001b[0m\u001b[0mdict\u001b[0m\u001b[1;33m,\u001b[0m \u001b[0mproto\u001b[0m\u001b[1;33m,\u001b[0m \u001b[0mmeth_name\u001b[0m\u001b[1;33m)\u001b[0m \u001b[1;33m+\u001b[0m \u001b[0margs\u001b[0m\u001b[1;33m\u001b[0m\u001b[0m\n\u001b[1;32m--> 563\u001b[1;33m         \u001b[0mresult\u001b[0m \u001b[1;33m=\u001b[0m \u001b[0mself\u001b[0m\u001b[1;33m.\u001b[0m\u001b[0m_call_chain\u001b[0m\u001b[1;33m(\u001b[0m\u001b[1;33m*\u001b[0m\u001b[0margs\u001b[0m\u001b[1;33m)\u001b[0m\u001b[1;33m\u001b[0m\u001b[0m\n\u001b[0m\u001b[0;32m    564\u001b[0m         \u001b[1;32mif\u001b[0m \u001b[0mresult\u001b[0m\u001b[1;33m:\u001b[0m\u001b[1;33m\u001b[0m\u001b[0m\n\u001b[0;32m    565\u001b[0m             \u001b[1;32mreturn\u001b[0m \u001b[0mresult\u001b[0m\u001b[1;33m\u001b[0m\u001b[0m\n",
            "\u001b[1;32m~\\AppData\\Local\\Continuum\\anaconda3\\lib\\urllib\\request.py\u001b[0m in \u001b[0;36m_call_chain\u001b[1;34m(self, chain, kind, meth_name, *args)\u001b[0m\n\u001b[0;32m    501\u001b[0m         \u001b[1;32mfor\u001b[0m \u001b[0mhandler\u001b[0m \u001b[1;32min\u001b[0m \u001b[0mhandlers\u001b[0m\u001b[1;33m:\u001b[0m\u001b[1;33m\u001b[0m\u001b[0m\n\u001b[0;32m    502\u001b[0m             \u001b[0mfunc\u001b[0m \u001b[1;33m=\u001b[0m \u001b[0mgetattr\u001b[0m\u001b[1;33m(\u001b[0m\u001b[0mhandler\u001b[0m\u001b[1;33m,\u001b[0m \u001b[0mmeth_name\u001b[0m\u001b[1;33m)\u001b[0m\u001b[1;33m\u001b[0m\u001b[0m\n\u001b[1;32m--> 503\u001b[1;33m             \u001b[0mresult\u001b[0m \u001b[1;33m=\u001b[0m \u001b[0mfunc\u001b[0m\u001b[1;33m(\u001b[0m\u001b[1;33m*\u001b[0m\u001b[0margs\u001b[0m\u001b[1;33m)\u001b[0m\u001b[1;33m\u001b[0m\u001b[0m\n\u001b[0m\u001b[0;32m    504\u001b[0m             \u001b[1;32mif\u001b[0m \u001b[0mresult\u001b[0m \u001b[1;32mis\u001b[0m \u001b[1;32mnot\u001b[0m \u001b[1;32mNone\u001b[0m\u001b[1;33m:\u001b[0m\u001b[1;33m\u001b[0m\u001b[0m\n\u001b[0;32m    505\u001b[0m                 \u001b[1;32mreturn\u001b[0m \u001b[0mresult\u001b[0m\u001b[1;33m\u001b[0m\u001b[0m\n",
            "\u001b[1;32m~\\AppData\\Local\\Continuum\\anaconda3\\lib\\urllib\\request.py\u001b[0m in \u001b[0;36mhttp_error_302\u001b[1;34m(self, req, fp, code, msg, headers)\u001b[0m\n\u001b[0;32m    753\u001b[0m         \u001b[0mfp\u001b[0m\u001b[1;33m.\u001b[0m\u001b[0mclose\u001b[0m\u001b[1;33m(\u001b[0m\u001b[1;33m)\u001b[0m\u001b[1;33m\u001b[0m\u001b[0m\n\u001b[0;32m    754\u001b[0m \u001b[1;33m\u001b[0m\u001b[0m\n\u001b[1;32m--> 755\u001b[1;33m         \u001b[1;32mreturn\u001b[0m \u001b[0mself\u001b[0m\u001b[1;33m.\u001b[0m\u001b[0mparent\u001b[0m\u001b[1;33m.\u001b[0m\u001b[0mopen\u001b[0m\u001b[1;33m(\u001b[0m\u001b[0mnew\u001b[0m\u001b[1;33m,\u001b[0m \u001b[0mtimeout\u001b[0m\u001b[1;33m=\u001b[0m\u001b[0mreq\u001b[0m\u001b[1;33m.\u001b[0m\u001b[0mtimeout\u001b[0m\u001b[1;33m)\u001b[0m\u001b[1;33m\u001b[0m\u001b[0m\n\u001b[0m\u001b[0;32m    756\u001b[0m \u001b[1;33m\u001b[0m\u001b[0m\n\u001b[0;32m    757\u001b[0m     \u001b[0mhttp_error_301\u001b[0m \u001b[1;33m=\u001b[0m \u001b[0mhttp_error_303\u001b[0m \u001b[1;33m=\u001b[0m \u001b[0mhttp_error_307\u001b[0m \u001b[1;33m=\u001b[0m \u001b[0mhttp_error_302\u001b[0m\u001b[1;33m\u001b[0m\u001b[0m\n",
            "\u001b[1;32m~\\AppData\\Local\\Continuum\\anaconda3\\lib\\urllib\\request.py\u001b[0m in \u001b[0;36mopen\u001b[1;34m(self, fullurl, data, timeout)\u001b[0m\n\u001b[0;32m    529\u001b[0m         \u001b[1;32mfor\u001b[0m \u001b[0mprocessor\u001b[0m \u001b[1;32min\u001b[0m \u001b[0mself\u001b[0m\u001b[1;33m.\u001b[0m\u001b[0mprocess_response\u001b[0m\u001b[1;33m.\u001b[0m\u001b[0mget\u001b[0m\u001b[1;33m(\u001b[0m\u001b[0mprotocol\u001b[0m\u001b[1;33m,\u001b[0m \u001b[1;33m[\u001b[0m\u001b[1;33m]\u001b[0m\u001b[1;33m)\u001b[0m\u001b[1;33m:\u001b[0m\u001b[1;33m\u001b[0m\u001b[0m\n\u001b[0;32m    530\u001b[0m             \u001b[0mmeth\u001b[0m \u001b[1;33m=\u001b[0m \u001b[0mgetattr\u001b[0m\u001b[1;33m(\u001b[0m\u001b[0mprocessor\u001b[0m\u001b[1;33m,\u001b[0m \u001b[0mmeth_name\u001b[0m\u001b[1;33m)\u001b[0m\u001b[1;33m\u001b[0m\u001b[0m\n\u001b[1;32m--> 531\u001b[1;33m             \u001b[0mresponse\u001b[0m \u001b[1;33m=\u001b[0m \u001b[0mmeth\u001b[0m\u001b[1;33m(\u001b[0m\u001b[0mreq\u001b[0m\u001b[1;33m,\u001b[0m \u001b[0mresponse\u001b[0m\u001b[1;33m)\u001b[0m\u001b[1;33m\u001b[0m\u001b[0m\n\u001b[0m\u001b[0;32m    532\u001b[0m \u001b[1;33m\u001b[0m\u001b[0m\n\u001b[0;32m    533\u001b[0m         \u001b[1;32mreturn\u001b[0m \u001b[0mresponse\u001b[0m\u001b[1;33m\u001b[0m\u001b[0m\n",
            "\u001b[1;32m~\\AppData\\Local\\Continuum\\anaconda3\\lib\\urllib\\request.py\u001b[0m in \u001b[0;36mhttp_response\u001b[1;34m(self, request, response)\u001b[0m\n\u001b[0;32m    639\u001b[0m         \u001b[1;32mif\u001b[0m \u001b[1;32mnot\u001b[0m \u001b[1;33m(\u001b[0m\u001b[1;36m200\u001b[0m \u001b[1;33m<=\u001b[0m \u001b[0mcode\u001b[0m \u001b[1;33m<\u001b[0m \u001b[1;36m300\u001b[0m\u001b[1;33m)\u001b[0m\u001b[1;33m:\u001b[0m\u001b[1;33m\u001b[0m\u001b[0m\n\u001b[0;32m    640\u001b[0m             response = self.parent.error(\n\u001b[1;32m--> 641\u001b[1;33m                 'http', request, response, code, msg, hdrs)\n\u001b[0m\u001b[0;32m    642\u001b[0m \u001b[1;33m\u001b[0m\u001b[0m\n\u001b[0;32m    643\u001b[0m         \u001b[1;32mreturn\u001b[0m \u001b[0mresponse\u001b[0m\u001b[1;33m\u001b[0m\u001b[0m\n",
            "\u001b[1;32m~\\AppData\\Local\\Continuum\\anaconda3\\lib\\urllib\\request.py\u001b[0m in \u001b[0;36merror\u001b[1;34m(self, proto, *args)\u001b[0m\n\u001b[0;32m    567\u001b[0m         \u001b[1;32mif\u001b[0m \u001b[0mhttp_err\u001b[0m\u001b[1;33m:\u001b[0m\u001b[1;33m\u001b[0m\u001b[0m\n\u001b[0;32m    568\u001b[0m             \u001b[0margs\u001b[0m \u001b[1;33m=\u001b[0m \u001b[1;33m(\u001b[0m\u001b[0mdict\u001b[0m\u001b[1;33m,\u001b[0m \u001b[1;34m'default'\u001b[0m\u001b[1;33m,\u001b[0m \u001b[1;34m'http_error_default'\u001b[0m\u001b[1;33m)\u001b[0m \u001b[1;33m+\u001b[0m \u001b[0morig_args\u001b[0m\u001b[1;33m\u001b[0m\u001b[0m\n\u001b[1;32m--> 569\u001b[1;33m             \u001b[1;32mreturn\u001b[0m \u001b[0mself\u001b[0m\u001b[1;33m.\u001b[0m\u001b[0m_call_chain\u001b[0m\u001b[1;33m(\u001b[0m\u001b[1;33m*\u001b[0m\u001b[0margs\u001b[0m\u001b[1;33m)\u001b[0m\u001b[1;33m\u001b[0m\u001b[0m\n\u001b[0m\u001b[0;32m    570\u001b[0m \u001b[1;33m\u001b[0m\u001b[0m\n\u001b[0;32m    571\u001b[0m \u001b[1;31m# XXX probably also want an abstract factory that knows when it makes\u001b[0m\u001b[1;33m\u001b[0m\u001b[1;33m\u001b[0m\u001b[0m\n",
            "\u001b[1;32m~\\AppData\\Local\\Continuum\\anaconda3\\lib\\urllib\\request.py\u001b[0m in \u001b[0;36m_call_chain\u001b[1;34m(self, chain, kind, meth_name, *args)\u001b[0m\n\u001b[0;32m    501\u001b[0m         \u001b[1;32mfor\u001b[0m \u001b[0mhandler\u001b[0m \u001b[1;32min\u001b[0m \u001b[0mhandlers\u001b[0m\u001b[1;33m:\u001b[0m\u001b[1;33m\u001b[0m\u001b[0m\n\u001b[0;32m    502\u001b[0m             \u001b[0mfunc\u001b[0m \u001b[1;33m=\u001b[0m \u001b[0mgetattr\u001b[0m\u001b[1;33m(\u001b[0m\u001b[0mhandler\u001b[0m\u001b[1;33m,\u001b[0m \u001b[0mmeth_name\u001b[0m\u001b[1;33m)\u001b[0m\u001b[1;33m\u001b[0m\u001b[0m\n\u001b[1;32m--> 503\u001b[1;33m             \u001b[0mresult\u001b[0m \u001b[1;33m=\u001b[0m \u001b[0mfunc\u001b[0m\u001b[1;33m(\u001b[0m\u001b[1;33m*\u001b[0m\u001b[0margs\u001b[0m\u001b[1;33m)\u001b[0m\u001b[1;33m\u001b[0m\u001b[0m\n\u001b[0m\u001b[0;32m    504\u001b[0m             \u001b[1;32mif\u001b[0m \u001b[0mresult\u001b[0m \u001b[1;32mis\u001b[0m \u001b[1;32mnot\u001b[0m \u001b[1;32mNone\u001b[0m\u001b[1;33m:\u001b[0m\u001b[1;33m\u001b[0m\u001b[0m\n\u001b[0;32m    505\u001b[0m                 \u001b[1;32mreturn\u001b[0m \u001b[0mresult\u001b[0m\u001b[1;33m\u001b[0m\u001b[0m\n",
            "\u001b[1;32m~\\AppData\\Local\\Continuum\\anaconda3\\lib\\urllib\\request.py\u001b[0m in \u001b[0;36mhttp_error_default\u001b[1;34m(self, req, fp, code, msg, hdrs)\u001b[0m\n\u001b[0;32m    647\u001b[0m \u001b[1;32mclass\u001b[0m \u001b[0mHTTPDefaultErrorHandler\u001b[0m\u001b[1;33m(\u001b[0m\u001b[0mBaseHandler\u001b[0m\u001b[1;33m)\u001b[0m\u001b[1;33m:\u001b[0m\u001b[1;33m\u001b[0m\u001b[0m\n\u001b[0;32m    648\u001b[0m     \u001b[1;32mdef\u001b[0m \u001b[0mhttp_error_default\u001b[0m\u001b[1;33m(\u001b[0m\u001b[0mself\u001b[0m\u001b[1;33m,\u001b[0m \u001b[0mreq\u001b[0m\u001b[1;33m,\u001b[0m \u001b[0mfp\u001b[0m\u001b[1;33m,\u001b[0m \u001b[0mcode\u001b[0m\u001b[1;33m,\u001b[0m \u001b[0mmsg\u001b[0m\u001b[1;33m,\u001b[0m \u001b[0mhdrs\u001b[0m\u001b[1;33m)\u001b[0m\u001b[1;33m:\u001b[0m\u001b[1;33m\u001b[0m\u001b[0m\n\u001b[1;32m--> 649\u001b[1;33m         \u001b[1;32mraise\u001b[0m \u001b[0mHTTPError\u001b[0m\u001b[1;33m(\u001b[0m\u001b[0mreq\u001b[0m\u001b[1;33m.\u001b[0m\u001b[0mfull_url\u001b[0m\u001b[1;33m,\u001b[0m \u001b[0mcode\u001b[0m\u001b[1;33m,\u001b[0m \u001b[0mmsg\u001b[0m\u001b[1;33m,\u001b[0m \u001b[0mhdrs\u001b[0m\u001b[1;33m,\u001b[0m \u001b[0mfp\u001b[0m\u001b[1;33m)\u001b[0m\u001b[1;33m\u001b[0m\u001b[0m\n\u001b[0m\u001b[0;32m    650\u001b[0m \u001b[1;33m\u001b[0m\u001b[0m\n\u001b[0;32m    651\u001b[0m \u001b[1;32mclass\u001b[0m \u001b[0mHTTPRedirectHandler\u001b[0m\u001b[1;33m(\u001b[0m\u001b[0mBaseHandler\u001b[0m\u001b[1;33m)\u001b[0m\u001b[1;33m:\u001b[0m\u001b[1;33m\u001b[0m\u001b[0m\n",
            "\u001b[1;31mHTTPError\u001b[0m: HTTP Error 429: Too Many Requests"
          ]
        }
      ],
      "source": [
        "s.translate(to='en')"
      ]
    },
    {
      "cell_type": "code",
      "execution_count": null,
      "metadata": {
        "id": "Ay5RWNrGcVv3",
        "outputId": "a29d3a8d-4faa-4ee0-ac39-196ba6cd1dbb"
      },
      "outputs": [
        {
          "data": {
            "text/plain": [
              "0.0"
            ]
          },
          "execution_count": 242,
          "metadata": {},
          "output_type": "execute_result"
        }
      ],
      "source": [
        "s.polarity"
      ]
    },
    {
      "cell_type": "code",
      "execution_count": null,
      "metadata": {
        "id": "6PKg3te8cVv3"
      },
      "outputs": [],
      "source": [
        ""
      ]
    },
    {
      "cell_type": "code",
      "execution_count": null,
      "metadata": {
        "id": "wB8-A3-acVv3"
      },
      "outputs": [],
      "source": [
        "# spacy\n",
        "import numpy as np\n",
        "import spacy\n",
        "import en_core_web_lg\n",
        "nlp  = en_core_web_lg.load()\n",
        "def get_theme(text):          \n",
        "    food = nlp('food')\n",
        "    travel = nlp('travel')\n",
        "    sport = nlp('sport')\n",
        "    photo = nlp('photo')\n",
        "    text = nlp(text)\n",
        "    scores = [food.similarity(text),travel.similarity(text),sport.similarity(text),photo.similarity(text)]\n",
        "    idx = np.argmax(scores)\n",
        "\n",
        "    category='others'\n",
        "    if scores[idx]>0.4:\n",
        "        if idx==0 :\n",
        "            category = 'food'\n",
        "        elif idx==1:\n",
        "            category = 'travel'\n",
        "        elif idx==2:\n",
        "            category = 'sport'\n",
        "        elif idx==3:\n",
        "            category = 'photo'\n",
        "    return category\n",
        "                "
      ]
    },
    {
      "cell_type": "code",
      "execution_count": null,
      "metadata": {
        "id": "POZkO8_DcVv4",
        "outputId": "2a379bd8-d2ac-4447-aaaf-50af7e230ae0"
      },
      "outputs": [
        {
          "data": {
            "text/plain": [
              "'food'"
            ]
          },
          "execution_count": 268,
          "metadata": {},
          "output_type": "execute_result"
        }
      ],
      "source": [
        "get_theme(df['text'][3])"
      ]
    },
    {
      "cell_type": "code",
      "execution_count": null,
      "metadata": {
        "id": "0KIaR4WHcVv4"
      },
      "outputs": [],
      "source": [
        "photo=nlp('photo')"
      ]
    },
    {
      "cell_type": "code",
      "execution_count": null,
      "metadata": {
        "id": "6uz-s3VncVv4",
        "outputId": "3530a82c-7e9a-4ea3-97bc-0b6d887bcdf4"
      },
      "outputs": [
        {
          "data": {
            "text/plain": [
              "1.0"
            ]
          },
          "execution_count": 257,
          "metadata": {},
          "output_type": "execute_result"
        }
      ],
      "source": [
        "photo.similarity(photo)"
      ]
    },
    {
      "cell_type": "code",
      "execution_count": null,
      "metadata": {
        "id": "6v_ALiLacVv4",
        "outputId": "39570513-5599-4f5d-dd78-8ab2aecce3ee"
      },
      "outputs": [
        {
          "data": {
            "text/plain": [
              "'Watch highlights from the #FIBAAsiaCup 2021 Qualifiers game between #ChineseTaipei & #Malysia !'"
            ]
          },
          "execution_count": 265,
          "metadata": {},
          "output_type": "execute_result"
        }
      ],
      "source": [
        "df['text'][1]"
      ]
    },
    {
      "cell_type": "code",
      "execution_count": null,
      "metadata": {
        "scrolled": true,
        "id": "h2QoB2EwcVv5",
        "outputId": "ceafd883-09a9-4744-c34a-bda8397641c6"
      },
      "outputs": [
        {
          "data": {
            "text/plain": [
              "'🇹🇼 The proposed new Taiwanese professional league initiated by Blackie Chen of the Formosa Dreamers is making big strides forward.\\n\\nThe venture is likely looking to rival or replace the semi-professional Super Basketball League, which have been on a steady decline in recent years.\\n\\nApart from the Dreamers, fellow ASEAN Basketball League team Fubon Braves, and a few current and former SBL teams are reportedly interested in the venture.\\n\\nAccording to an insider report by @rbceddie, several investors are also looking to form a new team that will be based in Zhubei City in northern Taiwan.\\n\\nAlthough still currently in the infancy stage, the progression of the project is giving Taiwanese basketball fans a sign of hope to have a new and thriving domestic professional league.\\n\\nFollow @asiapacifichoops for daily news and updates from around the region 🏀'"
            ]
          },
          "execution_count": 269,
          "metadata": {},
          "output_type": "execute_result"
        }
      ],
      "source": [
        "df['text'][3]"
      ]
    },
    {
      "cell_type": "code",
      "execution_count": null,
      "metadata": {
        "id": "4WNVBVVEcVv5"
      },
      "outputs": [],
      "source": [
        "# regex\n",
        "food = re.findall(r\"#food+\", tweet._json['full_text'])\n",
        "travel = re.findall(r\"#travel+\", tweet._json['full_text'])\n",
        "sport = re.findall(r\"#sport+\", tweet._json['full_text'])\n",
        "photo = re.findall(r\"#photo+\", tweet._json['full_text'])"
      ]
    },
    {
      "cell_type": "code",
      "execution_count": null,
      "metadata": {
        "id": "zdnfY2tMcVv5"
      },
      "outputs": [],
      "source": [
        "## 分類\n",
        "import spacy\n",
        "import en_core_web_lg\n",
        "nlp  = en_core_web_lg.load()\n",
        "\n",
        "def get_theme(text):          \n",
        "    category = 'others'\n",
        "    if(text.find('food') != -1 or text.find('食')!= -1):        \n",
        "        return 'food'\n",
        "    elif(text.find('travel') != -1 or text.find('旅')!= -1 ):        \n",
        "        return 'travel'    \n",
        "    elif(text.find('sport') != -1 or text.find('運動')!= -1 or text.find('basketball')!= -1 or text.find('badminton')!= -1 or text.find('baseball')!= -1):        \n",
        "        return 'sport'\n",
        "    elif(text.find('photo') != -1 or text.find('攝影')!= -1):        \n",
        "        return 'photo' \n",
        "    else:\n",
        "        food = nlp('food')\n",
        "        travel = nlp('travel')\n",
        "        sport = nlp('sport')\n",
        "        photo = nlp('photo')\n",
        "        text = nlp(text)\n",
        "        scores = [food.similarity(text),travel.similarity(text),sport.similarity(text),photo.similarity(text)]\n",
        "        if np.amax(scores) > 0.9:\n",
        "            idx = np.argmax(scores)\n",
        "            if idx == 0:\n",
        "                return 'food'\n",
        "            elif idx == 1:        \n",
        "                return 'travel'    \n",
        "            elif idx == 2:  \n",
        "                return 'sport'\n",
        "            elif idx == 3:       \n",
        "                return 'photo'\n",
        "    return category"
      ]
    },
    {
      "cell_type": "code",
      "execution_count": null,
      "metadata": {
        "id": "dkagdhKNcVv6",
        "outputId": "9f0b39cd-40d2-4c98-cea6-f1be2f55dab7"
      },
      "outputs": [
        {
          "data": {
            "text/plain": [
              "'sport'"
            ]
          },
          "execution_count": 292,
          "metadata": {},
          "output_type": "execute_result"
        }
      ],
      "source": [
        "get_theme(df['text'][0])"
      ]
    },
    {
      "cell_type": "code",
      "execution_count": null,
      "metadata": {
        "id": "8crtGwkQcVv6",
        "outputId": "7fe6f665-0573-45e6-feb9-c730ddc2c3fa"
      },
      "outputs": [
        {
          "data": {
            "text/plain": [
              "'Video of \"3x3.EXE PREMIER 2020 Press Conference\" held at Chinese Taipei on June 15th\\n\"3x3.EXE PREMIER CHINESE TAIPEI 2020 CUP\" will be held at Chinese Taipei from July.\\nI am looking forward to seeing what teams and players will participate!\\n\\n#3x3 #3x3EXE #3x3exepremier #fiba3x3 #3x3games #3x3basketball #basketball #summer #2019 #proleague #globalleague #streetball #3人制バスケットボール #スポーツ #sports #chinesetaipei #absolute #pressconference'"
            ]
          },
          "execution_count": 293,
          "metadata": {},
          "output_type": "execute_result"
        }
      ],
      "source": [
        "df['text'][0]"
      ]
    },
    {
      "cell_type": "code",
      "execution_count": null,
      "metadata": {
        "id": "p1arjnaicVv6",
        "outputId": "137d96b6-41dc-4d6e-bc12-bc58d1ccceff"
      },
      "outputs": [
        {
          "data": {
            "text/plain": [
              "'travel'"
            ]
          },
          "execution_count": 313,
          "metadata": {},
          "output_type": "execute_result"
        }
      ],
      "source": [
        "get_theme(df['text'][5])"
      ]
    },
    {
      "cell_type": "code",
      "execution_count": null,
      "metadata": {
        "id": "BvB7M0GXcVv6"
      },
      "outputs": [],
      "source": [
        "food = nlp('food')\n",
        "travel = nlp('travel')\n",
        "sport = nlp('sport')\n",
        "photo = nlp('photo')\n",
        "text = nlp(text)\n",
        "scores = [food.similarity(text),travel.similarity(text),sport.similarity(text),photo.similarity(text)]\n",
        "idx = np.argmax(scores)"
      ]
    },
    {
      "cell_type": "code",
      "execution_count": null,
      "metadata": {
        "id": "xI1WtV6HcVv7",
        "outputId": "219e89a2-0d7f-47ec-fb55-91b795982693"
      },
      "outputs": [
        {
          "data": {
            "text/plain": [
              "3"
            ]
          },
          "execution_count": 304,
          "metadata": {},
          "output_type": "execute_result"
        }
      ],
      "source": [
        "idx"
      ]
    },
    {
      "cell_type": "code",
      "execution_count": null,
      "metadata": {
        "id": "XcjKxXjFcVv7",
        "outputId": "b2fe858b-426a-48cc-e353-36149ba64b54"
      },
      "outputs": [
        {
          "data": {
            "text/plain": [
              "[0.3440617660892433,\n",
              " 0.3324608138930941,\n",
              " 0.33765675848780197,\n",
              " 0.37604338252602715]"
            ]
          },
          "execution_count": 305,
          "metadata": {},
          "output_type": "execute_result"
        }
      ],
      "source": [
        "scores"
      ]
    },
    {
      "cell_type": "code",
      "execution_count": null,
      "metadata": {
        "id": "AWIkIVLlcVv7",
        "outputId": "aa466e61-169e-4df2-b625-101a73e3444b"
      },
      "outputs": [
        {
          "data": {
            "text/plain": [
              "0.04993564495641317"
            ]
          },
          "execution_count": 300,
          "metadata": {},
          "output_type": "execute_result"
        }
      ],
      "source": [
        "np.amax(scores)"
      ]
    },
    {
      "cell_type": "code",
      "execution_count": null,
      "metadata": {
        "id": "wOr6GOsrcVv7"
      },
      "outputs": [],
      "source": [
        "text=df['text'][0]"
      ]
    },
    {
      "cell_type": "code",
      "execution_count": null,
      "metadata": {
        "id": "-vdcnOX6cVv7",
        "outputId": "528c807e-b07e-478a-b5de-8e2185139c4a"
      },
      "outputs": [
        {
          "data": {
            "text/plain": [
              "'Video of \"3x3.EXE PREMIER 2020 Press Conference\" held at Chinese Taipei on June 15th\\n\"3x3.EXE PREMIER CHINESE TAIPEI 2020 CUP\" will be held at Chinese Taipei from July.\\nI am looking forward to seeing what teams and players will participate!\\n\\n#3x3 #3x3EXE #3x3exepremier #fiba3x3 #3x3games #3x3basketball #basketball #summer #2019 #proleague #globalleague #streetball #3人制バスケットボール #スポーツ #sports #chinesetaipei #absolute #pressconference'"
            ]
          },
          "execution_count": 302,
          "metadata": {},
          "output_type": "execute_result"
        }
      ],
      "source": [
        "text"
      ]
    },
    {
      "cell_type": "code",
      "execution_count": null,
      "metadata": {
        "id": "IyN9Gg1UcVv8",
        "outputId": "1e793194-5f27-4701-a5c4-dc518c75a14a"
      },
      "outputs": [
        {
          "data": {
            "text/plain": [
              "'來找感覺\\n\\n#amazingtaiwan #exploretaiwan #iseetaiwan #iformosa #vscotaiwan #vscocam #vsco #vscofilter #igertaiwan #popdaliy #view #viewtaiwan  #discoverytaiwan #indy_photolife #travel #traveller #bpintaiwan #likeforlikes #like4likes #likeforlikeback  #人像攝影 #volleyball #beachvolleyball #fivb #fivbworldtour #沙灘排球 #排球 #中華臺北 #chinesetaipei #寫真'"
            ]
          },
          "execution_count": 314,
          "metadata": {},
          "output_type": "execute_result"
        }
      ],
      "source": [
        "df['text'][5]"
      ]
    },
    {
      "cell_type": "code",
      "execution_count": null,
      "metadata": {
        "id": "kLCWlVaQcVv8",
        "outputId": "15b8e841-4ccb-473f-a932-263098f53b8d"
      },
      "outputs": [
        {
          "data": {
            "text/html": [
              "<div>\n",
              "<style scoped>\n",
              "    .dataframe tbody tr th:only-of-type {\n",
              "        vertical-align: middle;\n",
              "    }\n",
              "\n",
              "    .dataframe tbody tr th {\n",
              "        vertical-align: top;\n",
              "    }\n",
              "\n",
              "    .dataframe thead th {\n",
              "        text-align: right;\n",
              "    }\n",
              "</style>\n",
              "<table border=\"1\" class=\"dataframe\">\n",
              "  <thead>\n",
              "    <tr style=\"text-align: right;\">\n",
              "      <th></th>\n",
              "      <th>comments_disabled</th>\n",
              "      <th>__typename</th>\n",
              "      <th>__id</th>\n",
              "      <th>text</th>\n",
              "      <th>shortcode</th>\n",
              "      <th>link</th>\n",
              "      <th>edge_media_to_comment</th>\n",
              "      <th>taken_at_timestamp</th>\n",
              "      <th>display_url</th>\n",
              "      <th>edge_liked_by</th>\n",
              "      <th>edge_media_preview_like</th>\n",
              "      <th>owner</th>\n",
              "      <th>is_video</th>\n",
              "      <th>accessibility_caption</th>\n",
              "      <th>count</th>\n",
              "      <th>date</th>\n",
              "      <th>sentiment</th>\n",
              "    </tr>\n",
              "  </thead>\n",
              "  <tbody>\n",
              "    <tr>\n",
              "      <th>0</th>\n",
              "      <td>False</td>\n",
              "      <td>GraphVideo</td>\n",
              "      <td>2334814426258311142</td>\n",
              "      <td>Video of \"3x3.EXE PREMIER 2020 Press Conferenc...</td>\n",
              "      <td>CBm7VmtlYfm</td>\n",
              "      <td>https://www.instagram.com/p/CBm7VmtlYfm/</td>\n",
              "      <td>0</td>\n",
              "      <td>1592551804</td>\n",
              "      <td>https://scontent-hkg4-1.cdninstagram.com/v/t51...</td>\n",
              "      <td>68</td>\n",
              "      <td>68</td>\n",
              "      <td>461806954</td>\n",
              "      <td>True</td>\n",
              "      <td>NaN</td>\n",
              "      <td>1</td>\n",
              "      <td>2020-06-19 15:30:04</td>\n",
              "      <td>0.050000</td>\n",
              "    </tr>\n",
              "    <tr>\n",
              "      <th>1</th>\n",
              "      <td>False</td>\n",
              "      <td>GraphVideo</td>\n",
              "      <td>2334762612091069884</td>\n",
              "      <td>Watch highlights from the #FIBAAsiaCup 2021 Qu...</td>\n",
              "      <td>CBmvjnAjSW8</td>\n",
              "      <td>https://www.instagram.com/p/CBmvjnAjSW8/</td>\n",
              "      <td>7</td>\n",
              "      <td>1592545510</td>\n",
              "      <td>https://scontent-hkg4-1.cdninstagram.com/v/t51...</td>\n",
              "      <td>575</td>\n",
              "      <td>575</td>\n",
              "      <td>6301659220</td>\n",
              "      <td>True</td>\n",
              "      <td>NaN</td>\n",
              "      <td>1</td>\n",
              "      <td>2020-06-19 13:45:10</td>\n",
              "      <td>-0.500000</td>\n",
              "    </tr>\n",
              "    <tr>\n",
              "      <th>2</th>\n",
              "      <td>False</td>\n",
              "      <td>GraphVideo</td>\n",
              "      <td>2334691144557228262</td>\n",
              "      <td>Betapa sulitnya belajar Hatsuon mandarin. Keli...</td>\n",
              "      <td>CBmfTnrlXDm</td>\n",
              "      <td>https://www.instagram.com/p/CBmfTnrlXDm/</td>\n",
              "      <td>4</td>\n",
              "      <td>1592536951</td>\n",
              "      <td>https://scontent-hkg4-1.cdninstagram.com/v/t51...</td>\n",
              "      <td>38</td>\n",
              "      <td>38</td>\n",
              "      <td>3057824583</td>\n",
              "      <td>True</td>\n",
              "      <td>NaN</td>\n",
              "      <td>1</td>\n",
              "      <td>2020-06-19 11:22:31</td>\n",
              "      <td>0.000000</td>\n",
              "    </tr>\n",
              "    <tr>\n",
              "      <th>3</th>\n",
              "      <td>False</td>\n",
              "      <td>GraphImage</td>\n",
              "      <td>2334685614753742224</td>\n",
              "      <td>🇹🇼 The proposed new Taiwanese professional lea...</td>\n",
              "      <td>CBmeDJpnH2Q</td>\n",
              "      <td>https://www.instagram.com/p/CBmeDJpnH2Q/</td>\n",
              "      <td>4</td>\n",
              "      <td>1592536235</td>\n",
              "      <td>https://scontent-hkg4-1.cdninstagram.com/v/t51...</td>\n",
              "      <td>45</td>\n",
              "      <td>45</td>\n",
              "      <td>1436690371</td>\n",
              "      <td>False</td>\n",
              "      <td>Photo by Asia Pacific Hoops in Chinese Taipei ...</td>\n",
              "      <td>1</td>\n",
              "      <td>2020-06-19 11:10:35</td>\n",
              "      <td>0.064394</td>\n",
              "    </tr>\n",
              "    <tr>\n",
              "      <th>4</th>\n",
              "      <td>False</td>\n",
              "      <td>GraphImage</td>\n",
              "      <td>2334513241575513082</td>\n",
              "      <td>Sendiri pun jadi kok ke cafe diaz, toh ada pem...</td>\n",
              "      <td>CBl22ynjdv6</td>\n",
              "      <td>https://www.instagram.com/p/CBl22ynjdv6/</td>\n",
              "      <td>0</td>\n",
              "      <td>1592515686</td>\n",
              "      <td>https://scontent-hkg4-1.cdninstagram.com/v/t51...</td>\n",
              "      <td>12</td>\n",
              "      <td>12</td>\n",
              "      <td>37070583890</td>\n",
              "      <td>False</td>\n",
              "      <td>Photo by 𝑫𝒊𝒂𝒛 𝑪𝒂𝒇𝒆 𝒃𝒚 𝑮𝒐𝒅𝑾𝒊𝒍𝒍 in Cafe Diaz. Im...</td>\n",
              "      <td>1</td>\n",
              "      <td>2020-06-19 05:28:06</td>\n",
              "      <td>0.000000</td>\n",
              "    </tr>\n",
              "    <tr>\n",
              "      <th>5</th>\n",
              "      <td>False</td>\n",
              "      <td>GraphImage</td>\n",
              "      <td>2334259932693944007</td>\n",
              "      <td>來找感覺\\n\\n#amazingtaiwan #exploretaiwan #iseetai...</td>\n",
              "      <td>CBk9QqVplbH</td>\n",
              "      <td>https://www.instagram.com/p/CBk9QqVplbH/</td>\n",
              "      <td>4</td>\n",
              "      <td>1592485489</td>\n",
              "      <td>https://scontent-hkg4-1.cdninstagram.com/v/t51...</td>\n",
              "      <td>42</td>\n",
              "      <td>42</td>\n",
              "      <td>7645490863</td>\n",
              "      <td>False</td>\n",
              "      <td>Photo by 徐振瑋 in 高雄應用科技大學. Image may contain: o...</td>\n",
              "      <td>1</td>\n",
              "      <td>2020-06-18 21:04:49</td>\n",
              "      <td>0.000000</td>\n",
              "    </tr>\n",
              "  </tbody>\n",
              "</table>\n",
              "</div>"
            ],
            "text/plain": [
              "   comments_disabled  __typename                 __id  \\\n",
              "0              False  GraphVideo  2334814426258311142   \n",
              "1              False  GraphVideo  2334762612091069884   \n",
              "2              False  GraphVideo  2334691144557228262   \n",
              "3              False  GraphImage  2334685614753742224   \n",
              "4              False  GraphImage  2334513241575513082   \n",
              "5              False  GraphImage  2334259932693944007   \n",
              "\n",
              "                                                text    shortcode  \\\n",
              "0  Video of \"3x3.EXE PREMIER 2020 Press Conferenc...  CBm7VmtlYfm   \n",
              "1  Watch highlights from the #FIBAAsiaCup 2021 Qu...  CBmvjnAjSW8   \n",
              "2  Betapa sulitnya belajar Hatsuon mandarin. Keli...  CBmfTnrlXDm   \n",
              "3  🇹🇼 The proposed new Taiwanese professional lea...  CBmeDJpnH2Q   \n",
              "4  Sendiri pun jadi kok ke cafe diaz, toh ada pem...  CBl22ynjdv6   \n",
              "5  來找感覺\\n\\n#amazingtaiwan #exploretaiwan #iseetai...  CBk9QqVplbH   \n",
              "\n",
              "                                       link  edge_media_to_comment  \\\n",
              "0  https://www.instagram.com/p/CBm7VmtlYfm/                      0   \n",
              "1  https://www.instagram.com/p/CBmvjnAjSW8/                      7   \n",
              "2  https://www.instagram.com/p/CBmfTnrlXDm/                      4   \n",
              "3  https://www.instagram.com/p/CBmeDJpnH2Q/                      4   \n",
              "4  https://www.instagram.com/p/CBl22ynjdv6/                      0   \n",
              "5  https://www.instagram.com/p/CBk9QqVplbH/                      4   \n",
              "\n",
              "   taken_at_timestamp                                        display_url  \\\n",
              "0          1592551804  https://scontent-hkg4-1.cdninstagram.com/v/t51...   \n",
              "1          1592545510  https://scontent-hkg4-1.cdninstagram.com/v/t51...   \n",
              "2          1592536951  https://scontent-hkg4-1.cdninstagram.com/v/t51...   \n",
              "3          1592536235  https://scontent-hkg4-1.cdninstagram.com/v/t51...   \n",
              "4          1592515686  https://scontent-hkg4-1.cdninstagram.com/v/t51...   \n",
              "5          1592485489  https://scontent-hkg4-1.cdninstagram.com/v/t51...   \n",
              "\n",
              "   edge_liked_by  edge_media_preview_like        owner  is_video  \\\n",
              "0             68                       68    461806954      True   \n",
              "1            575                      575   6301659220      True   \n",
              "2             38                       38   3057824583      True   \n",
              "3             45                       45   1436690371     False   \n",
              "4             12                       12  37070583890     False   \n",
              "5             42                       42   7645490863     False   \n",
              "\n",
              "                               accessibility_caption  count  \\\n",
              "0                                                NaN      1   \n",
              "1                                                NaN      1   \n",
              "2                                                NaN      1   \n",
              "3  Photo by Asia Pacific Hoops in Chinese Taipei ...      1   \n",
              "4  Photo by 𝑫𝒊𝒂𝒛 𝑪𝒂𝒇𝒆 𝒃𝒚 𝑮𝒐𝒅𝑾𝒊𝒍𝒍 in Cafe Diaz. Im...      1   \n",
              "5  Photo by 徐振瑋 in 高雄應用科技大學. Image may contain: o...      1   \n",
              "\n",
              "                 date  sentiment  \n",
              "0 2020-06-19 15:30:04   0.050000  \n",
              "1 2020-06-19 13:45:10  -0.500000  \n",
              "2 2020-06-19 11:22:31   0.000000  \n",
              "3 2020-06-19 11:10:35   0.064394  \n",
              "4 2020-06-19 05:28:06   0.000000  \n",
              "5 2020-06-18 21:04:49   0.000000  "
            ]
          },
          "execution_count": 316,
          "metadata": {},
          "output_type": "execute_result"
        }
      ],
      "source": [
        "df.head(6)"
      ]
    },
    {
      "cell_type": "code",
      "execution_count": null,
      "metadata": {
        "id": "LNBE5cRJcVv8"
      },
      "outputs": [],
      "source": [
        ""
      ]
    }
  ],
  "metadata": {
    "kernelspec": {
      "display_name": "Python 3",
      "language": "python",
      "name": "python3"
    },
    "language_info": {
      "codemirror_mode": {
        "name": "ipython",
        "version": 3
      },
      "file_extension": ".py",
      "mimetype": "text/x-python",
      "name": "python",
      "nbconvert_exporter": "python",
      "pygments_lexer": "ipython3",
      "version": "3.7.0"
    },
    "colab": {
      "name": "IG_LoadCSV.ipynb",
      "provenance": []
    }
  },
  "nbformat": 4,
  "nbformat_minor": 0
}